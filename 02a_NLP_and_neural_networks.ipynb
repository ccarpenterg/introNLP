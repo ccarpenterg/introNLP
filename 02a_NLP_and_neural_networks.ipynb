{
  "nbformat": 4,
  "nbformat_minor": 0,
  "metadata": {
    "colab": {
      "name": "02a_NLP_and_neural_networks.ipynb",
      "provenance": [],
      "toc_visible": true,
      "include_colab_link": true
    },
    "kernelspec": {
      "name": "python3",
      "display_name": "Python 3"
    },
    "accelerator": "GPU"
  },
  "cells": [
    {
      "cell_type": "markdown",
      "metadata": {
        "id": "view-in-github",
        "colab_type": "text"
      },
      "source": [
        "<a href=\"https://colab.research.google.com/github/ccarpenterg/introNLP/blob/master/02a_NLP_and_neural_networks.ipynb\" target=\"_parent\"><img src=\"https://colab.research.google.com/assets/colab-badge.svg\" alt=\"Open In Colab\"/></a>"
      ]
    },
    {
      "cell_type": "markdown",
      "metadata": {
        "id": "esyZKApGGPcH",
        "colab_type": "text"
      },
      "source": [
        "# Natural Language Processing and Neural Networks"
      ]
    },
    {
      "cell_type": "code",
      "metadata": {
        "id": "TYwmBZ4Q5DsS",
        "colab_type": "code",
        "colab": {}
      },
      "source": [
        "!pip install -q tensorflow-datasets==1.3.2"
      ],
      "execution_count": 0,
      "outputs": []
    },
    {
      "cell_type": "code",
      "metadata": {
        "id": "pfTNeUQQlMKc",
        "colab_type": "code",
        "outputId": "fbd789f6-5e5f-48f0-b60b-6e28d9f00447",
        "colab": {
          "base_uri": "https://localhost:8080/",
          "height": 68
        }
      },
      "source": [
        "# load Tensorflow 2\n",
        "%tensorflow_version 2.x\n",
        "import tensorflow as tf\n",
        "\n",
        "from tensorflow import keras\n",
        "\n",
        "import tensorflow_datasets as tfds\n",
        "import numpy as np\n",
        "\n",
        "print(\"Tensorflow version:\", tf.__version__)\n",
        "print(\"Tensorflow datasets version:\", tfds.__version__)"
      ],
      "execution_count": 2,
      "outputs": [
        {
          "output_type": "stream",
          "text": [
            "TensorFlow 2.x selected.\n",
            "Tensorflow version: 2.1.0\n",
            "Tensorflow datasets version: 1.3.2\n"
          ],
          "name": "stdout"
        }
      ]
    },
    {
      "cell_type": "markdown",
      "metadata": {
        "id": "UutrGPKeyNhY",
        "colab_type": "text"
      },
      "source": [
        "## Sentiment Analysis of IMDB Movie Reviews"
      ]
    },
    {
      "cell_type": "code",
      "metadata": {
        "id": "SDCNkzQ1yzs4",
        "colab_type": "code",
        "colab": {}
      },
      "source": [
        "train_validation_split = tfds.Split.TRAIN.subsplit([8, 2])\n",
        "\n",
        "(train_validation_data, test_data), info = tfds.load(\n",
        "    'imdb_reviews/subwords8k',\n",
        "    split = (train_validation_split, tfds.Split.TEST),\n",
        "    as_supervised=True,\n",
        "    with_info=True\n",
        ")\n",
        "\n",
        "train_data, validation_data = train_validation_data"
      ],
      "execution_count": 0,
      "outputs": []
    },
    {
      "cell_type": "code",
      "metadata": {
        "id": "ssA-AG-NcZru",
        "colab_type": "code",
        "outputId": "bd189680-b847-4420-de21-d8db7e9c8415",
        "colab": {
          "base_uri": "https://localhost:8080/",
          "height": 71
        }
      },
      "source": [
        "print(info.description)"
      ],
      "execution_count": 4,
      "outputs": [
        {
          "output_type": "stream",
          "text": [
            "Large Movie Review Dataset.\n",
            "This is a dataset for binary sentiment classification containing substantially more data than previous benchmark datasets. We provide a set of 25,000 highly polar movie reviews for training, and 25,000 for testing. There is additional unlabeled data for use as well.\n"
          ],
          "name": "stdout"
        }
      ]
    },
    {
      "cell_type": "code",
      "metadata": {
        "id": "5kS97aNaXYD9",
        "colab_type": "code",
        "outputId": "3e17221f-f799-4845-aa24-15e87ac8a736",
        "colab": {
          "base_uri": "https://localhost:8080/",
          "height": 51
        }
      },
      "source": [
        "print('Train examples:', info.splits['train'].num_examples)\n",
        "print('Test examples:', info.splits['test'].num_examples)"
      ],
      "execution_count": 5,
      "outputs": [
        {
          "output_type": "stream",
          "text": [
            "Train examples: 25000\n",
            "Test examples: 25000\n"
          ],
          "name": "stdout"
        }
      ]
    },
    {
      "cell_type": "code",
      "metadata": {
        "id": "8gGet9Nszpn7",
        "colab_type": "code",
        "outputId": "831383e0-dec8-42ee-9d84-0fcb155d51b8",
        "colab": {
          "base_uri": "https://localhost:8080/",
          "height": 51
        }
      },
      "source": [
        "encoder = info.features['text'].encoder\n",
        "\n",
        "print('Vocabulary size: {}'.format(encoder.vocab_size))\n",
        "\n",
        "sample_string = 'A great movie!'\n",
        "\n",
        "encoded_string = encoder.encode(sample_string)\n",
        "\n",
        "print(encoded_string)"
      ],
      "execution_count": 6,
      "outputs": [
        {
          "output_type": "stream",
          "text": [
            "Vocabulary size: 8185\n",
            "[133, 122, 65, 7962]\n"
          ],
          "name": "stdout"
        }
      ]
    },
    {
      "cell_type": "code",
      "metadata": {
        "id": "PQpanyJy17Cy",
        "colab_type": "code",
        "outputId": "2d119cd8-d1f7-494d-ff89-2934fb57fe6c",
        "colab": {
          "base_uri": "https://localhost:8080/",
          "height": 85
        }
      },
      "source": [
        "for ts in encoded_string:\n",
        "    print('{} ---> {}'.format(ts, encoder.decode([ts])))"
      ],
      "execution_count": 7,
      "outputs": [
        {
          "output_type": "stream",
          "text": [
            "133 ---> A \n",
            "122 ---> great \n",
            "65 ---> movie\n",
            "7962 ---> !\n"
          ],
          "name": "stdout"
        }
      ]
    },
    {
      "cell_type": "code",
      "metadata": {
        "id": "SY6lScBq74Zt",
        "colab_type": "code",
        "outputId": "000101f2-1423-46b4-abf7-78defed4fec2",
        "colab": {
          "base_uri": "https://localhost:8080/",
          "height": 34
        }
      },
      "source": [
        "print(encoder.decode(encoded_string))"
      ],
      "execution_count": 8,
      "outputs": [
        {
          "output_type": "stream",
          "text": [
            "A great movie!\n"
          ],
          "name": "stdout"
        }
      ]
    },
    {
      "cell_type": "code",
      "metadata": {
        "id": "UzX8BBdH0YcD",
        "colab_type": "code",
        "outputId": "bdda049d-5870-4ccf-9348-0ff9f51f6f89",
        "colab": {
          "base_uri": "https://localhost:8080/",
          "height": 51
        }
      },
      "source": [
        "for train_example, train_label in train_data.take(1):\n",
        "    print(train_example[:7].numpy())\n",
        "    print(train_label.numpy())"
      ],
      "execution_count": 9,
      "outputs": [
        {
          "output_type": "stream",
          "text": [
            "[ 249    4  277  309  560    6 6639]\n",
            "1\n"
          ],
          "name": "stdout"
        }
      ]
    },
    {
      "cell_type": "code",
      "metadata": {
        "id": "-IGU3JFg1ext",
        "colab_type": "code",
        "outputId": "e6f49a24-e8f5-421e-a58c-3f3417388924",
        "colab": {
          "base_uri": "https://localhost:8080/",
          "height": 54
        }
      },
      "source": [
        "print(encoder.decode(train_example))"
      ],
      "execution_count": 10,
      "outputs": [
        {
          "output_type": "stream",
          "text": [
            "As a lifelong fan of Dickens, I have invariably been disappointed by adaptations of his novels.<br /><br />Although his works presented an extremely accurate re-telling of human life at every level in Victorian Britain, throughout them all was a pervasive thread of humour that could be both playful or sarcastic as the narrative dictated. In a way, he was a literary caricaturist and cartoonist. He could be serious and hilarious in the same sentence. He pricked pride, lampooned arrogance, celebrated modesty, and empathised with loneliness and poverty. It may be a cliché, but he was a people's writer.<br /><br />And it is the comedy that is so often missing from his interpretations. At the time of writing, Oliver Twist is being dramatised in serial form on BBC television. All of the misery and cruelty is their, but non of the humour, irony, and savage lampoonery. The result is just a dark, dismal experience: the story penned by a journalist rather than a novelist. It's not really Dickens at all.<br /><br />'Oliver!', on the other hand, is much closer to the mark. The mockery of officialdom is perfectly interpreted, from the blustering beadle to the drunken magistrate. The classic stand-off between the beadle and Mr Brownlow, in which the law is described as 'a ass, a idiot' couldn't have been better done. Harry Secombe is an ideal choice.<br /><br />But the blinding cruelty is also there, the callous indifference of the state, the cold, hunger, poverty and loneliness are all presented just as surely as The Master would have wished.<br /><br />And then there is crime. Ron Moody is a treasure as the sleazy Jewish fence, whilst Oliver Reid has Bill Sykes to perfection.<br /><br />Perhaps not surprisingly, Lionel Bart - himself a Jew from London's east-end - takes a liberty with Fagin by re-interpreting him as a much more benign fellow than was Dicken's original. In the novel, he was utterly ruthless, sending some of his own boys to the gallows in order to protect himself (though he was also caught and hanged). Whereas in the movie, he is presented as something of a wayward father-figure, a sort of charitable thief rather than a corrupter of children, the latter being a long-standing anti-semitic sentiment. Otherwise, very few liberties are taken with Dickens's original. All of the most memorable elements are included. Just enough menace and violence is retained to ensure narrative fidelity whilst at the same time allowing for children' sensibilities. Nancy is still beaten to death, Bullseye narrowly escapes drowning, and Bill Sykes gets a faithfully graphic come-uppance.<br /><br />Every song is excellent, though they do incline towards schmaltz. Mark Lester mimes his wonderfully. Both his and my favourite scene is the one in which the world comes alive to 'who will buy'. It's schmaltzy, but it's Dickens through and through.<br /><br />I could go on. I could commend the wonderful set-pieces, the contrast of the rich and poor. There is top-quality acting from more British regulars than you could shake a stick at.<br /><br />I ought to give it 10 points, but I'm feeling more like Scrooge today. Soak it up with your Christmas dinner. No original has been better realised.\n"
          ],
          "name": "stdout"
        }
      ]
    },
    {
      "cell_type": "markdown",
      "metadata": {
        "id": "IvlW7hhJ_8oy",
        "colab_type": "text"
      },
      "source": [
        "## Preprocessing the Data with Padding"
      ]
    },
    {
      "cell_type": "code",
      "metadata": {
        "id": "rB2brZk37jpa",
        "colab_type": "code",
        "colab": {}
      },
      "source": [
        "BUFFER_SIZE = 1000\n",
        "\n",
        "train_batches = (\n",
        "    train_data\n",
        "    .shuffle(BUFFER_SIZE)\n",
        "    .padded_batch(32, tf.compat.v1.data.get_output_shapes(train_data))\n",
        ")\n",
        "\n",
        "validation_batches = (\n",
        "    validation_data\n",
        "    .padded_batch(32, tf.compat.v1.data.get_output_shapes(validation_data))\n",
        ")\n",
        "\n",
        "test_batches = (\n",
        "    test_data\n",
        "    .padded_batch(32, tf.compat.v1.data.get_output_shapes(train_data))\n",
        ")"
      ],
      "execution_count": 0,
      "outputs": []
    },
    {
      "cell_type": "code",
      "metadata": {
        "id": "BI85YgKXD_Mx",
        "colab_type": "code",
        "outputId": "676f6521-0b52-4042-dd56-3fb52325b5d7",
        "colab": {
          "base_uri": "https://localhost:8080/",
          "height": 85
        }
      },
      "source": [
        "for batch_example, labels in train_batches.take(2):\n",
        "    print(\"Batch shape:\", batch_example.shape)\n",
        "    print(\"Label shape:\", labels.shape)"
      ],
      "execution_count": 12,
      "outputs": [
        {
          "output_type": "stream",
          "text": [
            "Batch shape: (32, 782)\n",
            "Label shape: (32,)\n",
            "Batch shape: (32, 853)\n",
            "Label shape: (32,)\n"
          ],
          "name": "stdout"
        }
      ]
    },
    {
      "cell_type": "markdown",
      "metadata": {
        "id": "6rqh0vlv-Spx",
        "colab_type": "text"
      },
      "source": [
        "## Sequence Processing with a Neural Network\n",
        "\n",
        "* Embedding layer\n",
        "* Global Average Pooling layer\n",
        "* Dense hidden layer\n",
        "* Dense classifier"
      ]
    },
    {
      "cell_type": "code",
      "metadata": {
        "id": "yfo182VsTyXG",
        "colab_type": "code",
        "outputId": "6f346226-4146-49b9-9d80-bdaf5e187bb4",
        "colab": {
          "base_uri": "https://localhost:8080/",
          "height": 357
        }
      },
      "source": [
        "model = keras.Sequential([\n",
        "  keras.layers.Embedding(encoder.vocab_size, 16),\n",
        "  keras.layers.GlobalAveragePooling1D(),\n",
        "  keras.layers.Dropout(0.5),\n",
        "  keras.layers.Dense(16, activation='relu', kernel_regularizer=keras.regularizers.l2(0.001)),\n",
        "  keras.layers.Dropout(0.5),\n",
        "  keras.layers.Dense(1, activation='sigmoid', kernel_regularizer=keras.regularizers.l2(0.001))\n",
        "])\n",
        "\n",
        "model.summary()"
      ],
      "execution_count": 34,
      "outputs": [
        {
          "output_type": "stream",
          "text": [
            "Model: \"sequential_3\"\n",
            "_________________________________________________________________\n",
            "Layer (type)                 Output Shape              Param #   \n",
            "=================================================================\n",
            "embedding_3 (Embedding)      (None, None, 16)          130960    \n",
            "_________________________________________________________________\n",
            "global_average_pooling1d_3 ( (None, 16)                0         \n",
            "_________________________________________________________________\n",
            "dropout_1 (Dropout)          (None, 16)                0         \n",
            "_________________________________________________________________\n",
            "dense_6 (Dense)              (None, 16)                272       \n",
            "_________________________________________________________________\n",
            "dropout_2 (Dropout)          (None, 16)                0         \n",
            "_________________________________________________________________\n",
            "dense_7 (Dense)              (None, 1)                 17        \n",
            "=================================================================\n",
            "Total params: 131,249\n",
            "Trainable params: 131,249\n",
            "Non-trainable params: 0\n",
            "_________________________________________________________________\n"
          ],
          "name": "stdout"
        }
      ]
    },
    {
      "cell_type": "markdown",
      "metadata": {
        "id": "MdolSBzg2RR4",
        "colab_type": "text"
      },
      "source": [
        "Regardless of the sequence length, the NN converts it to a vector of embedding's dimension. This is done through the Global Average Pooling layer.\n",
        "\n",
        "### Counting Parameters\n",
        "\n",
        "**Embedding layer:** 8185 (vocabulary length) * 16 (embedding dimension) = 130,960 parameters\n",
        "\n",
        "**FC layer:** 16 x 16 weights + 16 biases = 272 parameters\n",
        "\n",
        "**Dense classifier:** 1 * 16 weights + 1 bias = 17 parameters\n"
      ]
    },
    {
      "cell_type": "code",
      "metadata": {
        "id": "LYj-OZIQnXV2",
        "colab_type": "code",
        "colab": {}
      },
      "source": [
        "model.compile(optimizer='adam',\n",
        "              loss='binary_crossentropy',\n",
        "              metrics=['accuracy'])"
      ],
      "execution_count": 0,
      "outputs": []
    },
    {
      "cell_type": "code",
      "metadata": {
        "id": "eVnSdX-dnk_I",
        "colab_type": "code",
        "outputId": "75d01ff7-3331-4e48-fdfe-45fe8fd08a00",
        "colab": {
          "base_uri": "https://localhost:8080/",
          "height": 547
        }
      },
      "source": [
        "training_results = model.fit(train_batches,\n",
        "                             epochs=15,\n",
        "                             validation_data=validation_batches,\n",
        "                             validation_steps=30)"
      ],
      "execution_count": 36,
      "outputs": [
        {
          "output_type": "stream",
          "text": [
            "Epoch 1/15\n",
            "625/625 [==============================] - 9s 15ms/step - loss: 0.6990 - accuracy: 0.5149 - val_loss: 0.6941 - val_accuracy: 0.5188\n",
            "Epoch 2/15\n",
            "625/625 [==============================] - 7s 12ms/step - loss: 0.6915 - accuracy: 0.5580 - val_loss: 0.6873 - val_accuracy: 0.5344\n",
            "Epoch 3/15\n",
            "625/625 [==============================] - 7s 12ms/step - loss: 0.6548 - accuracy: 0.6704 - val_loss: 0.5931 - val_accuracy: 0.8177\n",
            "Epoch 4/15\n",
            "625/625 [==============================] - 7s 12ms/step - loss: 0.5662 - accuracy: 0.7717 - val_loss: 0.5058 - val_accuracy: 0.8635\n",
            "Epoch 5/15\n",
            "625/625 [==============================] - 7s 11ms/step - loss: 0.5153 - accuracy: 0.8164 - val_loss: 0.4684 - val_accuracy: 0.8750\n",
            "Epoch 6/15\n",
            "625/625 [==============================] - 7s 12ms/step - loss: 0.4861 - accuracy: 0.8357 - val_loss: 0.4498 - val_accuracy: 0.8760\n",
            "Epoch 7/15\n",
            "625/625 [==============================] - 7s 12ms/step - loss: 0.4681 - accuracy: 0.8483 - val_loss: 0.4328 - val_accuracy: 0.8802\n",
            "Epoch 8/15\n",
            "625/625 [==============================] - 7s 11ms/step - loss: 0.4555 - accuracy: 0.8591 - val_loss: 0.4261 - val_accuracy: 0.8833\n",
            "Epoch 9/15\n",
            "625/625 [==============================] - 7s 12ms/step - loss: 0.4449 - accuracy: 0.8658 - val_loss: 0.4233 - val_accuracy: 0.8844\n",
            "Epoch 10/15\n",
            "625/625 [==============================] - 7s 12ms/step - loss: 0.4338 - accuracy: 0.8711 - val_loss: 0.4124 - val_accuracy: 0.8854\n",
            "Epoch 11/15\n",
            "625/625 [==============================] - 7s 12ms/step - loss: 0.4308 - accuracy: 0.8765 - val_loss: 0.4089 - val_accuracy: 0.8927\n",
            "Epoch 12/15\n",
            "625/625 [==============================] - 7s 12ms/step - loss: 0.4230 - accuracy: 0.8796 - val_loss: 0.4086 - val_accuracy: 0.8896\n",
            "Epoch 13/15\n",
            "625/625 [==============================] - 7s 12ms/step - loss: 0.4207 - accuracy: 0.8839 - val_loss: 0.4046 - val_accuracy: 0.8906\n",
            "Epoch 14/15\n",
            "625/625 [==============================] - 7s 12ms/step - loss: 0.4137 - accuracy: 0.8855 - val_loss: 0.3995 - val_accuracy: 0.8917\n",
            "Epoch 15/15\n",
            "625/625 [==============================] - 7s 12ms/step - loss: 0.4065 - accuracy: 0.8891 - val_loss: 0.3994 - val_accuracy: 0.8906\n"
          ],
          "name": "stdout"
        }
      ]
    },
    {
      "cell_type": "code",
      "metadata": {
        "id": "IJROGKXZ4YHU",
        "colab_type": "code",
        "outputId": "46670e5f-3f5e-437c-b0ae-c0a66e733e14",
        "colab": {
          "base_uri": "https://localhost:8080/",
          "height": 34
        }
      },
      "source": [
        "loss, accuracy = model.evaluate(test_batches, verbose=0)\n",
        "\n",
        "print(\"Test Loss: {:.3f} | Test Accuracy: {:.2f}%\".format(loss, accuracy*100))"
      ],
      "execution_count": 42,
      "outputs": [
        {
          "output_type": "stream",
          "text": [
            "Test Loss: 0.418 | Test Accuracy: 88.00%\n"
          ],
          "name": "stdout"
        }
      ]
    },
    {
      "cell_type": "markdown",
      "metadata": {
        "id": "sfuP7cvhAgJS",
        "colab_type": "text"
      },
      "source": [
        "## Overfitting"
      ]
    },
    {
      "cell_type": "code",
      "metadata": {
        "id": "eLFMytNc9Gpt",
        "colab_type": "code",
        "outputId": "f84c9b8d-d7f3-406b-8a9e-d2b6c064190a",
        "colab": {
          "base_uri": "https://localhost:8080/",
          "height": 34
        }
      },
      "source": [
        "training_dict = training_results.history\n",
        "training_dict.keys()"
      ],
      "execution_count": 38,
      "outputs": [
        {
          "output_type": "execute_result",
          "data": {
            "text/plain": [
              "dict_keys(['loss', 'accuracy', 'val_loss', 'val_accuracy'])"
            ]
          },
          "metadata": {
            "tags": []
          },
          "execution_count": 38
        }
      ]
    },
    {
      "cell_type": "code",
      "metadata": {
        "id": "VwrLkUzJ9T7N",
        "colab_type": "code",
        "outputId": "01a20ca1-85c0-4dc7-8508-02f0bce4e9d4",
        "colab": {
          "base_uri": "https://localhost:8080/",
          "height": 350
        }
      },
      "source": [
        "import matplotlib.pyplot as plt\n",
        "\n",
        "acc = training_dict['accuracy']\n",
        "val_acc = training_dict['val_accuracy']\n",
        "loss = training_dict['loss']\n",
        "val_loss = training_dict['val_loss']\n",
        "\n",
        "epochs = range(1, len(acc) + 1)\n",
        "\n",
        "plt.figure(figsize=(14, 5))\n",
        "\n",
        "plt.subplot(1, 2, 1)\n",
        "plt.plot(epochs, loss, 'b', label='Training loss')\n",
        "plt.plot(epochs, val_loss, 'r', label='Validation loss')\n",
        "plt.title('Training and validation loss')\n",
        "plt.xlabel('Epochs')\n",
        "plt.ylabel('Loss')\n",
        "plt.legend()\n",
        "\n",
        "plt.subplot(1, 2, 2)\n",
        "plt.plot(epochs, acc, 'b', label='Training accuracy')\n",
        "plt.plot(epochs, val_acc, 'r', label='Validation accuracy')\n",
        "plt.title('Training and validation accuracy')\n",
        "plt.xlabel('Epochs')\n",
        "plt.ylabel('Accuracy')\n",
        "plt.legend()\n",
        "\n",
        "plt.show()"
      ],
      "execution_count": 39,
      "outputs": [
        {
          "output_type": "display_data",
          "data": {
            "image/png": "[encoded data removed]",
            "text/plain": [
              "<Figure size 1008x360 with 2 Axes>"
            ]
          },
          "metadata": {
            "tags": []
          }
        }
      ]
    },
    {
      "cell_type": "markdown",
      "metadata": {
        "id": "akXauyaX_c2S",
        "colab_type": "text"
      },
      "source": [
        "## Exploring our Word Embeddings"
      ]
    },
    {
      "cell_type": "code",
      "metadata": {
        "id": "vpJeinr3QcQm",
        "colab_type": "code",
        "colab": {}
      },
      "source": [
        "word_embeddings = model.layers[0]"
      ],
      "execution_count": 0,
      "outputs": []
    },
    {
      "cell_type": "code",
      "metadata": {
        "id": "drA827wSsdkq",
        "colab_type": "code",
        "colab": {
          "base_uri": "https://localhost:8080/",
          "height": 34
        },
        "outputId": "1f4e5c0d-8e1d-4f6b-e7f5-5f7f0169c4e0"
      },
      "source": [
        "weights = word_embeddings.get_weights()[0]\n",
        "vocab_size, embedding_dim = weights.shape\n",
        "print(\"Vocabulary size: {:,} and embeddings dimension: {}\".format(vocab_size, embedding_dim))"
      ],
      "execution_count": 41,
      "outputs": [
        {
          "output_type": "stream",
          "text": [
            "Vocabulary size: 8,185 and embeddings dimension: 16\n"
          ],
          "name": "stdout"
        }
      ]
    },
    {
      "cell_type": "code",
      "metadata": {
        "id": "EX3nkSlpzsXZ",
        "colab_type": "code",
        "colab": {}
      },
      "source": [
        "import io\n",
        "\n",
        "vectors_file = io.open('nn_16dim_embeddings', 'w', encoding='utf-8')\n",
        "\n",
        "vectors_file.write(str(vocab_size) + \"\\t\" + str(embedding_dim) + \"\\n\")\n",
        "\n",
        "for index, word in enumerate(encoder.subwords):\n",
        "    vector = weights[index]\n",
        "    vectors_file.write(word + \"\\t\")\n",
        "    vectors_file.write(\"\\t\".join([str(element) for element in vector]) + \"\\n\")\n",
        "vectors_file.close()\n"
      ],
      "execution_count": 0,
      "outputs": []
    },
    {
      "cell_type": "code",
      "metadata": {
        "id": "bT1vOw5R4oQO",
        "colab_type": "code",
        "colab": {}
      },
      "source": [
        "from gensim.models.keyedvectors import KeyedVectors\n",
        "from gensim.test.utils import datapath\n",
        "\n",
        "wv = KeyedVectors.load_word2vec_format('nn_16dim_embeddings', binary=False)"
      ],
      "execution_count": 0,
      "outputs": []
    }
  ]
}