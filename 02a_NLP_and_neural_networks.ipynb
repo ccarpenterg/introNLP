{
  "nbformat": 4,
  "nbformat_minor": 0,
  "metadata": {
    "colab": {
      "name": "02a_NLP_and_neural_networks.ipynb",
      "provenance": [],
      "toc_visible": true,
      "include_colab_link": true
    },
    "kernelspec": {
      "name": "python3",
      "display_name": "Python 3"
    },
    "accelerator": "GPU"
  },
  "cells": [
    {
      "cell_type": "markdown",
      "metadata": {
        "id": "view-in-github",
        "colab_type": "text"
      },
      "source": [
        "<a href=\"https://colab.research.google.com/github/ccarpenterg/introNLP/blob/master/02a_NLP_and_neural_networks.ipynb\" target=\"_parent\"><img src=\"https://colab.research.google.com/assets/colab-badge.svg\" alt=\"Open In Colab\"/></a>"
      ]
    },
    {
      "cell_type": "markdown",
      "metadata": {
        "id": "esyZKApGGPcH",
        "colab_type": "text"
      },
      "source": [
        "# Natural Language Processing and Neural Networks"
      ]
    },
    {
      "cell_type": "code",
      "metadata": {
        "id": "pfTNeUQQlMKc",
        "colab_type": "code",
        "outputId": "4adf2e3a-1ba5-4625-8378-c216a371a816",
        "colab": {
          "base_uri": "https://localhost:8080/",
          "height": 51
        }
      },
      "source": [
        "# load Tensorflow 2\n",
        "%tensorflow_version 2.x\n",
        "import tensorflow as tf\n",
        "\n",
        "from tensorflow import keras\n",
        "\n",
        "import tensorflow_datasets as tfds\n",
        "import numpy as np\n",
        "\n",
        "print(tf.__version__)"
      ],
      "execution_count": 0,
      "outputs": [
        {
          "output_type": "stream",
          "text": [
            "TensorFlow 2.x selected.\n",
            "2.1.0-rc1\n"
          ],
          "name": "stdout"
        }
      ]
    },
    {
      "cell_type": "markdown",
      "metadata": {
        "id": "UutrGPKeyNhY",
        "colab_type": "text"
      },
      "source": [
        "## Sentiment Analysis of IMDB Movie Reviews"
      ]
    },
    {
      "cell_type": "code",
      "metadata": {
        "id": "SDCNkzQ1yzs4",
        "colab_type": "code",
        "colab": {}
      },
      "source": [
        "(train_data, test_data), info = tfds.load(\n",
        "    'imdb_reviews/subwords8k',\n",
        "    split = (tfds.Split.TRAIN, tfds.Split.TEST),\n",
        "    as_supervised=True,\n",
        "    with_info=True\n",
        ")"
      ],
      "execution_count": 0,
      "outputs": []
    },
    {
      "cell_type": "code",
      "metadata": {
        "id": "ssA-AG-NcZru",
        "colab_type": "code",
        "outputId": "738c18ff-e9b3-4659-8d92-b8ad0fda116b",
        "colab": {
          "base_uri": "https://localhost:8080/",
          "height": 71
        }
      },
      "source": [
        "print(info.description)"
      ],
      "execution_count": 0,
      "outputs": [
        {
          "output_type": "stream",
          "text": [
            "Large Movie Review Dataset.\n",
            "This is a dataset for binary sentiment classification containing substantially more data than previous benchmark datasets. We provide a set of 25,000 highly polar movie reviews for training, and 25,000 for testing. There is additional unlabeled data for use as well.\n"
          ],
          "name": "stdout"
        }
      ]
    },
    {
      "cell_type": "code",
      "metadata": {
        "id": "5kS97aNaXYD9",
        "colab_type": "code",
        "outputId": "500316cb-eea5-4d92-810e-72b0e00c9f3e",
        "colab": {
          "base_uri": "https://localhost:8080/",
          "height": 51
        }
      },
      "source": [
        "print('Train examples:', info.splits['train'].num_examples)\n",
        "print('Test examples:', info.splits['test'].num_examples)"
      ],
      "execution_count": 0,
      "outputs": [
        {
          "output_type": "stream",
          "text": [
            "Train examples: 25000\n",
            "Test examples: 25000\n"
          ],
          "name": "stdout"
        }
      ]
    },
    {
      "cell_type": "code",
      "metadata": {
        "id": "8gGet9Nszpn7",
        "colab_type": "code",
        "outputId": "b2955563-6e45-4a86-d460-c03dcbe40771",
        "colab": {
          "base_uri": "https://localhost:8080/",
          "height": 51
        }
      },
      "source": [
        "encoder = info.features['text'].encoder\n",
        "\n",
        "print('Vocabulary size: {}'.format(encoder.vocab_size))\n",
        "\n",
        "sample_string = 'A great movie!'\n",
        "\n",
        "encoded_string = encoder.encode(sample_string)\n",
        "\n",
        "print(encoded_string)"
      ],
      "execution_count": 0,
      "outputs": [
        {
          "output_type": "stream",
          "text": [
            "Vocabulary size: 8185\n",
            "[133, 122, 65, 7962]\n"
          ],
          "name": "stdout"
        }
      ]
    },
    {
      "cell_type": "code",
      "metadata": {
        "id": "PQpanyJy17Cy",
        "colab_type": "code",
        "outputId": "f0fe2721-878d-445d-9004-6ed4d40319d2",
        "colab": {
          "base_uri": "https://localhost:8080/",
          "height": 85
        }
      },
      "source": [
        "for ts in encoded_string:\n",
        "    print('{} ---> {}'.format(ts, encoder.decode([ts])))"
      ],
      "execution_count": 0,
      "outputs": [
        {
          "output_type": "stream",
          "text": [
            "133 ---> A \n",
            "122 ---> great \n",
            "65 ---> movie\n",
            "7962 ---> !\n"
          ],
          "name": "stdout"
        }
      ]
    },
    {
      "cell_type": "code",
      "metadata": {
        "id": "SY6lScBq74Zt",
        "colab_type": "code",
        "outputId": "bcc57cef-01be-43ba-dd72-0665a546b993",
        "colab": {
          "base_uri": "https://localhost:8080/",
          "height": 34
        }
      },
      "source": [
        "print(encoder.decode(encoded_string))"
      ],
      "execution_count": 0,
      "outputs": [
        {
          "output_type": "stream",
          "text": [
            "A great movie!\n"
          ],
          "name": "stdout"
        }
      ]
    },
    {
      "cell_type": "code",
      "metadata": {
        "id": "UzX8BBdH0YcD",
        "colab_type": "code",
        "outputId": "7f1ef6a7-f456-4ad3-c202-cd14c88e8c55",
        "colab": {
          "base_uri": "https://localhost:8080/",
          "height": 51
        }
      },
      "source": [
        "for train_example, train_label in train_data.take(1):\n",
        "    print(train_example[:7].numpy())\n",
        "    print(train_label.numpy())"
      ],
      "execution_count": 0,
      "outputs": [
        {
          "output_type": "stream",
          "text": [
            "[ 249    4  277  309  560    6 6639]\n",
            "1\n"
          ],
          "name": "stdout"
        }
      ]
    },
    {
      "cell_type": "code",
      "metadata": {
        "id": "-IGU3JFg1ext",
        "colab_type": "code",
        "outputId": "3adeb69a-f926-4a9a-d994-176d06a5ee85",
        "colab": {
          "base_uri": "https://localhost:8080/",
          "height": 54
        }
      },
      "source": [
        "print(encoder.decode(train_example))"
      ],
      "execution_count": 0,
      "outputs": [
        {
          "output_type": "stream",
          "text": [
            "As a lifelong fan of Dickens, I have invariably been disappointed by adaptations of his novels.<br /><br />Although his works presented an extremely accurate re-telling of human life at every level in Victorian Britain, throughout them all was a pervasive thread of humour that could be both playful or sarcastic as the narrative dictated. In a way, he was a literary caricaturist and cartoonist. He could be serious and hilarious in the same sentence. He pricked pride, lampooned arrogance, celebrated modesty, and empathised with loneliness and poverty. It may be a cliché, but he was a people's writer.<br /><br />And it is the comedy that is so often missing from his interpretations. At the time of writing, Oliver Twist is being dramatised in serial form on BBC television. All of the misery and cruelty is their, but non of the humour, irony, and savage lampoonery. The result is just a dark, dismal experience: the story penned by a journalist rather than a novelist. It's not really Dickens at all.<br /><br />'Oliver!', on the other hand, is much closer to the mark. The mockery of officialdom is perfectly interpreted, from the blustering beadle to the drunken magistrate. The classic stand-off between the beadle and Mr Brownlow, in which the law is described as 'a ass, a idiot' couldn't have been better done. Harry Secombe is an ideal choice.<br /><br />But the blinding cruelty is also there, the callous indifference of the state, the cold, hunger, poverty and loneliness are all presented just as surely as The Master would have wished.<br /><br />And then there is crime. Ron Moody is a treasure as the sleazy Jewish fence, whilst Oliver Reid has Bill Sykes to perfection.<br /><br />Perhaps not surprisingly, Lionel Bart - himself a Jew from London's east-end - takes a liberty with Fagin by re-interpreting him as a much more benign fellow than was Dicken's original. In the novel, he was utterly ruthless, sending some of his own boys to the gallows in order to protect himself (though he was also caught and hanged). Whereas in the movie, he is presented as something of a wayward father-figure, a sort of charitable thief rather than a corrupter of children, the latter being a long-standing anti-semitic sentiment. Otherwise, very few liberties are taken with Dickens's original. All of the most memorable elements are included. Just enough menace and violence is retained to ensure narrative fidelity whilst at the same time allowing for children' sensibilities. Nancy is still beaten to death, Bullseye narrowly escapes drowning, and Bill Sykes gets a faithfully graphic come-uppance.<br /><br />Every song is excellent, though they do incline towards schmaltz. Mark Lester mimes his wonderfully. Both his and my favourite scene is the one in which the world comes alive to 'who will buy'. It's schmaltzy, but it's Dickens through and through.<br /><br />I could go on. I could commend the wonderful set-pieces, the contrast of the rich and poor. There is top-quality acting from more British regulars than you could shake a stick at.<br /><br />I ought to give it 10 points, but I'm feeling more like Scrooge today. Soak it up with your Christmas dinner. No original has been better realised.\n"
          ],
          "name": "stdout"
        }
      ]
    },
    {
      "cell_type": "markdown",
      "metadata": {
        "id": "IvlW7hhJ_8oy",
        "colab_type": "text"
      },
      "source": [
        "## Preprocessing the Data with Padding"
      ]
    },
    {
      "cell_type": "code",
      "metadata": {
        "id": "rB2brZk37jpa",
        "colab_type": "code",
        "colab": {}
      },
      "source": [
        "BUFFER_SIZE = 1000\n",
        "\n",
        "train_batches = (\n",
        "    train_data\n",
        "    .shuffle(BUFFER_SIZE)\n",
        "    .padded_batch(32, tf.compat.v1.data.get_output_shapes(train_data))\n",
        ")\n",
        "\n",
        "test_batches = (\n",
        "    test_data\n",
        "    .padded_batch(32, tf.compat.v1.data.get_output_shapes(train_data))\n",
        ")"
      ],
      "execution_count": 0,
      "outputs": []
    },
    {
      "cell_type": "code",
      "metadata": {
        "id": "BI85YgKXD_Mx",
        "colab_type": "code",
        "outputId": "7f03605f-29b7-4a0d-bd10-4cf5db8b3832",
        "colab": {
          "base_uri": "https://localhost:8080/",
          "height": 85
        }
      },
      "source": [
        "for batch_example, labels in train_batches.take(2):\n",
        "    print(\"Batch shape:\", batch_example.shape)\n",
        "    print(\"Label shape:\", labels.shape)"
      ],
      "execution_count": 0,
      "outputs": [
        {
          "output_type": "stream",
          "text": [
            "Batch shape: (32, 1691)\n",
            "Label shape: (32,)\n",
            "Batch shape: (32, 1547)\n",
            "Label shape: (32,)\n"
          ],
          "name": "stdout"
        }
      ]
    },
    {
      "cell_type": "markdown",
      "metadata": {
        "id": "6rqh0vlv-Spx",
        "colab_type": "text"
      },
      "source": [
        "## Sequence Processing with a Neural Network\n",
        "\n",
        "* Embedding layer\n",
        "* Global Average Pooling layer\n",
        "* Dense hidden layer\n",
        "* Dense classifier"
      ]
    },
    {
      "cell_type": "code",
      "metadata": {
        "id": "yfo182VsTyXG",
        "colab_type": "code",
        "outputId": "6b83dac8-ef4c-4536-ee9a-4c2395caf414",
        "colab": {
          "base_uri": "https://localhost:8080/",
          "height": 289
        }
      },
      "source": [
        "model = keras.Sequential([\n",
        "  keras.layers.Embedding(encoder.vocab_size, 16),\n",
        "  keras.layers.GlobalAveragePooling1D(),\n",
        "  keras.layers.Dense(16, activation='relu'),\n",
        "  keras.layers.Dense(1, activation='sigmoid')\n",
        "])\n",
        "\n",
        "model.summary()"
      ],
      "execution_count": 0,
      "outputs": [
        {
          "output_type": "stream",
          "text": [
            "Model: \"sequential\"\n",
            "_________________________________________________________________\n",
            "Layer (type)                 Output Shape              Param #   \n",
            "=================================================================\n",
            "embedding (Embedding)        (None, None, 16)          130960    \n",
            "_________________________________________________________________\n",
            "global_average_pooling1d (Gl (None, 16)                0         \n",
            "_________________________________________________________________\n",
            "dense (Dense)                (None, 16)                272       \n",
            "_________________________________________________________________\n",
            "dense_1 (Dense)              (None, 1)                 17        \n",
            "=================================================================\n",
            "Total params: 131,249\n",
            "Trainable params: 131,249\n",
            "Non-trainable params: 0\n",
            "_________________________________________________________________\n"
          ],
          "name": "stdout"
        }
      ]
    },
    {
      "cell_type": "markdown",
      "metadata": {
        "id": "MdolSBzg2RR4",
        "colab_type": "text"
      },
      "source": [
        "Regardless of the sequence length, the NN converts it to a vector of embedding's dimension. This is done through the Global Average Pooling layer.\n",
        "\n",
        "### Counting Parameters\n",
        "\n",
        "**Embedding layer:** 8185 (vocabulary length) * 16 (embedding dimension) = 130,960 parameters\n",
        "\n",
        "**FC layer:** 16 x 16 weights + 16 biases = 272 parameters\n",
        "\n",
        "**Dense classifier:** 1 * 16 weights + 1 bias = 17 parameters\n"
      ]
    },
    {
      "cell_type": "code",
      "metadata": {
        "id": "LYj-OZIQnXV2",
        "colab_type": "code",
        "colab": {}
      },
      "source": [
        "model.compile(optimizer='adam',\n",
        "              loss='binary_crossentropy',\n",
        "              metrics=['accuracy'])"
      ],
      "execution_count": 0,
      "outputs": []
    },
    {
      "cell_type": "code",
      "metadata": {
        "id": "eVnSdX-dnk_I",
        "colab_type": "code",
        "outputId": "3fcc936c-b0dd-46a5-d821-fbd3f47ead2d",
        "colab": {
          "base_uri": "https://localhost:8080/",
          "height": 547
        }
      },
      "source": [
        "training_results = model.fit(train_batches,\n",
        "                             epochs=15,\n",
        "                             validation_data=test_batches,\n",
        "                             validation_steps=30)"
      ],
      "execution_count": 0,
      "outputs": [
        {
          "output_type": "stream",
          "text": [
            "Epoch 1/15\n",
            "782/782 [==============================] - 14s 18ms/step - loss: 0.6520 - accuracy: 0.6345 - val_loss: 0.5331 - val_accuracy: 0.7917\n",
            "Epoch 2/15\n",
            "782/782 [==============================] - 9s 12ms/step - loss: 0.4008 - accuracy: 0.8507 - val_loss: 0.3560 - val_accuracy: 0.8708\n",
            "Epoch 3/15\n",
            "782/782 [==============================] - 9s 12ms/step - loss: 0.2909 - accuracy: 0.8944 - val_loss: 0.3179 - val_accuracy: 0.8687\n",
            "Epoch 4/15\n",
            "782/782 [==============================] - 9s 12ms/step - loss: 0.2490 - accuracy: 0.9098 - val_loss: 0.3020 - val_accuracy: 0.8802\n",
            "Epoch 5/15\n",
            "782/782 [==============================] - 9s 12ms/step - loss: 0.2190 - accuracy: 0.9216 - val_loss: 0.2769 - val_accuracy: 0.8844\n",
            "Epoch 6/15\n",
            "782/782 [==============================] - 9s 12ms/step - loss: 0.1978 - accuracy: 0.9312 - val_loss: 0.3301 - val_accuracy: 0.8406\n",
            "Epoch 7/15\n",
            "782/782 [==============================] - 9s 12ms/step - loss: 0.1825 - accuracy: 0.9360 - val_loss: 0.2743 - val_accuracy: 0.8833\n",
            "Epoch 8/15\n",
            "782/782 [==============================] - 9s 12ms/step - loss: 0.1673 - accuracy: 0.9426 - val_loss: 0.3101 - val_accuracy: 0.8687\n",
            "Epoch 9/15\n",
            "782/782 [==============================] - 9s 12ms/step - loss: 0.1553 - accuracy: 0.9476 - val_loss: 0.2887 - val_accuracy: 0.8823\n",
            "Epoch 10/15\n",
            "782/782 [==============================] - 9s 12ms/step - loss: 0.1455 - accuracy: 0.9510 - val_loss: 0.2981 - val_accuracy: 0.8802\n",
            "Epoch 11/15\n",
            "782/782 [==============================] - 9s 12ms/step - loss: 0.1343 - accuracy: 0.9546 - val_loss: 0.3111 - val_accuracy: 0.8760\n",
            "Epoch 12/15\n",
            "782/782 [==============================] - 9s 12ms/step - loss: 0.1265 - accuracy: 0.9585 - val_loss: 0.3227 - val_accuracy: 0.8802\n",
            "Epoch 13/15\n",
            "782/782 [==============================] - 9s 12ms/step - loss: 0.1189 - accuracy: 0.9616 - val_loss: 0.3342 - val_accuracy: 0.8781\n",
            "Epoch 14/15\n",
            "782/782 [==============================] - 9s 12ms/step - loss: 0.1107 - accuracy: 0.9638 - val_loss: 0.3606 - val_accuracy: 0.8615\n",
            "Epoch 15/15\n",
            "782/782 [==============================] - 9s 12ms/step - loss: 0.1044 - accuracy: 0.9668 - val_loss: 0.3710 - val_accuracy: 0.8771\n"
          ],
          "name": "stdout"
        }
      ]
    },
    {
      "cell_type": "code",
      "metadata": {
        "id": "IJROGKXZ4YHU",
        "colab_type": "code",
        "outputId": "73b74f38-9386-45d8-c2e9-e4133e3649b6",
        "colab": {
          "base_uri": "https://localhost:8080/",
          "height": 51
        }
      },
      "source": [
        "loss, accuracy = model.evaluate(test_batches)\n",
        "\n",
        "print(\"Loss: \", loss)\n",
        "print(\"Accuracy: \", accuracy)"
      ],
      "execution_count": 0,
      "outputs": [
        {
          "output_type": "stream",
          "text": [
            "    782/Unknown - 7s 9ms/step - loss: 0.4318 - accuracy: 0.8654Loss:  0.4317979312637616\n",
            "Accuracy:  0.86536\n"
          ],
          "name": "stdout"
        }
      ]
    },
    {
      "cell_type": "markdown",
      "metadata": {
        "id": "sfuP7cvhAgJS",
        "colab_type": "text"
      },
      "source": [
        "## Overfitting"
      ]
    },
    {
      "cell_type": "code",
      "metadata": {
        "id": "eLFMytNc9Gpt",
        "colab_type": "code",
        "outputId": "77d96069-40b2-4f34-f8b2-ab3e013e1614",
        "colab": {
          "base_uri": "https://localhost:8080/",
          "height": 34
        }
      },
      "source": [
        "training_dict = training_results.history\n",
        "training_dict.keys()"
      ],
      "execution_count": 0,
      "outputs": [
        {
          "output_type": "execute_result",
          "data": {
            "text/plain": [
              "dict_keys(['loss', 'accuracy', 'val_loss', 'val_accuracy'])"
            ]
          },
          "metadata": {
            "tags": []
          },
          "execution_count": 16
        }
      ]
    },
    {
      "cell_type": "code",
      "metadata": {
        "id": "VwrLkUzJ9T7N",
        "colab_type": "code",
        "outputId": "6ca4c09e-ce5d-426f-a5eb-2c7bf40b3302",
        "colab": {
          "base_uri": "https://localhost:8080/",
          "height": 573
        }
      },
      "source": [
        "import matplotlib.pyplot as plt\n",
        "\n",
        "acc = training_dict['accuracy']\n",
        "val_acc = training_dict['val_accuracy']\n",
        "loss = training_dict['loss']\n",
        "val_loss = training_dict['val_loss']\n",
        "\n",
        "epochs = range(1, len(acc) + 1)\n",
        "\n",
        "plt.plot(epochs, loss, 'r', label='Training loss')\n",
        "plt.plot(epochs, val_loss, 'b', label='Validation loss')\n",
        "plt.title('Training and validation loss')\n",
        "plt.xlabel('Epochs')\n",
        "plt.ylabel('Loss')\n",
        "plt.legend()\n",
        "\n",
        "plt.figure()\n",
        "\n",
        "plt.plot(epochs, acc, 'r', label='Training accuracy')\n",
        "plt.plot(epochs, val_acc, 'b', label='Validation accuracy')\n",
        "plt.title('Training and validation accuracy')\n",
        "plt.xlabel('Epochs')\n",
        "plt.ylabel('Loss')\n",
        "plt.legend()\n",
        "\n",
        "plt.show()"
      ],
      "execution_count": 0,
      "outputs": [
        {
          "output_type": "display_data",
          "data": {
            "image/png": "[encoded data removed]",
            "text/plain": [
              "<Figure size 432x288 with 1 Axes>"
            ]
          },
          "metadata": {
            "tags": []
          }
        },
        {
          "output_type": "display_data",
          "data": {
            "image/png": "[encoded data removed]",
            "text/plain": [
              "<Figure size 432x288 with 1 Axes>"
            ]
          },
          "metadata": {
            "tags": []
          }
        }
      ]
    },
    {
      "cell_type": "markdown",
      "metadata": {
        "id": "akXauyaX_c2S",
        "colab_type": "text"
      },
      "source": [
        "## Exploring our Word Embeddings"
      ]
    },
    {
      "cell_type": "code",
      "metadata": {
        "id": "vpJeinr3QcQm",
        "colab_type": "code",
        "colab": {}
      },
      "source": [
        "word_embeddings = model.layers[0]"
      ],
      "execution_count": 0,
      "outputs": []
    },
    {
      "cell_type": "code",
      "metadata": {
        "id": "wUo-3cT1YqR1",
        "colab_type": "code",
        "outputId": "fc95d419-e970-4c38-892a-d84a78d5a0c4",
        "colab": {
          "base_uri": "https://localhost:8080/",
          "height": 204
        }
      },
      "source": [
        "encoded_string = encoder.encode(\"Great movie! But not as good as The Matrix\")\n",
        "\n",
        "for ts in encoded_string:\n",
        "    print('{} ---> {}'.format(ts, encoder.decode([ts])))"
      ],
      "execution_count": 0,
      "outputs": [
        {
          "output_type": "stream",
          "text": [
            "1976 ---> Great \n",
            "65 ---> movie\n",
            "90 ---> ! \n",
            "128 ---> But \n",
            "33 ---> not \n",
            "20 ---> as \n",
            "74 ---> good \n",
            "20 ---> as \n",
            "19 ---> The \n",
            "1495 ---> Mat\n",
            "7190 ---> rix\n"
          ],
          "name": "stdout"
        }
      ]
    },
    {
      "cell_type": "code",
      "metadata": {
        "id": "WKzBbLlhgNHQ",
        "colab_type": "code",
        "outputId": "c74d4408-9a96-4800-ffc1-c88416750c0c",
        "colab": {
          "base_uri": "https://localhost:8080/",
          "height": 1000
        }
      },
      "source": [
        "word_embeddings(tf.constant(encoded_string))"
      ],
      "execution_count": 0,
      "outputs": [
        {
          "output_type": "execute_result",
          "data": {
            "text/plain": [
              "<tf.Tensor: shape=(11, 16), dtype=float32, numpy=\n",
              "array([[ 1.31230748e+00,  1.27368665e+00,  1.15680611e+00,\n",
              "         1.24294412e+00, -8.91023934e-01,  1.25885212e+00,\n",
              "        -1.27435160e+00,  1.25075579e+00, -1.26579404e+00,\n",
              "         1.21581352e+00, -1.27671719e+00, -1.30246365e+00,\n",
              "        -1.19706500e+00, -1.25297260e+00,  1.19723046e+00,\n",
              "         1.25428438e+00],\n",
              "       [-1.28779352e-01, -1.50494233e-01,  3.99967507e-02,\n",
              "        -1.95975810e-01,  2.01213747e-01, -1.93553269e-01,\n",
              "         1.31345764e-01, -6.83422312e-02,  1.51402384e-01,\n",
              "        -3.18082906e-02,  2.03939468e-01,  5.34942858e-02,\n",
              "         1.21740915e-01,  1.38690785e-01, -1.79626033e-01,\n",
              "        -1.42279848e-01],\n",
              "       [ 1.62391707e-01,  1.14182785e-01,  2.15704039e-01,\n",
              "         1.34901121e-01, -3.65241207e-02,  1.26756430e-01,\n",
              "        -1.39607936e-01,  1.85239673e-01, -1.09555289e-01,\n",
              "         2.17376053e-01, -1.21697754e-01, -1.91715047e-01,\n",
              "        -1.24073625e-01, -1.48177192e-01,  1.22387454e-01,\n",
              "         1.67575717e-01],\n",
              "       [-1.16465211e-01, -1.36557132e-01, -5.63906059e-02,\n",
              "        -1.20494403e-01,  5.37953198e-01, -1.11810975e-01,\n",
              "         1.04412705e-01, -5.32979816e-02,  7.86284208e-02,\n",
              "        -1.18810207e-01,  7.34469220e-02,  1.32537439e-01,\n",
              "         1.52413264e-01,  1.26934633e-01, -1.41240373e-01,\n",
              "        -6.42860755e-02],\n",
              "       [-3.15365225e-01, -2.57925659e-01, -1.90801889e-01,\n",
              "        -2.55554020e-01,  3.08234990e-01, -3.51294845e-01,\n",
              "         2.87109196e-01, -2.39018455e-01,  3.37021887e-01,\n",
              "        -2.33707830e-01,  2.74270594e-01,  2.45914295e-01,\n",
              "         2.57981747e-01,  3.25836927e-01, -2.34339535e-01,\n",
              "        -3.16260606e-01],\n",
              "       [ 8.10779929e-02,  7.31980428e-02, -7.15846345e-02,\n",
              "         1.00970820e-01,  2.09530219e-01,  1.29788414e-01,\n",
              "         7.73010030e-02,  6.53644726e-02,  3.41251083e-02,\n",
              "         7.08266869e-02, -5.52178510e-02,  4.05448303e-02,\n",
              "         7.71231353e-02, -9.02021900e-02,  5.39877266e-03,\n",
              "        -1.64118726e-02],\n",
              "       [ 3.77809256e-01,  2.92771339e-01,  3.35722715e-01,\n",
              "         2.95077801e-01,  2.10641650e-03,  2.77462333e-01,\n",
              "        -2.90167719e-01,  3.03776890e-01, -3.05286705e-01,\n",
              "         3.29616100e-01, -2.40266740e-01, -3.31349492e-01,\n",
              "        -3.15813184e-01, -3.12779307e-01,  2.66009390e-01,\n",
              "         3.41756970e-01],\n",
              "       [ 8.10779929e-02,  7.31980428e-02, -7.15846345e-02,\n",
              "         1.00970820e-01,  2.09530219e-01,  1.29788414e-01,\n",
              "         7.73010030e-02,  6.53644726e-02,  3.41251083e-02,\n",
              "         7.08266869e-02, -5.52178510e-02,  4.05448303e-02,\n",
              "         7.71231353e-02, -9.02021900e-02,  5.39877266e-03,\n",
              "        -1.64118726e-02],\n",
              "       [-6.87243155e-05,  2.98807733e-02,  2.46982835e-02,\n",
              "         1.19843725e-02,  1.77318543e-01,  4.19276319e-02,\n",
              "         8.28382224e-02, -1.27859991e-02,  6.95009381e-02,\n",
              "         1.18158527e-01,  2.67363638e-02,  3.55832689e-02,\n",
              "        -1.30938611e-03,  1.53214103e-02,  5.19603230e-02,\n",
              "         2.95256414e-02],\n",
              "       [ 2.10564181e-01,  2.07767412e-01,  1.62072942e-01,\n",
              "         1.52035266e-01, -8.31931084e-02,  1.53889850e-01,\n",
              "        -1.89121321e-01,  1.61751419e-01, -1.93653360e-01,\n",
              "         2.01339290e-01, -2.07650214e-01, -1.52034223e-01,\n",
              "        -1.79846138e-01, -1.74089178e-01,  1.28831029e-01,\n",
              "         1.96640909e-01],\n",
              "       [-2.99821138e-01, -3.26361179e-01, -3.17051321e-01,\n",
              "        -3.30040306e-01,  3.65601361e-01, -3.09651017e-01,\n",
              "         2.79932082e-01, -3.66600156e-01,  3.76118541e-01,\n",
              "        -3.46758276e-01,  2.86575824e-01,  3.16145897e-01,\n",
              "         2.78084546e-01,  3.78942072e-01, -3.22762460e-01,\n",
              "        -3.45859140e-01]], dtype=float32)>"
            ]
          },
          "metadata": {
            "tags": []
          },
          "execution_count": 28
        }
      ]
    }
  ]
}