{
  "nbformat": 4,
  "nbformat_minor": 0,
  "metadata": {
    "colab": {
      "name": "02a_NLP_and_neural_networks.ipynb",
      "provenance": [],
      "toc_visible": true,
      "include_colab_link": true
    },
    "kernelspec": {
      "name": "python3",
      "display_name": "Python 3"
    },
    "accelerator": "GPU"
  },
  "cells": [
    {
      "cell_type": "markdown",
      "metadata": {
        "id": "view-in-github",
        "colab_type": "text"
      },
      "source": [
        "<a href=\"https://colab.research.google.com/github/ccarpenterg/introNLP/blob/master/02a_NLP_and_neural_networks.ipynb\" target=\"_parent\"><img src=\"https://colab.research.google.com/assets/colab-badge.svg\" alt=\"Open In Colab\"/></a>"
      ]
    },
    {
      "cell_type": "markdown",
      "metadata": {
        "id": "esyZKApGGPcH",
        "colab_type": "text"
      },
      "source": [
        "# Natural Language Processing and Neural Networks"
      ]
    },
    {
      "cell_type": "code",
      "metadata": {
        "id": "TYwmBZ4Q5DsS",
        "colab_type": "code",
        "colab": {}
      },
      "source": [
        "!pip install -q tensorflow-datasets==1.3.2"
      ],
      "execution_count": 0,
      "outputs": []
    },
    {
      "cell_type": "code",
      "metadata": {
        "id": "pfTNeUQQlMKc",
        "colab_type": "code",
        "outputId": "2801a983-c4f5-4387-f265-2fc3bff1feeb",
        "colab": {
          "base_uri": "https://localhost:8080/",
          "height": 68
        }
      },
      "source": [
        "# load Tensorflow 2\n",
        "%tensorflow_version 2.x\n",
        "import tensorflow as tf\n",
        "\n",
        "from tensorflow import keras\n",
        "\n",
        "import tensorflow_datasets as tfds\n",
        "import numpy as np\n",
        "\n",
        "print(\"Tensorflow version:\", tf.__version__)\n",
        "print(\"Tensorflow datasets version:\", tfds.__version__)"
      ],
      "execution_count": 0,
      "outputs": [
        {
          "output_type": "stream",
          "text": [
            "TensorFlow 2.x selected.\n",
            "Tensorflow version: 2.1.0\n",
            "Tensorflow datasets version: 1.3.2\n"
          ],
          "name": "stdout"
        }
      ]
    },
    {
      "cell_type": "markdown",
      "metadata": {
        "id": "UutrGPKeyNhY",
        "colab_type": "text"
      },
      "source": [
        "## Sentiment Analysis of IMDB Movie Reviews"
      ]
    },
    {
      "cell_type": "code",
      "metadata": {
        "id": "SDCNkzQ1yzs4",
        "colab_type": "code",
        "colab": {}
      },
      "source": [
        "train_validation_split = tfds.Split.TRAIN.subsplit([8, 2])\n",
        "\n",
        "(train_validation_data, test_data), info = tfds.load(\n",
        "    'imdb_reviews/subwords8k',\n",
        "    split = (train_validation_split, tfds.Split.TEST),\n",
        "    as_supervised=True,\n",
        "    with_info=True\n",
        ")\n",
        "\n",
        "train_data, validation_data = train_validation_data"
      ],
      "execution_count": 0,
      "outputs": []
    },
    {
      "cell_type": "code",
      "metadata": {
        "id": "ssA-AG-NcZru",
        "colab_type": "code",
        "outputId": "e7f0cf6a-9868-4be6-9a6a-ff2a5b64b6e2",
        "colab": {
          "base_uri": "https://localhost:8080/",
          "height": 71
        }
      },
      "source": [
        "print(info.description)"
      ],
      "execution_count": 0,
      "outputs": [
        {
          "output_type": "stream",
          "text": [
            "Large Movie Review Dataset.\n",
            "This is a dataset for binary sentiment classification containing substantially more data than previous benchmark datasets. We provide a set of 25,000 highly polar movie reviews for training, and 25,000 for testing. There is additional unlabeled data for use as well.\n"
          ],
          "name": "stdout"
        }
      ]
    },
    {
      "cell_type": "code",
      "metadata": {
        "id": "5kS97aNaXYD9",
        "colab_type": "code",
        "outputId": "f0c3c9ac-5dad-4dcd-af5e-098cd1014004",
        "colab": {
          "base_uri": "https://localhost:8080/",
          "height": 51
        }
      },
      "source": [
        "print('Train examples:', info.splits['train'].num_examples)\n",
        "print('Test examples:', info.splits['test'].num_examples)"
      ],
      "execution_count": 0,
      "outputs": [
        {
          "output_type": "stream",
          "text": [
            "Train examples: 25000\n",
            "Test examples: 25000\n"
          ],
          "name": "stdout"
        }
      ]
    },
    {
      "cell_type": "code",
      "metadata": {
        "id": "8gGet9Nszpn7",
        "colab_type": "code",
        "outputId": "d47ea482-74e1-4264-a7da-a4df683cd4e4",
        "colab": {
          "base_uri": "https://localhost:8080/",
          "height": 51
        }
      },
      "source": [
        "encoder = info.features['text'].encoder\n",
        "\n",
        "print('Vocabulary size: {}'.format(encoder.vocab_size))\n",
        "\n",
        "sample_string = 'A great movie!'\n",
        "\n",
        "encoded_string = encoder.encode(sample_string)\n",
        "\n",
        "print(encoded_string)"
      ],
      "execution_count": 0,
      "outputs": [
        {
          "output_type": "stream",
          "text": [
            "Vocabulary size: 8185\n",
            "[133, 122, 65, 7962]\n"
          ],
          "name": "stdout"
        }
      ]
    },
    {
      "cell_type": "code",
      "metadata": {
        "id": "PQpanyJy17Cy",
        "colab_type": "code",
        "outputId": "95a9820d-2fd1-46d6-eecf-9d7fce874d11",
        "colab": {
          "base_uri": "https://localhost:8080/",
          "height": 85
        }
      },
      "source": [
        "for ts in encoded_string:\n",
        "    print('{} ---> {}'.format(ts, encoder.decode([ts])))"
      ],
      "execution_count": 0,
      "outputs": [
        {
          "output_type": "stream",
          "text": [
            "133 ---> A \n",
            "122 ---> great \n",
            "65 ---> movie\n",
            "7962 ---> !\n"
          ],
          "name": "stdout"
        }
      ]
    },
    {
      "cell_type": "code",
      "metadata": {
        "id": "SY6lScBq74Zt",
        "colab_type": "code",
        "outputId": "b3bf35cf-a729-40e4-9261-1993feb66167",
        "colab": {
          "base_uri": "https://localhost:8080/",
          "height": 34
        }
      },
      "source": [
        "print(encoder.decode(encoded_string))"
      ],
      "execution_count": 0,
      "outputs": [
        {
          "output_type": "stream",
          "text": [
            "A great movie!\n"
          ],
          "name": "stdout"
        }
      ]
    },
    {
      "cell_type": "code",
      "metadata": {
        "id": "UzX8BBdH0YcD",
        "colab_type": "code",
        "outputId": "7a3c69b4-5c85-4b6b-acbf-7a7adf83d038",
        "colab": {
          "base_uri": "https://localhost:8080/",
          "height": 51
        }
      },
      "source": [
        "for train_example, train_label in train_data.take(1):\n",
        "    print(train_example[:7].numpy())\n",
        "    print(train_label.numpy())"
      ],
      "execution_count": 0,
      "outputs": [
        {
          "output_type": "stream",
          "text": [
            "[ 249    4  277  309  560    6 6639]\n",
            "1\n"
          ],
          "name": "stdout"
        }
      ]
    },
    {
      "cell_type": "code",
      "metadata": {
        "id": "-IGU3JFg1ext",
        "colab_type": "code",
        "outputId": "079d5494-43bb-47ff-e72e-5e14c4f997ba",
        "colab": {
          "base_uri": "https://localhost:8080/",
          "height": 54
        }
      },
      "source": [
        "print(encoder.decode(train_example))"
      ],
      "execution_count": 0,
      "outputs": [
        {
          "output_type": "stream",
          "text": [
            "As a lifelong fan of Dickens, I have invariably been disappointed by adaptations of his novels.<br /><br />Although his works presented an extremely accurate re-telling of human life at every level in Victorian Britain, throughout them all was a pervasive thread of humour that could be both playful or sarcastic as the narrative dictated. In a way, he was a literary caricaturist and cartoonist. He could be serious and hilarious in the same sentence. He pricked pride, lampooned arrogance, celebrated modesty, and empathised with loneliness and poverty. It may be a cliché, but he was a people's writer.<br /><br />And it is the comedy that is so often missing from his interpretations. At the time of writing, Oliver Twist is being dramatised in serial form on BBC television. All of the misery and cruelty is their, but non of the humour, irony, and savage lampoonery. The result is just a dark, dismal experience: the story penned by a journalist rather than a novelist. It's not really Dickens at all.<br /><br />'Oliver!', on the other hand, is much closer to the mark. The mockery of officialdom is perfectly interpreted, from the blustering beadle to the drunken magistrate. The classic stand-off between the beadle and Mr Brownlow, in which the law is described as 'a ass, a idiot' couldn't have been better done. Harry Secombe is an ideal choice.<br /><br />But the blinding cruelty is also there, the callous indifference of the state, the cold, hunger, poverty and loneliness are all presented just as surely as The Master would have wished.<br /><br />And then there is crime. Ron Moody is a treasure as the sleazy Jewish fence, whilst Oliver Reid has Bill Sykes to perfection.<br /><br />Perhaps not surprisingly, Lionel Bart - himself a Jew from London's east-end - takes a liberty with Fagin by re-interpreting him as a much more benign fellow than was Dicken's original. In the novel, he was utterly ruthless, sending some of his own boys to the gallows in order to protect himself (though he was also caught and hanged). Whereas in the movie, he is presented as something of a wayward father-figure, a sort of charitable thief rather than a corrupter of children, the latter being a long-standing anti-semitic sentiment. Otherwise, very few liberties are taken with Dickens's original. All of the most memorable elements are included. Just enough menace and violence is retained to ensure narrative fidelity whilst at the same time allowing for children' sensibilities. Nancy is still beaten to death, Bullseye narrowly escapes drowning, and Bill Sykes gets a faithfully graphic come-uppance.<br /><br />Every song is excellent, though they do incline towards schmaltz. Mark Lester mimes his wonderfully. Both his and my favourite scene is the one in which the world comes alive to 'who will buy'. It's schmaltzy, but it's Dickens through and through.<br /><br />I could go on. I could commend the wonderful set-pieces, the contrast of the rich and poor. There is top-quality acting from more British regulars than you could shake a stick at.<br /><br />I ought to give it 10 points, but I'm feeling more like Scrooge today. Soak it up with your Christmas dinner. No original has been better realised.\n"
          ],
          "name": "stdout"
        }
      ]
    },
    {
      "cell_type": "markdown",
      "metadata": {
        "id": "IvlW7hhJ_8oy",
        "colab_type": "text"
      },
      "source": [
        "## Preprocessing the Data with Padding"
      ]
    },
    {
      "cell_type": "code",
      "metadata": {
        "id": "rB2brZk37jpa",
        "colab_type": "code",
        "colab": {}
      },
      "source": [
        "BUFFER_SIZE = 1000\n",
        "\n",
        "train_batches = (\n",
        "    train_data\n",
        "    .shuffle(BUFFER_SIZE)\n",
        "    .padded_batch(32, tf.compat.v1.data.get_output_shapes(train_data))\n",
        ")\n",
        "\n",
        "validation_batches = (\n",
        "    validation_data\n",
        "    .padded_batch(32, tf.compat.v1.data.get_output_shapes(validation_data))\n",
        ")\n",
        "\n",
        "test_batches = (\n",
        "    test_data\n",
        "    .padded_batch(32, tf.compat.v1.data.get_output_shapes(train_data))\n",
        ")"
      ],
      "execution_count": 0,
      "outputs": []
    },
    {
      "cell_type": "code",
      "metadata": {
        "id": "BI85YgKXD_Mx",
        "colab_type": "code",
        "outputId": "8441e0da-1c76-4684-c61c-3ced43108bdd",
        "colab": {
          "base_uri": "https://localhost:8080/",
          "height": 85
        }
      },
      "source": [
        "for batch_example, labels in train_batches.take(2):\n",
        "    print(\"Batch shape:\", batch_example.shape)\n",
        "    print(\"Label shape:\", labels.shape)"
      ],
      "execution_count": 0,
      "outputs": [
        {
          "output_type": "stream",
          "text": [
            "Batch shape: (32, 712)\n",
            "Label shape: (32,)\n",
            "Batch shape: (32, 1288)\n",
            "Label shape: (32,)\n"
          ],
          "name": "stdout"
        }
      ]
    },
    {
      "cell_type": "markdown",
      "metadata": {
        "id": "6rqh0vlv-Spx",
        "colab_type": "text"
      },
      "source": [
        "## Sequence Processing with a Neural Network\n",
        "\n",
        "* Embedding layer\n",
        "* Global Average Pooling layer\n",
        "* Dense hidden layer\n",
        "* Dense classifier"
      ]
    },
    {
      "cell_type": "code",
      "metadata": {
        "id": "yfo182VsTyXG",
        "colab_type": "code",
        "outputId": "f16dbafc-efcd-413b-ab25-804313b2c59a",
        "colab": {
          "base_uri": "https://localhost:8080/",
          "height": 289
        }
      },
      "source": [
        "model = keras.Sequential([\n",
        "  keras.layers.Embedding(encoder.vocab_size, 16),\n",
        "  keras.layers.GlobalAveragePooling1D(),\n",
        "  keras.layers.Dense(16, activation='relu', kernel_regularizer=keras.regularizers.l2(0.001)),\n",
        "  keras.layers.Dense(1, activation='sigmoid', kernel_regularizer=keras.regularizers.l2(0.001))\n",
        "])\n",
        "\n",
        "model.summary()"
      ],
      "execution_count": 0,
      "outputs": [
        {
          "output_type": "stream",
          "text": [
            "Model: \"sequential_1\"\n",
            "_________________________________________________________________\n",
            "Layer (type)                 Output Shape              Param #   \n",
            "=================================================================\n",
            "embedding_2 (Embedding)      (None, None, 16)          130960    \n",
            "_________________________________________________________________\n",
            "global_average_pooling1d_2 ( (None, 16)                0         \n",
            "_________________________________________________________________\n",
            "dense_2 (Dense)              (None, 16)                272       \n",
            "_________________________________________________________________\n",
            "dense_3 (Dense)              (None, 1)                 17        \n",
            "=================================================================\n",
            "Total params: 131,249\n",
            "Trainable params: 131,249\n",
            "Non-trainable params: 0\n",
            "_________________________________________________________________\n"
          ],
          "name": "stdout"
        }
      ]
    },
    {
      "cell_type": "markdown",
      "metadata": {
        "id": "MdolSBzg2RR4",
        "colab_type": "text"
      },
      "source": [
        "Regardless of the sequence length, the NN converts it to a vector of embedding's dimension. This is done through the Global Average Pooling layer.\n",
        "\n",
        "### Counting Parameters\n",
        "\n",
        "**Embedding layer:** 8185 (vocabulary length) * 16 (embedding dimension) = 130,960 parameters\n",
        "\n",
        "**FC layer:** 16 x 16 weights + 16 biases = 272 parameters\n",
        "\n",
        "**Dense classifier:** 1 * 16 weights + 1 bias = 17 parameters\n"
      ]
    },
    {
      "cell_type": "code",
      "metadata": {
        "id": "LYj-OZIQnXV2",
        "colab_type": "code",
        "colab": {}
      },
      "source": [
        "model.compile(optimizer='adam',\n",
        "              loss='binary_crossentropy',\n",
        "              metrics=['accuracy'])"
      ],
      "execution_count": 0,
      "outputs": []
    },
    {
      "cell_type": "code",
      "metadata": {
        "id": "eVnSdX-dnk_I",
        "colab_type": "code",
        "outputId": "7bb306f0-44bb-4d72-f57d-d40dad05f816",
        "colab": {
          "base_uri": "https://localhost:8080/",
          "height": 547
        }
      },
      "source": [
        "training_results = model.fit(train_batches,\n",
        "                             epochs=15,\n",
        "                             validation_data=validation_batches,\n",
        "                             validation_steps=30)"
      ],
      "execution_count": 0,
      "outputs": [
        {
          "output_type": "stream",
          "text": [
            "Epoch 1/15\n",
            "625/625 [==============================] - 10s 16ms/step - loss: 0.6957 - accuracy: 0.5632 - val_loss: 0.6889 - val_accuracy: 0.5167\n",
            "Epoch 2/15\n",
            "625/625 [==============================] - 7s 10ms/step - loss: 0.6247 - accuracy: 0.7210 - val_loss: 0.5426 - val_accuracy: 0.8083\n",
            "Epoch 3/15\n",
            "625/625 [==============================] - 6s 10ms/step - loss: 0.4827 - accuracy: 0.8584 - val_loss: 0.4561 - val_accuracy: 0.8687\n",
            "Epoch 4/15\n",
            "625/625 [==============================] - 7s 11ms/step - loss: 0.4237 - accuracy: 0.8863 - val_loss: 0.4275 - val_accuracy: 0.8708\n",
            "Epoch 5/15\n",
            "625/625 [==============================] - 6s 10ms/step - loss: 0.3927 - accuracy: 0.8995 - val_loss: 0.4105 - val_accuracy: 0.8813\n",
            "Epoch 6/15\n",
            "625/625 [==============================] - 6s 10ms/step - loss: 0.3734 - accuracy: 0.9064 - val_loss: 0.4195 - val_accuracy: 0.8719\n",
            "Epoch 7/15\n",
            "625/625 [==============================] - 6s 10ms/step - loss: 0.3583 - accuracy: 0.9118 - val_loss: 0.3947 - val_accuracy: 0.8875\n",
            "Epoch 8/15\n",
            "625/625 [==============================] - 6s 10ms/step - loss: 0.3476 - accuracy: 0.9186 - val_loss: 0.3912 - val_accuracy: 0.8865\n",
            "Epoch 9/15\n",
            "625/625 [==============================] - 7s 11ms/step - loss: 0.3384 - accuracy: 0.9232 - val_loss: 0.3882 - val_accuracy: 0.8906\n",
            "Epoch 10/15\n",
            "625/625 [==============================] - 6s 10ms/step - loss: 0.3305 - accuracy: 0.9262 - val_loss: 0.3886 - val_accuracy: 0.8969\n",
            "Epoch 11/15\n",
            "625/625 [==============================] - 7s 11ms/step - loss: 0.3228 - accuracy: 0.9301 - val_loss: 0.3852 - val_accuracy: 0.8917\n",
            "Epoch 12/15\n",
            "625/625 [==============================] - 7s 11ms/step - loss: 0.3168 - accuracy: 0.9314 - val_loss: 0.3829 - val_accuracy: 0.8948\n",
            "Epoch 13/15\n",
            "625/625 [==============================] - 7s 10ms/step - loss: 0.3106 - accuracy: 0.9363 - val_loss: 0.3820 - val_accuracy: 0.8948\n",
            "Epoch 14/15\n",
            "625/625 [==============================] - 6s 10ms/step - loss: 0.3069 - accuracy: 0.9376 - val_loss: 0.3837 - val_accuracy: 0.8927\n",
            "Epoch 15/15\n",
            "625/625 [==============================] - 7s 10ms/step - loss: 0.2998 - accuracy: 0.9396 - val_loss: 0.3805 - val_accuracy: 0.8906\n"
          ],
          "name": "stdout"
        }
      ]
    },
    {
      "cell_type": "code",
      "metadata": {
        "id": "IJROGKXZ4YHU",
        "colab_type": "code",
        "outputId": "df912b4d-ae62-4e1b-bba4-edc94c0b0749",
        "colab": {
          "base_uri": "https://localhost:8080/",
          "height": 34
        }
      },
      "source": [
        "loss, accuracy = model.evaluate(test_batches)"
      ],
      "execution_count": 0,
      "outputs": [
        {
          "output_type": "stream",
          "text": [
            "    782/Unknown - 5s 7ms/step - loss: 0.4121 - accuracy: 0.8789"
          ],
          "name": "stdout"
        }
      ]
    },
    {
      "cell_type": "markdown",
      "metadata": {
        "id": "sfuP7cvhAgJS",
        "colab_type": "text"
      },
      "source": [
        "## Overfitting"
      ]
    },
    {
      "cell_type": "code",
      "metadata": {
        "id": "eLFMytNc9Gpt",
        "colab_type": "code",
        "outputId": "a8982f9b-57c5-47f0-ec69-a0edaefbf0f1",
        "colab": {
          "base_uri": "https://localhost:8080/",
          "height": 34
        }
      },
      "source": [
        "training_dict = training_results.history\n",
        "training_dict.keys()"
      ],
      "execution_count": 0,
      "outputs": [
        {
          "output_type": "execute_result",
          "data": {
            "text/plain": [
              "dict_keys(['loss', 'accuracy', 'val_loss', 'val_accuracy'])"
            ]
          },
          "metadata": {
            "tags": []
          },
          "execution_count": 19
        }
      ]
    },
    {
      "cell_type": "code",
      "metadata": {
        "id": "VwrLkUzJ9T7N",
        "colab_type": "code",
        "outputId": "42de7232-8ecb-463d-ec66-9c30b3caa861",
        "colab": {
          "base_uri": "https://localhost:8080/",
          "height": 350
        }
      },
      "source": [
        "import matplotlib.pyplot as plt\n",
        "\n",
        "acc = training_dict['accuracy']\n",
        "val_acc = training_dict['val_accuracy']\n",
        "loss = training_dict['loss']\n",
        "val_loss = training_dict['val_loss']\n",
        "\n",
        "epochs = range(1, len(acc) + 1)\n",
        "\n",
        "plt.figure(figsize=(14, 5))\n",
        "\n",
        "plt.subplot(1, 2, 1)\n",
        "plt.plot(epochs, loss, 'r', label='Training loss')\n",
        "plt.plot(epochs, val_loss, 'b', label='Validation loss')\n",
        "plt.title('Training and validation loss')\n",
        "plt.xlabel('Epochs')\n",
        "plt.ylabel('Loss')\n",
        "plt.legend()\n",
        "\n",
        "plt.subplot(1, 2, 2)\n",
        "plt.plot(epochs, acc, 'r', label='Training accuracy')\n",
        "plt.plot(epochs, val_acc, 'b', label='Validation accuracy')\n",
        "plt.title('Training and validation accuracy')\n",
        "plt.xlabel('Epochs')\n",
        "plt.ylabel('Accuracy')\n",
        "plt.legend()\n",
        "\n",
        "plt.show()"
      ],
      "execution_count": 0,
      "outputs": [
        {
          "output_type": "display_data",
          "data": {
            "image/png": "[encoded data removed]",
            "text/plain": [
              "<Figure size 1008x360 with 2 Axes>"
            ]
          },
          "metadata": {
            "tags": []
          }
        }
      ]
    },
    {
      "cell_type": "markdown",
      "metadata": {
        "id": "akXauyaX_c2S",
        "colab_type": "text"
      },
      "source": [
        "## Exploring our Word Embeddings"
      ]
    },
    {
      "cell_type": "code",
      "metadata": {
        "id": "vpJeinr3QcQm",
        "colab_type": "code",
        "colab": {}
      },
      "source": [
        "word_embeddings = model.layers[0]"
      ],
      "execution_count": 0,
      "outputs": []
    },
    {
      "cell_type": "code",
      "metadata": {
        "id": "wUo-3cT1YqR1",
        "colab_type": "code",
        "outputId": "589bc029-5313-4198-b077-bed467d136dd",
        "colab": {
          "base_uri": "https://localhost:8080/",
          "height": 204
        }
      },
      "source": [
        "encoded_string = encoder.encode(\"Great movie! But not as good as The Matrix\")\n",
        "\n",
        "for ts in encoded_string:\n",
        "    print('{} ---> {}'.format(ts, encoder.decode([ts])))"
      ],
      "execution_count": 0,
      "outputs": [
        {
          "output_type": "stream",
          "text": [
            "1976 ---> Great \n",
            "65 ---> movie\n",
            "90 ---> ! \n",
            "128 ---> But \n",
            "33 ---> not \n",
            "20 ---> as \n",
            "74 ---> good \n",
            "20 ---> as \n",
            "19 ---> The \n",
            "1495 ---> Mat\n",
            "7190 ---> rix\n"
          ],
          "name": "stdout"
        }
      ]
    },
    {
      "cell_type": "code",
      "metadata": {
        "id": "WKzBbLlhgNHQ",
        "colab_type": "code",
        "outputId": "f285304d-1c39-45da-a238-57f59e5170d2",
        "colab": {
          "base_uri": "https://localhost:8080/",
          "height": 782
        }
      },
      "source": [
        "word_embeddings(tf.constant(encoded_string))"
      ],
      "execution_count": 0,
      "outputs": [
        {
          "output_type": "execute_result",
          "data": {
            "text/plain": [
              "<tf.Tensor: shape=(11, 16), dtype=float32, numpy=\n",
              "array([[ 2.0731351 , -2.1139145 , -2.180684  , -2.1460388 , -2.1209397 ,\n",
              "        -2.130702  ,  2.1875317 , -2.1459446 , -2.148039  ,  2.1069722 ,\n",
              "         2.120585  ,  2.1151714 ,  2.127604  ,  2.053482  , -2.140315  ,\n",
              "         2.1550531 ],\n",
              "       [-0.25596917,  0.40182275,  0.35381427,  0.42762247,  0.34005475,\n",
              "         0.31712258, -0.3745746 ,  0.3173669 ,  0.32866365, -0.31091097,\n",
              "        -0.47091895, -0.31866053, -0.36541218, -0.31271908,  0.29460517,\n",
              "        -0.28636786],\n",
              "       [ 0.3049061 , -0.3059851 , -0.27551225, -0.34516537, -0.36202347,\n",
              "        -0.27334708,  0.359693  , -0.31684324, -0.3341183 ,  0.30769145,\n",
              "         0.24627277,  0.33905813,  0.31481278,  0.2996428 , -0.33668712,\n",
              "         0.37835664],\n",
              "       [ 0.03756322, -0.11449406, -0.08380247, -0.0713172 , -0.02906256,\n",
              "         0.02200111,  0.06665381, -0.07858638, -0.0084738 ,  0.07134329,\n",
              "         0.00961717,  0.08563627,  0.03006605,  0.06143075, -0.0396352 ,\n",
              "         0.02677077],\n",
              "       [-0.6556626 ,  0.67472273,  0.66673243,  0.6919219 ,  0.63339156,\n",
              "         0.6077899 , -0.6411853 ,  0.59547377,  0.62967724, -0.6001724 ,\n",
              "        -0.6882649 , -0.58782184, -0.67506105, -0.66865593,  0.6739937 ,\n",
              "        -0.6287901 ],\n",
              "       [ 0.14188303, -0.22102037, -0.12739508, -0.26207614, -0.09406372,\n",
              "        -0.09048317,  0.15844727, -0.1541757 , -0.13755363,  0.15926282,\n",
              "         0.22690177,  0.17655133,  0.17417946,  0.19546069, -0.16900404,\n",
              "         0.2332438 ],\n",
              "       [ 0.54464364, -0.66296124, -0.5514713 , -0.55112785, -0.5725986 ,\n",
              "        -0.50729865,  0.65022963, -0.6119841 , -0.6101189 ,  0.586405  ,\n",
              "         0.5587271 ,  0.6168398 ,  0.5943058 ,  0.5469132 , -0.6565613 ,\n",
              "         0.5609086 ],\n",
              "       [ 0.14188303, -0.22102037, -0.12739508, -0.26207614, -0.09406372,\n",
              "        -0.09048317,  0.15844727, -0.1541757 , -0.13755363,  0.15926282,\n",
              "         0.22690177,  0.17655133,  0.17417946,  0.19546069, -0.16900404,\n",
              "         0.2332438 ],\n",
              "       [-0.13292293,  0.07379306,  0.0931716 ,  0.10338197,  0.12350009,\n",
              "         0.10463075, -0.13459626,  0.15356858,  0.14162034, -0.11421553,\n",
              "        -0.18748648, -0.09866475, -0.09969143, -0.0926533 ,  0.13372324,\n",
              "        -0.04506706],\n",
              "       [ 0.35644656, -0.35961026, -0.4388624 , -0.3609936 , -0.4092877 ,\n",
              "        -0.39337763,  0.36951822, -0.3665001 , -0.38027924,  0.43549868,\n",
              "         0.42008245,  0.45181465,  0.4013504 ,  0.42114282, -0.35914958,\n",
              "         0.35702473],\n",
              "       [-0.37374884,  0.40608087,  0.3809092 ,  0.38232398,  0.41965845,\n",
              "         0.36282632, -0.368499  ,  0.4432407 ,  0.45970774, -0.43080893,\n",
              "        -0.42519712, -0.44501817, -0.4135479 , -0.4526328 ,  0.41390014,\n",
              "        -0.4049543 ]], dtype=float32)>"
            ]
          },
          "metadata": {
            "tags": []
          },
          "execution_count": 23
        }
      ]
    }
  ]
}