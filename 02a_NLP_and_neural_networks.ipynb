{
  "nbformat": 4,
  "nbformat_minor": 0,
  "metadata": {
    "colab": {
      "name": "02a_NLP_and_neural_networks.ipynb",
      "provenance": [],
      "toc_visible": true,
      "include_colab_link": true
    },
    "kernelspec": {
      "name": "python3",
      "display_name": "Python 3"
    },
    "accelerator": "GPU"
  },
  "cells": [
    {
      "cell_type": "markdown",
      "metadata": {
        "id": "view-in-github",
        "colab_type": "text"
      },
      "source": [
        "<a href=\"https://colab.research.google.com/github/ccarpenterg/introNLP/blob/master/02a_NLP_and_neural_networks.ipynb\" target=\"_parent\"><img src=\"https://colab.research.google.com/assets/colab-badge.svg\" alt=\"Open In Colab\"/></a>"
      ]
    },
    {
      "cell_type": "markdown",
      "metadata": {
        "id": "esyZKApGGPcH",
        "colab_type": "text"
      },
      "source": [
        "# Natural Language Processing and Neural Networks"
      ]
    },
    {
      "cell_type": "code",
      "metadata": {
        "id": "TYwmBZ4Q5DsS",
        "colab_type": "code",
        "colab": {}
      },
      "source": [
        "!pip install -q tensorflow-datasets==1.3.2"
      ],
      "execution_count": 0,
      "outputs": []
    },
    {
      "cell_type": "code",
      "metadata": {
        "id": "pfTNeUQQlMKc",
        "colab_type": "code",
        "outputId": "7dd60e70-eb81-4773-c31f-398e0407ff9a",
        "colab": {
          "base_uri": "https://localhost:8080/",
          "height": 68
        }
      },
      "source": [
        "# load Tensorflow 2\n",
        "%tensorflow_version 2.x\n",
        "import tensorflow as tf\n",
        "\n",
        "from tensorflow import keras\n",
        "\n",
        "import tensorflow_datasets as tfds\n",
        "import numpy as np\n",
        "\n",
        "print(\"Tensorflow version:\", tf.__version__)\n",
        "print(\"Tensorflow datasets version:\", tfds.__version__)"
      ],
      "execution_count": 2,
      "outputs": [
        {
          "output_type": "stream",
          "text": [
            "TensorFlow 2.x selected.\n",
            "Tensorflow version: 2.1.0\n",
            "Tensorflow datasets version: 1.3.2\n"
          ],
          "name": "stdout"
        }
      ]
    },
    {
      "cell_type": "markdown",
      "metadata": {
        "id": "UutrGPKeyNhY",
        "colab_type": "text"
      },
      "source": [
        "## Sentiment Analysis of IMDB Movie Reviews"
      ]
    },
    {
      "cell_type": "code",
      "metadata": {
        "id": "SDCNkzQ1yzs4",
        "colab_type": "code",
        "colab": {}
      },
      "source": [
        "train_validation_split = tfds.Split.TRAIN.subsplit([8, 2])\n",
        "\n",
        "(train_validation_data, test_data), info = tfds.load(\n",
        "    'imdb_reviews/subwords8k',\n",
        "    split = (train_validation_split, tfds.Split.TEST),\n",
        "    as_supervised=True,\n",
        "    with_info=True\n",
        ")\n",
        "\n",
        "train_data, validation_data = train_validation_data"
      ],
      "execution_count": 0,
      "outputs": []
    },
    {
      "cell_type": "code",
      "metadata": {
        "id": "ssA-AG-NcZru",
        "colab_type": "code",
        "outputId": "b7490b40-7368-4f99-bb42-85bbde1045f3",
        "colab": {
          "base_uri": "https://localhost:8080/",
          "height": 71
        }
      },
      "source": [
        "print(info.description)"
      ],
      "execution_count": 4,
      "outputs": [
        {
          "output_type": "stream",
          "text": [
            "Large Movie Review Dataset.\n",
            "This is a dataset for binary sentiment classification containing substantially more data than previous benchmark datasets. We provide a set of 25,000 highly polar movie reviews for training, and 25,000 for testing. There is additional unlabeled data for use as well.\n"
          ],
          "name": "stdout"
        }
      ]
    },
    {
      "cell_type": "code",
      "metadata": {
        "id": "5kS97aNaXYD9",
        "colab_type": "code",
        "outputId": "a1ed5c68-d7f0-4bf8-ef86-1c2dedf1b69a",
        "colab": {
          "base_uri": "https://localhost:8080/",
          "height": 51
        }
      },
      "source": [
        "print('Train examples:', info.splits['train'].num_examples)\n",
        "print('Test examples:', info.splits['test'].num_examples)"
      ],
      "execution_count": 5,
      "outputs": [
        {
          "output_type": "stream",
          "text": [
            "Train examples: 25000\n",
            "Test examples: 25000\n"
          ],
          "name": "stdout"
        }
      ]
    },
    {
      "cell_type": "code",
      "metadata": {
        "id": "8gGet9Nszpn7",
        "colab_type": "code",
        "outputId": "f05e0bb4-fec3-4227-a810-2986989a7414",
        "colab": {
          "base_uri": "https://localhost:8080/",
          "height": 51
        }
      },
      "source": [
        "encoder = info.features['text'].encoder\n",
        "\n",
        "print('Vocabulary size: {}'.format(encoder.vocab_size))\n",
        "\n",
        "sample_string = 'A great movie!'\n",
        "\n",
        "encoded_string = encoder.encode(sample_string)\n",
        "\n",
        "print(encoded_string)"
      ],
      "execution_count": 6,
      "outputs": [
        {
          "output_type": "stream",
          "text": [
            "Vocabulary size: 8185\n",
            "[133, 122, 65, 7962]\n"
          ],
          "name": "stdout"
        }
      ]
    },
    {
      "cell_type": "code",
      "metadata": {
        "id": "PQpanyJy17Cy",
        "colab_type": "code",
        "outputId": "115d4ec8-9b44-4000-e1cd-139b8a87db1b",
        "colab": {
          "base_uri": "https://localhost:8080/",
          "height": 85
        }
      },
      "source": [
        "for ts in encoded_string:\n",
        "    print('{} ---> {}'.format(ts, encoder.decode([ts])))"
      ],
      "execution_count": 7,
      "outputs": [
        {
          "output_type": "stream",
          "text": [
            "133 ---> A \n",
            "122 ---> great \n",
            "65 ---> movie\n",
            "7962 ---> !\n"
          ],
          "name": "stdout"
        }
      ]
    },
    {
      "cell_type": "code",
      "metadata": {
        "id": "SY6lScBq74Zt",
        "colab_type": "code",
        "outputId": "0301600d-8aae-4902-e50a-8afdacee26c1",
        "colab": {
          "base_uri": "https://localhost:8080/",
          "height": 34
        }
      },
      "source": [
        "print(encoder.decode(encoded_string))"
      ],
      "execution_count": 8,
      "outputs": [
        {
          "output_type": "stream",
          "text": [
            "A great movie!\n"
          ],
          "name": "stdout"
        }
      ]
    },
    {
      "cell_type": "code",
      "metadata": {
        "id": "UzX8BBdH0YcD",
        "colab_type": "code",
        "outputId": "a9f74b79-f47d-4b05-8b5c-bd8f4c8187ce",
        "colab": {
          "base_uri": "https://localhost:8080/",
          "height": 51
        }
      },
      "source": [
        "for train_example, train_label in train_data.take(1):\n",
        "    print(train_example[:7].numpy())\n",
        "    print(train_label.numpy())"
      ],
      "execution_count": 9,
      "outputs": [
        {
          "output_type": "stream",
          "text": [
            "[ 249    4  277  309  560    6 6639]\n",
            "1\n"
          ],
          "name": "stdout"
        }
      ]
    },
    {
      "cell_type": "code",
      "metadata": {
        "id": "-IGU3JFg1ext",
        "colab_type": "code",
        "outputId": "5032e4fb-4b08-4d5c-ea06-c1d78172bc7d",
        "colab": {
          "base_uri": "https://localhost:8080/",
          "height": 54
        }
      },
      "source": [
        "print(encoder.decode(train_example))"
      ],
      "execution_count": 10,
      "outputs": [
        {
          "output_type": "stream",
          "text": [
            "As a lifelong fan of Dickens, I have invariably been disappointed by adaptations of his novels.<br /><br />Although his works presented an extremely accurate re-telling of human life at every level in Victorian Britain, throughout them all was a pervasive thread of humour that could be both playful or sarcastic as the narrative dictated. In a way, he was a literary caricaturist and cartoonist. He could be serious and hilarious in the same sentence. He pricked pride, lampooned arrogance, celebrated modesty, and empathised with loneliness and poverty. It may be a cliché, but he was a people's writer.<br /><br />And it is the comedy that is so often missing from his interpretations. At the time of writing, Oliver Twist is being dramatised in serial form on BBC television. All of the misery and cruelty is their, but non of the humour, irony, and savage lampoonery. The result is just a dark, dismal experience: the story penned by a journalist rather than a novelist. It's not really Dickens at all.<br /><br />'Oliver!', on the other hand, is much closer to the mark. The mockery of officialdom is perfectly interpreted, from the blustering beadle to the drunken magistrate. The classic stand-off between the beadle and Mr Brownlow, in which the law is described as 'a ass, a idiot' couldn't have been better done. Harry Secombe is an ideal choice.<br /><br />But the blinding cruelty is also there, the callous indifference of the state, the cold, hunger, poverty and loneliness are all presented just as surely as The Master would have wished.<br /><br />And then there is crime. Ron Moody is a treasure as the sleazy Jewish fence, whilst Oliver Reid has Bill Sykes to perfection.<br /><br />Perhaps not surprisingly, Lionel Bart - himself a Jew from London's east-end - takes a liberty with Fagin by re-interpreting him as a much more benign fellow than was Dicken's original. In the novel, he was utterly ruthless, sending some of his own boys to the gallows in order to protect himself (though he was also caught and hanged). Whereas in the movie, he is presented as something of a wayward father-figure, a sort of charitable thief rather than a corrupter of children, the latter being a long-standing anti-semitic sentiment. Otherwise, very few liberties are taken with Dickens's original. All of the most memorable elements are included. Just enough menace and violence is retained to ensure narrative fidelity whilst at the same time allowing for children' sensibilities. Nancy is still beaten to death, Bullseye narrowly escapes drowning, and Bill Sykes gets a faithfully graphic come-uppance.<br /><br />Every song is excellent, though they do incline towards schmaltz. Mark Lester mimes his wonderfully. Both his and my favourite scene is the one in which the world comes alive to 'who will buy'. It's schmaltzy, but it's Dickens through and through.<br /><br />I could go on. I could commend the wonderful set-pieces, the contrast of the rich and poor. There is top-quality acting from more British regulars than you could shake a stick at.<br /><br />I ought to give it 10 points, but I'm feeling more like Scrooge today. Soak it up with your Christmas dinner. No original has been better realised.\n"
          ],
          "name": "stdout"
        }
      ]
    },
    {
      "cell_type": "markdown",
      "metadata": {
        "id": "IvlW7hhJ_8oy",
        "colab_type": "text"
      },
      "source": [
        "## Preprocessing the Data with Padding"
      ]
    },
    {
      "cell_type": "code",
      "metadata": {
        "id": "rB2brZk37jpa",
        "colab_type": "code",
        "colab": {}
      },
      "source": [
        "BUFFER_SIZE = 1000\n",
        "\n",
        "train_batches = (\n",
        "    train_data\n",
        "    .shuffle(BUFFER_SIZE)\n",
        "    .padded_batch(32, tf.compat.v1.data.get_output_shapes(train_data))\n",
        ")\n",
        "\n",
        "validation_batches = (\n",
        "    validation_data\n",
        "    .padded_batch(32, tf.compat.v1.data.get_output_shapes(validation_data))\n",
        ")\n",
        "\n",
        "test_batches = (\n",
        "    test_data\n",
        "    .padded_batch(32, tf.compat.v1.data.get_output_shapes(train_data))\n",
        ")"
      ],
      "execution_count": 0,
      "outputs": []
    },
    {
      "cell_type": "code",
      "metadata": {
        "id": "BI85YgKXD_Mx",
        "colab_type": "code",
        "outputId": "5975dfda-ee70-4f08-ae8a-fefe3856b606",
        "colab": {
          "base_uri": "https://localhost:8080/",
          "height": 85
        }
      },
      "source": [
        "for batch_example, labels in train_batches.take(2):\n",
        "    print(\"Batch shape:\", batch_example.shape)\n",
        "    print(\"Label shape:\", labels.shape)"
      ],
      "execution_count": 12,
      "outputs": [
        {
          "output_type": "stream",
          "text": [
            "Batch shape: (32, 1288)\n",
            "Label shape: (32,)\n",
            "Batch shape: (32, 1437)\n",
            "Label shape: (32,)\n"
          ],
          "name": "stdout"
        }
      ]
    },
    {
      "cell_type": "markdown",
      "metadata": {
        "id": "6rqh0vlv-Spx",
        "colab_type": "text"
      },
      "source": [
        "## Sequence Processing with a Neural Network\n",
        "\n",
        "* Embedding layer\n",
        "* Global Average Pooling layer\n",
        "* Dense hidden layer\n",
        "* Dense classifier"
      ]
    },
    {
      "cell_type": "code",
      "metadata": {
        "id": "yfo182VsTyXG",
        "colab_type": "code",
        "outputId": "8743a609-079f-4d42-f122-a056c5b4fef7",
        "colab": {
          "base_uri": "https://localhost:8080/",
          "height": 289
        }
      },
      "source": [
        "model = keras.Sequential([\n",
        "  keras.layers.Embedding(encoder.vocab_size, 16),\n",
        "  keras.layers.GlobalAveragePooling1D(),\n",
        "  keras.layers.Dense(16, activation='relu'),\n",
        "  keras.layers.Dense(1, activation='sigmoid')\n",
        "])\n",
        "\n",
        "model.summary()"
      ],
      "execution_count": 13,
      "outputs": [
        {
          "output_type": "stream",
          "text": [
            "Model: \"sequential\"\n",
            "_________________________________________________________________\n",
            "Layer (type)                 Output Shape              Param #   \n",
            "=================================================================\n",
            "embedding (Embedding)        (None, None, 16)          130960    \n",
            "_________________________________________________________________\n",
            "global_average_pooling1d (Gl (None, 16)                0         \n",
            "_________________________________________________________________\n",
            "dense (Dense)                (None, 16)                272       \n",
            "_________________________________________________________________\n",
            "dense_1 (Dense)              (None, 1)                 17        \n",
            "=================================================================\n",
            "Total params: 131,249\n",
            "Trainable params: 131,249\n",
            "Non-trainable params: 0\n",
            "_________________________________________________________________\n"
          ],
          "name": "stdout"
        }
      ]
    },
    {
      "cell_type": "markdown",
      "metadata": {
        "id": "MdolSBzg2RR4",
        "colab_type": "text"
      },
      "source": [
        "Regardless of the sequence length, the NN converts it to a vector of embedding's dimension. This is done through the Global Average Pooling layer.\n",
        "\n",
        "### Counting Parameters\n",
        "\n",
        "**Embedding layer:** 8185 (vocabulary length) * 16 (embedding dimension) = 130,960 parameters\n",
        "\n",
        "**FC layer:** 16 x 16 weights + 16 biases = 272 parameters\n",
        "\n",
        "**Dense classifier:** 1 * 16 weights + 1 bias = 17 parameters\n"
      ]
    },
    {
      "cell_type": "code",
      "metadata": {
        "id": "LYj-OZIQnXV2",
        "colab_type": "code",
        "colab": {}
      },
      "source": [
        "model.compile(optimizer='adam',\n",
        "              loss='binary_crossentropy',\n",
        "              metrics=['accuracy'])"
      ],
      "execution_count": 0,
      "outputs": []
    },
    {
      "cell_type": "code",
      "metadata": {
        "id": "eVnSdX-dnk_I",
        "colab_type": "code",
        "outputId": "c933a38c-7a18-42d9-d932-d6c7d74e9bd5",
        "colab": {
          "base_uri": "https://localhost:8080/",
          "height": 547
        }
      },
      "source": [
        "training_results = model.fit(train_batches,\n",
        "                             epochs=15,\n",
        "                             validation_data=validation_batches,\n",
        "                             validation_steps=30)"
      ],
      "execution_count": 15,
      "outputs": [
        {
          "output_type": "stream",
          "text": [
            "Epoch 1/15\n",
            "625/625 [==============================] - 10s 16ms/step - loss: 0.6554 - accuracy: 0.6464 - val_loss: 0.5543 - val_accuracy: 0.8000\n",
            "Epoch 2/15\n",
            "625/625 [==============================] - 7s 11ms/step - loss: 0.4379 - accuracy: 0.8380 - val_loss: 0.3729 - val_accuracy: 0.8615\n",
            "Epoch 3/15\n",
            "625/625 [==============================] - 7s 11ms/step - loss: 0.3127 - accuracy: 0.8875 - val_loss: 0.3117 - val_accuracy: 0.8823\n",
            "Epoch 4/15\n",
            "625/625 [==============================] - 7s 11ms/step - loss: 0.2590 - accuracy: 0.9092 - val_loss: 0.2865 - val_accuracy: 0.8917\n",
            "Epoch 5/15\n",
            "625/625 [==============================] - 7s 11ms/step - loss: 0.2256 - accuracy: 0.9202 - val_loss: 0.2815 - val_accuracy: 0.8896\n",
            "Epoch 6/15\n",
            "625/625 [==============================] - 7s 11ms/step - loss: 0.2022 - accuracy: 0.9284 - val_loss: 0.2728 - val_accuracy: 0.8938\n",
            "Epoch 7/15\n",
            "625/625 [==============================] - 7s 11ms/step - loss: 0.1844 - accuracy: 0.9376 - val_loss: 0.3210 - val_accuracy: 0.8729\n",
            "Epoch 8/15\n",
            "625/625 [==============================] - 7s 11ms/step - loss: 0.1662 - accuracy: 0.9437 - val_loss: 0.2814 - val_accuracy: 0.8969\n",
            "Epoch 9/15\n",
            "625/625 [==============================] - 7s 11ms/step - loss: 0.1519 - accuracy: 0.9484 - val_loss: 0.2962 - val_accuracy: 0.8854\n",
            "Epoch 10/15\n",
            "625/625 [==============================] - 7s 11ms/step - loss: 0.1387 - accuracy: 0.9543 - val_loss: 0.2934 - val_accuracy: 0.8885\n",
            "Epoch 11/15\n",
            "625/625 [==============================] - 7s 11ms/step - loss: 0.1295 - accuracy: 0.9574 - val_loss: 0.3146 - val_accuracy: 0.8865\n",
            "Epoch 12/15\n",
            "625/625 [==============================] - 7s 11ms/step - loss: 0.1190 - accuracy: 0.9628 - val_loss: 0.3299 - val_accuracy: 0.8802\n",
            "Epoch 13/15\n",
            "625/625 [==============================] - 7s 11ms/step - loss: 0.1088 - accuracy: 0.9659 - val_loss: 0.3348 - val_accuracy: 0.8813\n",
            "Epoch 14/15\n",
            "625/625 [==============================] - 7s 11ms/step - loss: 0.1028 - accuracy: 0.9680 - val_loss: 0.3573 - val_accuracy: 0.8771\n",
            "Epoch 15/15\n",
            "625/625 [==============================] - 7s 11ms/step - loss: 0.0936 - accuracy: 0.9736 - val_loss: 0.3822 - val_accuracy: 0.8750\n"
          ],
          "name": "stdout"
        }
      ]
    },
    {
      "cell_type": "code",
      "metadata": {
        "id": "IJROGKXZ4YHU",
        "colab_type": "code",
        "outputId": "8f8abc36-451e-4100-c0d0-6d6c05c40318",
        "colab": {
          "base_uri": "https://localhost:8080/",
          "height": 34
        }
      },
      "source": [
        "loss, accuracy = model.evaluate(test_batches)"
      ],
      "execution_count": 16,
      "outputs": [
        {
          "output_type": "stream",
          "text": [
            "    782/Unknown - 6s 7ms/step - loss: 0.4632 - accuracy: 0.8514"
          ],
          "name": "stdout"
        }
      ]
    },
    {
      "cell_type": "markdown",
      "metadata": {
        "id": "sfuP7cvhAgJS",
        "colab_type": "text"
      },
      "source": [
        "## Overfitting"
      ]
    },
    {
      "cell_type": "code",
      "metadata": {
        "id": "eLFMytNc9Gpt",
        "colab_type": "code",
        "outputId": "2ddec877-909c-43e3-c2f7-6c7a2f780e9a",
        "colab": {
          "base_uri": "https://localhost:8080/",
          "height": 34
        }
      },
      "source": [
        "training_dict = training_results.history\n",
        "training_dict.keys()"
      ],
      "execution_count": 17,
      "outputs": [
        {
          "output_type": "execute_result",
          "data": {
            "text/plain": [
              "dict_keys(['loss', 'accuracy', 'val_loss', 'val_accuracy'])"
            ]
          },
          "metadata": {
            "tags": []
          },
          "execution_count": 17
        }
      ]
    },
    {
      "cell_type": "code",
      "metadata": {
        "id": "VwrLkUzJ9T7N",
        "colab_type": "code",
        "outputId": "5877c15b-657a-4dd3-b156-8cd9a4102491",
        "colab": {
          "base_uri": "https://localhost:8080/",
          "height": 573
        }
      },
      "source": [
        "import matplotlib.pyplot as plt\n",
        "\n",
        "acc = training_dict['accuracy']\n",
        "val_acc = training_dict['val_accuracy']\n",
        "loss = training_dict['loss']\n",
        "val_loss = training_dict['val_loss']\n",
        "\n",
        "epochs = range(1, len(acc) + 1)\n",
        "\n",
        "plt.plot(epochs, loss, 'r', label='Training loss')\n",
        "plt.plot(epochs, val_loss, 'b', label='Validation loss')\n",
        "plt.title('Training and validation loss')\n",
        "plt.xlabel('Epochs')\n",
        "plt.ylabel('Loss')\n",
        "plt.legend()\n",
        "\n",
        "plt.figure()\n",
        "\n",
        "plt.plot(epochs, acc, 'r', label='Training accuracy')\n",
        "plt.plot(epochs, val_acc, 'b', label='Validation accuracy')\n",
        "plt.title('Training and validation accuracy')\n",
        "plt.xlabel('Epochs')\n",
        "plt.ylabel('Accuracy')\n",
        "plt.legend()\n",
        "\n",
        "plt.show()"
      ],
      "execution_count": 23,
      "outputs": [
        {
          "output_type": "display_data",
          "data": {
            "image/png": "[encoded data removed]",
            "text/plain": [
              "<Figure size 432x288 with 1 Axes>"
            ]
          },
          "metadata": {
            "tags": []
          }
        },
        {
          "output_type": "display_data",
          "data": {
            "image/png": "[encoded data removed]",
            "text/plain": [
              "<Figure size 432x288 with 1 Axes>"
            ]
          },
          "metadata": {
            "tags": []
          }
        }
      ]
    },
    {
      "cell_type": "markdown",
      "metadata": {
        "id": "akXauyaX_c2S",
        "colab_type": "text"
      },
      "source": [
        "## Exploring our Word Embeddings"
      ]
    },
    {
      "cell_type": "code",
      "metadata": {
        "id": "vpJeinr3QcQm",
        "colab_type": "code",
        "colab": {}
      },
      "source": [
        "word_embeddings = model.layers[0]"
      ],
      "execution_count": 0,
      "outputs": []
    },
    {
      "cell_type": "code",
      "metadata": {
        "id": "wUo-3cT1YqR1",
        "colab_type": "code",
        "outputId": "f25bd798-05f5-46f2-be53-85cab241ead9",
        "colab": {
          "base_uri": "https://localhost:8080/",
          "height": 204
        }
      },
      "source": [
        "encoded_string = encoder.encode(\"Great movie! But not as good as The Matrix\")\n",
        "\n",
        "for ts in encoded_string:\n",
        "    print('{} ---> {}'.format(ts, encoder.decode([ts])))"
      ],
      "execution_count": 0,
      "outputs": [
        {
          "output_type": "stream",
          "text": [
            "1976 ---> Great \n",
            "65 ---> movie\n",
            "90 ---> ! \n",
            "128 ---> But \n",
            "33 ---> not \n",
            "20 ---> as \n",
            "74 ---> good \n",
            "20 ---> as \n",
            "19 ---> The \n",
            "1495 ---> Mat\n",
            "7190 ---> rix\n"
          ],
          "name": "stdout"
        }
      ]
    },
    {
      "cell_type": "code",
      "metadata": {
        "id": "WKzBbLlhgNHQ",
        "colab_type": "code",
        "outputId": "73596806-43f5-4bc5-b9eb-e280a67e8b92",
        "colab": {
          "base_uri": "https://localhost:8080/",
          "height": 1000
        }
      },
      "source": [
        "word_embeddings(tf.constant(encoded_string))"
      ],
      "execution_count": 0,
      "outputs": [
        {
          "output_type": "execute_result",
          "data": {
            "text/plain": [
              "<tf.Tensor: shape=(11, 16), dtype=float32, numpy=\n",
              "array([[ 1.12478924e+00,  1.08260620e+00,  1.17501450e+00,\n",
              "         1.24273252e+00, -1.12194395e+00,  1.01618612e+00,\n",
              "         1.16585374e+00, -1.20227444e+00, -1.18922150e+00,\n",
              "         1.16476190e+00,  1.04960930e+00,  9.63833272e-01,\n",
              "        -1.14250112e+00,  1.16163003e+00, -1.08137465e+00,\n",
              "         1.20654261e+00],\n",
              "       [-1.72903389e-01, -1.64086342e-01, -2.04409704e-01,\n",
              "        -2.11662576e-01,  1.52420834e-01, -2.16511160e-01,\n",
              "        -1.59330890e-01,  2.52441972e-01,  2.04225913e-01,\n",
              "        -2.71416962e-01, -1.98323697e-01, -2.31545448e-01,\n",
              "         1.73397958e-01, -2.57316560e-01,  4.85882387e-02,\n",
              "        -2.55758911e-01],\n",
              "       [ 1.14466093e-01,  7.96662942e-02,  8.50180313e-02,\n",
              "         5.88851385e-02, -9.98349562e-02,  6.23798333e-02,\n",
              "         4.25811410e-02, -8.31002966e-02, -8.57426599e-02,\n",
              "         4.96801622e-02,  7.60101005e-02, -9.02654305e-02,\n",
              "        -9.63754803e-02,  9.54144821e-02, -2.08643079e-01,\n",
              "         7.42726102e-02],\n",
              "       [ 1.45441731e-02, -1.36699472e-02, -6.27545500e-03,\n",
              "         4.60726358e-02, -2.29572207e-02, -7.63959512e-02,\n",
              "         3.38714607e-02,  2.44070664e-02, -4.42275591e-02,\n",
              "        -1.20170666e-02,  1.26119281e-04, -1.24952748e-01,\n",
              "         2.52141543e-02, -5.87577708e-02,  4.55972366e-02,\n",
              "        -7.67567232e-02],\n",
              "       [-2.26112261e-01, -2.57916659e-01, -2.54406661e-01,\n",
              "        -2.64141321e-01,  2.80706882e-01, -3.31583381e-01,\n",
              "        -2.72739470e-01,  3.14417452e-01,  2.44456857e-01,\n",
              "        -3.55321318e-01, -2.63335317e-01, -3.41061205e-01,\n",
              "         2.56327242e-01, -3.48005652e-01,  2.07108125e-01,\n",
              "        -3.42630357e-01],\n",
              "       [ 1.65733144e-01, -4.35712449e-02,  1.83537036e-01,\n",
              "         1.35654315e-01, -3.02691795e-02, -3.07842910e-01,\n",
              "         8.14110935e-02,  6.85150642e-03, -5.23757897e-02,\n",
              "         5.59382848e-02, -5.37120476e-02, -3.85134250e-01,\n",
              "        -8.94253030e-02, -1.77813619e-01,  1.53615072e-01,\n",
              "        -1.98804345e-02],\n",
              "       [ 3.56694311e-01,  2.48662993e-01,  3.33239257e-01,\n",
              "         3.54017973e-01, -3.29235047e-01,  2.40670919e-01,\n",
              "         3.64257455e-01, -3.38314503e-01, -3.79945427e-01,\n",
              "         3.67617011e-01,  3.56521636e-01,  1.60427749e-01,\n",
              "        -3.59019458e-01,  2.54840016e-01, -3.30177158e-01,\n",
              "         3.22230279e-01],\n",
              "       [ 1.65733144e-01, -4.35712449e-02,  1.83537036e-01,\n",
              "         1.35654315e-01, -3.02691795e-02, -3.07842910e-01,\n",
              "         8.14110935e-02,  6.85150642e-03, -5.23757897e-02,\n",
              "         5.59382848e-02, -5.37120476e-02, -3.85134250e-01,\n",
              "        -8.94253030e-02, -1.77813619e-01,  1.53615072e-01,\n",
              "        -1.98804345e-02],\n",
              "       [ 7.93449730e-02, -6.24943525e-02,  3.47707830e-02,\n",
              "         4.96679768e-02, -1.42334355e-02, -1.52875870e-01,\n",
              "         3.06053646e-02,  6.00195117e-02, -3.01103815e-02,\n",
              "         1.92116555e-02, -1.57459080e-02, -3.06706995e-01,\n",
              "        -1.22656664e-02, -8.18591192e-02, -1.93675270e-03,\n",
              "        -1.37171969e-02],\n",
              "       [ 3.86537552e-01,  2.94421822e-01,  3.41774076e-01,\n",
              "         3.75178695e-01, -3.98005307e-01,  2.08579317e-01,\n",
              "         3.36187541e-01, -3.56949985e-01, -3.63325059e-01,\n",
              "         3.37028265e-01,  3.49860311e-01,  2.01100007e-01,\n",
              "        -3.03421944e-01,  3.25566888e-01, -2.88121670e-01,\n",
              "         2.91518629e-01],\n",
              "       [-3.33107084e-01, -2.57321775e-01, -2.67265558e-01,\n",
              "        -3.04736555e-01,  3.54198933e-01, -3.67198825e-01,\n",
              "        -2.87539244e-01,  2.91110694e-01,  2.93310493e-01,\n",
              "        -2.87041724e-01, -3.21302593e-01, -2.45867521e-01,\n",
              "         3.18756044e-01, -2.70907849e-01,  3.37841779e-01,\n",
              "        -2.70524174e-01]], dtype=float32)>"
            ]
          },
          "metadata": {
            "tags": []
          },
          "execution_count": 31
        }
      ]
    }
  ]
}