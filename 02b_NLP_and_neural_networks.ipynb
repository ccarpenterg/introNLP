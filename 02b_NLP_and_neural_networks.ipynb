{
  "nbformat": 4,
  "nbformat_minor": 0,
  "metadata": {
    "colab": {
      "name": "02b_NLP_and_neural_networks.ipynb",
      "provenance": [],
      "toc_visible": true,
      "authorship_tag": "ABX9TyMc4+BYG40DDT+t3zfIWLAz",
      "include_colab_link": true
    },
    "kernelspec": {
      "name": "python3",
      "display_name": "Python 3"
    },
    "accelerator": "GPU"
  },
  "cells": [
    {
      "cell_type": "markdown",
      "metadata": {
        "id": "view-in-github",
        "colab_type": "text"
      },
      "source": [
        "<a href=\"https://colab.research.google.com/github/ccarpenterg/introNLP/blob/master/02b_NLP_and_neural_networks.ipynb\" target=\"_parent\"><img src=\"https://colab.research.google.com/assets/colab-badge.svg\" alt=\"Open In Colab\"/></a>"
      ]
    },
    {
      "cell_type": "markdown",
      "metadata": {
        "id": "gWNj-TefkIg2",
        "colab_type": "text"
      },
      "source": [
        "# Pre-trained Sentence Embeddings and Neural Networks"
      ]
    },
    {
      "cell_type": "code",
      "metadata": {
        "id": "YdD8kG-2jCqF",
        "colab_type": "code",
        "colab": {}
      },
      "source": [
        "!pip install -q tensorflow-datasets==1.3.2"
      ],
      "execution_count": 0,
      "outputs": []
    },
    {
      "cell_type": "code",
      "metadata": {
        "id": "bLzoMlbxc-l_",
        "colab_type": "code",
        "outputId": "83a6c92c-795f-4ba7-a2b2-92582310515c",
        "colab": {
          "base_uri": "https://localhost:8080/",
          "height": 68
        }
      },
      "source": [
        "# load Tensorflow 2\n",
        "%tensorflow_version 2.x\n",
        "\n",
        "import tensorflow as tf\n",
        "\n",
        "from tensorflow import keras\n",
        "\n",
        "import tensorflow_hub as hub\n",
        "import tensorflow_datasets as tfds\n",
        "import numpy as np\n",
        "\n",
        "print(\"Tensorflow version:\", tf.__version__)\n",
        "print(\"Tensorflow datasets version:\", tfds.__version__)"
      ],
      "execution_count": 0,
      "outputs": [
        {
          "output_type": "stream",
          "text": [
            "TensorFlow 2.x selected.\n",
            "Tensorflow version: 2.1.0\n",
            "Tensorflow datasets version: 1.3.2\n"
          ],
          "name": "stdout"
        }
      ]
    },
    {
      "cell_type": "markdown",
      "metadata": {
        "id": "-_rBjaSzuqbF",
        "colab_type": "text"
      },
      "source": [
        "## Task: Sentiment Analysis of IMDB Reviews\n",
        "\n",
        "We continue analysing the sentiment of IMDB reviews using neural networks. This time we don't train the embeddings from scratch, and instead we use pretrained sentence embeddings that are available through Tensorflow Hub."
      ]
    },
    {
      "cell_type": "markdown",
      "metadata": {
        "id": "uRVIExutxVJh",
        "colab_type": "text"
      },
      "source": [
        "### IMDB Reviews Dataset Splits"
      ]
    },
    {
      "cell_type": "code",
      "metadata": {
        "id": "zMVxKiHRgqga",
        "colab_type": "code",
        "colab": {}
      },
      "source": [
        "train_validation_split = tfds.Split.TRAIN.subsplit([8, 2])\n",
        "\n",
        "train_validation_data, test_data = tfds.load(\n",
        "    'imdb_reviews',\n",
        "    split = (train_validation_split, tfds.Split.TEST),\n",
        "    as_supervised=True\n",
        ")\n",
        "\n",
        "train_data, validation_data = train_validation_data"
      ],
      "execution_count": 0,
      "outputs": []
    },
    {
      "cell_type": "markdown",
      "metadata": {
        "id": "jA8tF1AcxsEz",
        "colab_type": "text"
      },
      "source": [
        "### Preprocessing the Dataset with Padding"
      ]
    },
    {
      "cell_type": "code",
      "metadata": {
        "id": "ptp69q3KnzGp",
        "colab_type": "code",
        "colab": {}
      },
      "source": [
        "BUFFER_SIZE = 5000\n",
        "BATCH_SIZE = 32\n",
        "\n",
        "train_batches = (\n",
        "    train_data\n",
        "    .shuffle(BUFFER_SIZE)\n",
        "    .padded_batch(BATCH_SIZE, tf.compat.v1.data.get_output_shapes(train_data))\n",
        ")\n",
        "\n",
        "validation_batches = (\n",
        "    validation_data\n",
        "    .padded_batch(BATCH_SIZE, tf.compat.v1.data.get_output_shapes((validation_data)))\n",
        ")\n",
        "\n",
        "test_batches = (\n",
        "    test_data\n",
        "    .padded_batch(BATCH_SIZE, tf.compat.v1.data.get_output_shapes((test_data)))\n",
        ")"
      ],
      "execution_count": 0,
      "outputs": []
    },
    {
      "cell_type": "markdown",
      "metadata": {
        "id": "bafqamlCkTEZ",
        "colab_type": "text"
      },
      "source": [
        "### Downloading a Pretrained Sentence Embedding\n",
        "\n",
        "nnlm-en-dim128-with-normalization: Token based text embedding trained on English Google News 200B corpus."
      ]
    },
    {
      "cell_type": "code",
      "metadata": {
        "id": "jy-NGREaI9kS",
        "colab_type": "code",
        "colab": {}
      },
      "source": [
        "# Embedding details: https://tfhub.dev/google/nnlm-en-dim128-with-normalization/2\n",
        "embedding_url = \"https://tfhub.dev/google/nnlm-en-dim128-with-normalization/2\""
      ],
      "execution_count": 0,
      "outputs": []
    },
    {
      "cell_type": "code",
      "metadata": {
        "id": "rPGogDhn1bPE",
        "colab_type": "code",
        "outputId": "348fef72-9592-46ad-cc6d-14577e3a3eed",
        "colab": {
          "base_uri": "https://localhost:8080/",
          "height": 51
        }
      },
      "source": [
        "hub_layer = hub.KerasLayer(\n",
        "    embedding_url,\n",
        "    input_shape=[],\n",
        "    dtype=tf.string\n",
        ")\n",
        "\n",
        "batch, labels = next(iter(train_batches))\n",
        "hub_layer_output = hub_layer(batch)\n",
        "\n",
        "print(\"Each batch contains {} reviews\".format(batch.shape[0]))\n",
        "print((\"The Tensorflow hub layer outputs a \" \n",
        "       \"word embedding vector of length {} \" \n",
        "       \"for each review: {}\").format(hub_layer_output.shape[1], hub_layer_output.shape))"
      ],
      "execution_count": 0,
      "outputs": [
        {
          "output_type": "stream",
          "text": [
            "Each batch contains 32 reviews\n",
            "The Tensorflow hub layer outputs a word embedding vector of length 128 for each review: (32, 128)\n"
          ],
          "name": "stdout"
        }
      ]
    },
    {
      "cell_type": "markdown",
      "metadata": {
        "id": "8IXYnElfko1Y",
        "colab_type": "text"
      },
      "source": [
        "### Model 1: Non-Trainable NNLM Embedding Layer"
      ]
    },
    {
      "cell_type": "code",
      "metadata": {
        "id": "yxnxf2xWpLIK",
        "colab_type": "code",
        "colab": {}
      },
      "source": [
        "embedding_url = \"https://tfhub.dev/google/nnlm-en-dim128-with-normalization/2\"\n",
        "\n",
        "hub_layer_nnlm_dim128 = hub.KerasLayer(\n",
        "    embedding_url,\n",
        "    input_shape=[],\n",
        "    dtype=tf.string,\n",
        "    trainable=False\n",
        ")"
      ],
      "execution_count": 0,
      "outputs": []
    },
    {
      "cell_type": "code",
      "metadata": {
        "id": "ptnIIImAtHYB",
        "colab_type": "code",
        "outputId": "7c5acda9-530c-4237-e5c2-bb3570b6390c",
        "colab": {
          "base_uri": "https://localhost:8080/",
          "height": 323
        }
      },
      "source": [
        "model_v1 = tf.keras.Sequential([\n",
        "    hub_layer_nnlm_dim128,\n",
        "    tf.keras.layers.Dense(256, activation='relu'),\n",
        "    tf.keras.layers.Dropout(0.5),\n",
        "    tf.keras.layers.Dense(512, activation='relu'),\n",
        "    tf.keras.layers.Dense(1, activation='sigmoid')\n",
        "])\n",
        "\n",
        "model_v1.summary()"
      ],
      "execution_count": 0,
      "outputs": [
        {
          "output_type": "stream",
          "text": [
            "Model: \"sequential_4\"\n",
            "_________________________________________________________________\n",
            "Layer (type)                 Output Shape              Param #   \n",
            "=================================================================\n",
            "keras_layer_1 (KerasLayer)   (None, 128)               124642688 \n",
            "_________________________________________________________________\n",
            "dense_11 (Dense)             (None, 256)               33024     \n",
            "_________________________________________________________________\n",
            "dropout_4 (Dropout)          (None, 256)               0         \n",
            "_________________________________________________________________\n",
            "dense_12 (Dense)             (None, 512)               131584    \n",
            "_________________________________________________________________\n",
            "dense_13 (Dense)             (None, 1)                 513       \n",
            "=================================================================\n",
            "Total params: 124,807,809\n",
            "Trainable params: 165,121\n",
            "Non-trainable params: 124,642,688\n",
            "_________________________________________________________________\n"
          ],
          "name": "stdout"
        }
      ]
    },
    {
      "cell_type": "markdown",
      "metadata": {
        "id": "KuGKP7O2lDY7",
        "colab_type": "text"
      },
      "source": [
        "### Model 2: Non-Trainable Swivel Embedding Layer"
      ]
    },
    {
      "cell_type": "code",
      "metadata": {
        "id": "uOkx_-6OyAby",
        "colab_type": "code",
        "colab": {}
      },
      "source": [
        "embedding_url = \"https://tfhub.dev/google/tf2-preview/gnews-swivel-20dim/1\"\n",
        "\n",
        "hub_layer_non_trainable_swivel20dim = hub.KerasLayer(\n",
        "    embedding_url,\n",
        "    input_shape=[],\n",
        "    dtype=tf.string,\n",
        "    trainable=False\n",
        ")"
      ],
      "execution_count": 0,
      "outputs": []
    },
    {
      "cell_type": "code",
      "metadata": {
        "id": "PkhtqhcZzJ2b",
        "colab_type": "code",
        "outputId": "949cf14f-e39c-4c78-a2b7-78602ae0752a",
        "colab": {
          "base_uri": "https://localhost:8080/",
          "height": 323
        }
      },
      "source": [
        "model_v2 = tf.keras.Sequential([\n",
        "    hub_layer_non_trainable_swivel20dim,\n",
        "    tf.keras.layers.Dense(256, activation='relu'),\n",
        "    tf.keras.layers.Dropout(0.5),\n",
        "    tf.keras.layers.Dense(512, activation='relu'),\n",
        "    tf.keras.layers.Dense(1, activation='sigmoid')\n",
        "])\n",
        "\n",
        "model_v2.summary()"
      ],
      "execution_count": 0,
      "outputs": [
        {
          "output_type": "stream",
          "text": [
            "Model: \"sequential_1\"\n",
            "_________________________________________________________________\n",
            "Layer (type)                 Output Shape              Param #   \n",
            "=================================================================\n",
            "keras_layer_2 (KerasLayer)   (None, 20)                400020    \n",
            "_________________________________________________________________\n",
            "dense_3 (Dense)              (None, 256)               5376      \n",
            "_________________________________________________________________\n",
            "dropout_1 (Dropout)          (None, 256)               0         \n",
            "_________________________________________________________________\n",
            "dense_4 (Dense)              (None, 512)               131584    \n",
            "_________________________________________________________________\n",
            "dense_5 (Dense)              (None, 1)                 513       \n",
            "=================================================================\n",
            "Total params: 537,493\n",
            "Trainable params: 137,473\n",
            "Non-trainable params: 400,020\n",
            "_________________________________________________________________\n"
          ],
          "name": "stdout"
        }
      ]
    },
    {
      "cell_type": "markdown",
      "metadata": {
        "id": "lufMu5ZMl5A_",
        "colab_type": "text"
      },
      "source": [
        "### Model 3: Trainable Swivel Embedding Layer"
      ]
    },
    {
      "cell_type": "code",
      "metadata": {
        "id": "YaM2IIdhc8ou",
        "colab_type": "code",
        "colab": {}
      },
      "source": [
        "embedding_url = \"https://tfhub.dev/google/tf2-preview/gnews-swivel-20dim/1\"\n",
        "\n",
        "hub_layer_trainable_swivel20dim = hub.KerasLayer(\n",
        "    embedding_url,\n",
        "    input_shape=[],\n",
        "    dtype=tf.string,\n",
        "    trainable=True\n",
        ")"
      ],
      "execution_count": 0,
      "outputs": []
    },
    {
      "cell_type": "code",
      "metadata": {
        "id": "0cxSkzbnex62",
        "colab_type": "code",
        "outputId": "5855d50f-31b8-4c88-849a-90f37347fc38",
        "colab": {
          "base_uri": "https://localhost:8080/",
          "height": 323
        }
      },
      "source": [
        "model_v3 = tf.keras.Sequential([\n",
        "    hub_layer_trainable_swivel20dim,\n",
        "    tf.keras.layers.Dense(256, activation='relu'),\n",
        "    tf.keras.layers.Dropout(0.5),\n",
        "    tf.keras.layers.Dense(512, activation='relu'),\n",
        "    tf.keras.layers.Dense(1, activation='sigmoid')\n",
        "])\n",
        "\n",
        "model_v3.summary()"
      ],
      "execution_count": 0,
      "outputs": [
        {
          "output_type": "stream",
          "text": [
            "Model: \"sequential_2\"\n",
            "_________________________________________________________________\n",
            "Layer (type)                 Output Shape              Param #   \n",
            "=================================================================\n",
            "keras_layer_3 (KerasLayer)   (None, 20)                400020    \n",
            "_________________________________________________________________\n",
            "dense_6 (Dense)              (None, 256)               5376      \n",
            "_________________________________________________________________\n",
            "dropout_2 (Dropout)          (None, 256)               0         \n",
            "_________________________________________________________________\n",
            "dense_7 (Dense)              (None, 512)               131584    \n",
            "_________________________________________________________________\n",
            "dense_8 (Dense)              (None, 1)                 513       \n",
            "=================================================================\n",
            "Total params: 537,493\n",
            "Trainable params: 537,493\n",
            "Non-trainable params: 0\n",
            "_________________________________________________________________\n"
          ],
          "name": "stdout"
        }
      ]
    },
    {
      "cell_type": "markdown",
      "metadata": {
        "id": "rnUHyVsQlM9h",
        "colab_type": "text"
      },
      "source": [
        "### Training the Models on the IMDB Reviews Dataset"
      ]
    },
    {
      "cell_type": "code",
      "metadata": {
        "id": "eb23ddQS048P",
        "colab_type": "code",
        "colab": {}
      },
      "source": [
        "EPOCHS = 20\n",
        "results = dict()"
      ],
      "execution_count": 0,
      "outputs": []
    },
    {
      "cell_type": "code",
      "metadata": {
        "id": "H-wqpOro0_Cd",
        "colab_type": "code",
        "outputId": "965aa600-4429-4644-848b-44805abcb18c",
        "colab": {
          "base_uri": "https://localhost:8080/",
          "height": 717
        }
      },
      "source": [
        "model_v1.compile(optimizer='adam',\n",
        "                 loss='binary_crossentropy',\n",
        "                 metrics=['accuracy'])\n",
        "\n",
        "results['v1'] = model_v1.fit(train_batches,\n",
        "                             epochs=EPOCHS,\n",
        "                             validation_data=validation_batches,\n",
        "                             validation_steps=30)"
      ],
      "execution_count": 0,
      "outputs": [
        {
          "output_type": "stream",
          "text": [
            "Epoch 1/20\n",
            "625/625 [==============================] - 10s 16ms/step - loss: 0.4708 - accuracy: 0.7767 - val_loss: 0.3761 - val_accuracy: 0.8250\n",
            "Epoch 2/20\n",
            "625/625 [==============================] - 7s 11ms/step - loss: 0.4157 - accuracy: 0.8145 - val_loss: 0.3643 - val_accuracy: 0.8292\n",
            "Epoch 3/20\n",
            "625/625 [==============================] - 7s 10ms/step - loss: 0.4048 - accuracy: 0.8185 - val_loss: 0.3820 - val_accuracy: 0.8271\n",
            "Epoch 4/20\n",
            "625/625 [==============================] - 7s 11ms/step - loss: 0.3970 - accuracy: 0.8210 - val_loss: 0.3542 - val_accuracy: 0.8323\n",
            "Epoch 5/20\n",
            "625/625 [==============================] - 7s 11ms/step - loss: 0.3921 - accuracy: 0.8246 - val_loss: 0.3510 - val_accuracy: 0.8323\n",
            "Epoch 6/20\n",
            "625/625 [==============================] - 7s 11ms/step - loss: 0.3900 - accuracy: 0.8266 - val_loss: 0.3494 - val_accuracy: 0.8406\n",
            "Epoch 7/20\n",
            "625/625 [==============================] - 7s 11ms/step - loss: 0.3823 - accuracy: 0.8288 - val_loss: 0.3444 - val_accuracy: 0.8292\n",
            "Epoch 8/20\n",
            "625/625 [==============================] - 7s 11ms/step - loss: 0.3797 - accuracy: 0.8292 - val_loss: 0.3527 - val_accuracy: 0.8375\n",
            "Epoch 9/20\n",
            "625/625 [==============================] - 7s 12ms/step - loss: 0.3747 - accuracy: 0.8317 - val_loss: 0.3473 - val_accuracy: 0.8365\n",
            "Epoch 10/20\n",
            "625/625 [==============================] - 7s 11ms/step - loss: 0.3721 - accuracy: 0.8353 - val_loss: 0.3551 - val_accuracy: 0.8385\n",
            "Epoch 11/20\n",
            "625/625 [==============================] - 7s 11ms/step - loss: 0.3695 - accuracy: 0.8350 - val_loss: 0.3548 - val_accuracy: 0.8406\n",
            "Epoch 12/20\n",
            "625/625 [==============================] - 7s 11ms/step - loss: 0.3655 - accuracy: 0.8390 - val_loss: 0.3569 - val_accuracy: 0.8375\n",
            "Epoch 13/20\n",
            "625/625 [==============================] - 7s 11ms/step - loss: 0.3626 - accuracy: 0.8392 - val_loss: 0.3494 - val_accuracy: 0.8469\n",
            "Epoch 14/20\n",
            "625/625 [==============================] - 7s 11ms/step - loss: 0.3586 - accuracy: 0.8426 - val_loss: 0.3511 - val_accuracy: 0.8385\n",
            "Epoch 15/20\n",
            "625/625 [==============================] - 7s 11ms/step - loss: 0.3561 - accuracy: 0.8427 - val_loss: 0.3443 - val_accuracy: 0.8448\n",
            "Epoch 16/20\n",
            "625/625 [==============================] - 7s 11ms/step - loss: 0.3503 - accuracy: 0.8454 - val_loss: 0.3491 - val_accuracy: 0.8396\n",
            "Epoch 17/20\n",
            "625/625 [==============================] - 7s 11ms/step - loss: 0.3525 - accuracy: 0.8444 - val_loss: 0.3427 - val_accuracy: 0.8438\n",
            "Epoch 18/20\n",
            "625/625 [==============================] - 7s 11ms/step - loss: 0.3489 - accuracy: 0.8450 - val_loss: 0.3404 - val_accuracy: 0.8438\n",
            "Epoch 19/20\n",
            "625/625 [==============================] - 7s 11ms/step - loss: 0.3462 - accuracy: 0.8498 - val_loss: 0.3452 - val_accuracy: 0.8479\n",
            "Epoch 20/20\n",
            "625/625 [==============================] - 7s 11ms/step - loss: 0.3417 - accuracy: 0.8521 - val_loss: 0.3423 - val_accuracy: 0.8469\n"
          ],
          "name": "stdout"
        }
      ]
    },
    {
      "cell_type": "code",
      "metadata": {
        "id": "LbW-80fY1v5t",
        "colab_type": "code",
        "outputId": "78c519c7-2482-48ef-ed62-ba8d4752e739",
        "colab": {
          "base_uri": "https://localhost:8080/",
          "height": 51
        }
      },
      "source": [
        "test_loss, test_accuracy = model_v1.evaluate(test_batches, verbose=0)\n",
        "\n",
        "print('Test Loss: {}'.format(test_loss))\n",
        "print('Test Accuracy: {}'.format(test_accuracy))"
      ],
      "execution_count": 0,
      "outputs": [
        {
          "output_type": "stream",
          "text": [
            "Test Loss: 0.3845771028448249\n",
            "Test Accuracy: 0.8242400288581848\n"
          ],
          "name": "stdout"
        }
      ]
    },
    {
      "cell_type": "code",
      "metadata": {
        "id": "u0_e0YFD4XpE",
        "colab_type": "code",
        "outputId": "e09f88de-029c-46a2-b847-ea21077e8daf",
        "colab": {
          "base_uri": "https://localhost:8080/",
          "height": 717
        }
      },
      "source": [
        "model_v2.compile(optimizer='adam',\n",
        "                 loss='binary_crossentropy',\n",
        "                 metrics=['accuracy'])\n",
        "\n",
        "results['v2'] = model_v2.fit(train_batches,\n",
        "                             epochs=EPOCHS,\n",
        "                             validation_data=validation_batches,\n",
        "                             validation_steps=30)"
      ],
      "execution_count": 0,
      "outputs": [
        {
          "output_type": "stream",
          "text": [
            "Epoch 1/20\n",
            "625/625 [==============================] - 8s 13ms/step - loss: 0.6083 - accuracy: 0.6757 - val_loss: 0.5423 - val_accuracy: 0.7312\n",
            "Epoch 2/20\n",
            "625/625 [==============================] - 6s 10ms/step - loss: 0.5759 - accuracy: 0.7009 - val_loss: 0.5397 - val_accuracy: 0.7281\n",
            "Epoch 3/20\n",
            "625/625 [==============================] - 6s 10ms/step - loss: 0.5695 - accuracy: 0.7071 - val_loss: 0.5413 - val_accuracy: 0.7417\n",
            "Epoch 4/20\n",
            "625/625 [==============================] - 7s 11ms/step - loss: 0.5643 - accuracy: 0.7097 - val_loss: 0.5276 - val_accuracy: 0.7437\n",
            "Epoch 5/20\n",
            "625/625 [==============================] - 7s 11ms/step - loss: 0.5621 - accuracy: 0.7114 - val_loss: 0.5300 - val_accuracy: 0.7240\n",
            "Epoch 6/20\n",
            "625/625 [==============================] - 7s 11ms/step - loss: 0.5592 - accuracy: 0.7150 - val_loss: 0.5291 - val_accuracy: 0.7469\n",
            "Epoch 7/20\n",
            "625/625 [==============================] - 7s 12ms/step - loss: 0.5568 - accuracy: 0.7154 - val_loss: 0.5433 - val_accuracy: 0.7281\n",
            "Epoch 8/20\n",
            "625/625 [==============================] - 7s 11ms/step - loss: 0.5577 - accuracy: 0.7150 - val_loss: 0.5344 - val_accuracy: 0.7250\n",
            "Epoch 9/20\n",
            "625/625 [==============================] - 7s 11ms/step - loss: 0.5565 - accuracy: 0.7146 - val_loss: 0.5335 - val_accuracy: 0.7271\n",
            "Epoch 10/20\n",
            "625/625 [==============================] - 7s 11ms/step - loss: 0.5535 - accuracy: 0.7198 - val_loss: 0.5318 - val_accuracy: 0.7406\n",
            "Epoch 11/20\n",
            "625/625 [==============================] - 7s 11ms/step - loss: 0.5523 - accuracy: 0.7194 - val_loss: 0.5403 - val_accuracy: 0.7500\n",
            "Epoch 12/20\n",
            "625/625 [==============================] - 7s 11ms/step - loss: 0.5525 - accuracy: 0.7165 - val_loss: 0.5324 - val_accuracy: 0.7437\n",
            "Epoch 13/20\n",
            "625/625 [==============================] - 7s 11ms/step - loss: 0.5524 - accuracy: 0.7197 - val_loss: 0.5306 - val_accuracy: 0.7490\n",
            "Epoch 14/20\n",
            "625/625 [==============================] - 7s 11ms/step - loss: 0.5508 - accuracy: 0.7204 - val_loss: 0.5394 - val_accuracy: 0.7156\n",
            "Epoch 15/20\n",
            "625/625 [==============================] - 7s 11ms/step - loss: 0.5503 - accuracy: 0.7197 - val_loss: 0.5272 - val_accuracy: 0.7406\n",
            "Epoch 16/20\n",
            "625/625 [==============================] - 7s 11ms/step - loss: 0.5500 - accuracy: 0.7223 - val_loss: 0.5301 - val_accuracy: 0.7500\n",
            "Epoch 17/20\n",
            "625/625 [==============================] - 7s 11ms/step - loss: 0.5487 - accuracy: 0.7219 - val_loss: 0.5392 - val_accuracy: 0.7396\n",
            "Epoch 18/20\n",
            "625/625 [==============================] - 6s 10ms/step - loss: 0.5481 - accuracy: 0.7204 - val_loss: 0.5248 - val_accuracy: 0.7490\n",
            "Epoch 19/20\n",
            "625/625 [==============================] - 7s 11ms/step - loss: 0.5486 - accuracy: 0.7204 - val_loss: 0.5346 - val_accuracy: 0.7219\n",
            "Epoch 20/20\n",
            "625/625 [==============================] - 7s 11ms/step - loss: 0.5459 - accuracy: 0.7240 - val_loss: 0.5294 - val_accuracy: 0.7396\n"
          ],
          "name": "stdout"
        }
      ]
    },
    {
      "cell_type": "code",
      "metadata": {
        "id": "YHaMkaah5MD5",
        "colab_type": "code",
        "outputId": "afc53eea-fd4a-42e1-fe57-6993c31c85fa",
        "colab": {
          "base_uri": "https://localhost:8080/",
          "height": 51
        }
      },
      "source": [
        "test_loss, test_accuracy = model_v2.evaluate(test_batches, verbose=0)\n",
        "\n",
        "print('Test Loss: {}'.format(test_loss))\n",
        "print('Test Accuracy: {}'.format(test_accuracy))"
      ],
      "execution_count": 0,
      "outputs": [
        {
          "output_type": "stream",
          "text": [
            "Test Loss: 0.5484910726623462\n",
            "Test Accuracy: 0.7236800193786621\n"
          ],
          "name": "stdout"
        }
      ]
    },
    {
      "cell_type": "code",
      "metadata": {
        "colab_type": "code",
        "id": "S67MmgOIg583",
        "outputId": "5de4eb9d-ed2a-42d6-e2bb-28081de8fa39",
        "colab": {
          "base_uri": "https://localhost:8080/",
          "height": 717
        }
      },
      "source": [
        "model_v3.compile(optimizer='adam',\n",
        "                 loss='binary_crossentropy',\n",
        "                 metrics=['accuracy'])\n",
        "\n",
        "results['v3'] = model_v3.fit(train_batches,\n",
        "                             epochs=EPOCHS,\n",
        "                             validation_data=validation_batches,\n",
        "                             validation_steps=30)"
      ],
      "execution_count": 0,
      "outputs": [
        {
          "output_type": "stream",
          "text": [
            "Epoch 1/20\n",
            "625/625 [==============================] - 8s 14ms/step - loss: 0.5291 - accuracy: 0.7359 - val_loss: 0.3748 - val_accuracy: 0.8354\n",
            "Epoch 2/20\n",
            "625/625 [==============================] - 7s 11ms/step - loss: 0.3504 - accuracy: 0.8490 - val_loss: 0.3067 - val_accuracy: 0.8615\n",
            "Epoch 3/20\n",
            "625/625 [==============================] - 7s 11ms/step - loss: 0.2687 - accuracy: 0.8928 - val_loss: 0.2805 - val_accuracy: 0.8708\n",
            "Epoch 4/20\n",
            "625/625 [==============================] - 7s 11ms/step - loss: 0.2176 - accuracy: 0.9165 - val_loss: 0.2839 - val_accuracy: 0.8781\n",
            "Epoch 5/20\n",
            "625/625 [==============================] - 7s 12ms/step - loss: 0.1799 - accuracy: 0.9341 - val_loss: 0.2981 - val_accuracy: 0.8760\n",
            "Epoch 6/20\n",
            "625/625 [==============================] - 7s 12ms/step - loss: 0.1492 - accuracy: 0.9458 - val_loss: 0.3265 - val_accuracy: 0.8781\n",
            "Epoch 7/20\n",
            "625/625 [==============================] - 7s 12ms/step - loss: 0.1204 - accuracy: 0.9570 - val_loss: 0.3818 - val_accuracy: 0.8729\n",
            "Epoch 8/20\n",
            "625/625 [==============================] - 7s 12ms/step - loss: 0.1003 - accuracy: 0.9643 - val_loss: 0.4514 - val_accuracy: 0.8708\n",
            "Epoch 9/20\n",
            "625/625 [==============================] - 8s 12ms/step - loss: 0.0822 - accuracy: 0.9727 - val_loss: 0.4247 - val_accuracy: 0.8740\n",
            "Epoch 10/20\n",
            "625/625 [==============================] - 8s 12ms/step - loss: 0.0703 - accuracy: 0.9768 - val_loss: 0.5086 - val_accuracy: 0.8687\n",
            "Epoch 11/20\n",
            "625/625 [==============================] - 8s 12ms/step - loss: 0.0554 - accuracy: 0.9811 - val_loss: 0.6400 - val_accuracy: 0.8646\n",
            "Epoch 12/20\n",
            "625/625 [==============================] - 7s 12ms/step - loss: 0.0477 - accuracy: 0.9851 - val_loss: 0.7220 - val_accuracy: 0.8656\n",
            "Epoch 13/20\n",
            "625/625 [==============================] - 7s 12ms/step - loss: 0.0402 - accuracy: 0.9869 - val_loss: 0.8494 - val_accuracy: 0.8583\n",
            "Epoch 14/20\n",
            "625/625 [==============================] - 7s 12ms/step - loss: 0.0319 - accuracy: 0.9896 - val_loss: 0.8862 - val_accuracy: 0.8625\n",
            "Epoch 15/20\n",
            "625/625 [==============================] - 7s 12ms/step - loss: 0.0300 - accuracy: 0.9900 - val_loss: 0.9362 - val_accuracy: 0.8583\n",
            "Epoch 16/20\n",
            "625/625 [==============================] - 7s 12ms/step - loss: 0.0281 - accuracy: 0.9900 - val_loss: 0.8780 - val_accuracy: 0.8521\n",
            "Epoch 17/20\n",
            "625/625 [==============================] - 7s 12ms/step - loss: 0.0225 - accuracy: 0.9926 - val_loss: 0.9937 - val_accuracy: 0.8500\n",
            "Epoch 18/20\n",
            "625/625 [==============================] - 8s 12ms/step - loss: 0.0199 - accuracy: 0.9930 - val_loss: 1.0559 - val_accuracy: 0.8635\n",
            "Epoch 19/20\n",
            "625/625 [==============================] - 7s 12ms/step - loss: 0.0172 - accuracy: 0.9939 - val_loss: 1.0896 - val_accuracy: 0.8531\n",
            "Epoch 20/20\n",
            "625/625 [==============================] - 7s 12ms/step - loss: 0.0142 - accuracy: 0.9954 - val_loss: 1.1657 - val_accuracy: 0.8490\n"
          ],
          "name": "stdout"
        }
      ]
    },
    {
      "cell_type": "code",
      "metadata": {
        "colab_type": "code",
        "id": "GBli9kdHg7yx",
        "outputId": "2eb67b4d-0491-42a3-80f9-731560e81b44",
        "colab": {
          "base_uri": "https://localhost:8080/",
          "height": 51
        }
      },
      "source": [
        "test_loss, test_accuracy = model_v3.evaluate(test_batches, verbose=0)\n",
        "\n",
        "print('Test Loss: {}'.format(test_loss))\n",
        "print('Test Accuracy: {}'.format(test_accuracy))"
      ],
      "execution_count": 0,
      "outputs": [
        {
          "output_type": "stream",
          "text": [
            "Test Loss: 1.289209318307974\n",
            "Test Accuracy: 0.8424000144004822\n"
          ],
          "name": "stdout"
        }
      ]
    },
    {
      "cell_type": "markdown",
      "metadata": {
        "id": "fmyZ_79RlcZw",
        "colab_type": "text"
      },
      "source": [
        "### Plotting Accuracy and Loss"
      ]
    },
    {
      "cell_type": "code",
      "metadata": {
        "id": "PHTzSaFU651o",
        "colab_type": "code",
        "colab": {}
      },
      "source": [
        "import matplotlib.pyplot as plt\n",
        "\n",
        "def plot_metrics(training_results):\n",
        "\n",
        "    training_dict = training_results.history\n",
        "\n",
        "    acc = training_dict['accuracy']\n",
        "    val_acc = training_dict['val_accuracy']\n",
        "    loss = training_dict['loss']\n",
        "    val_loss = training_dict['val_loss']\n",
        "\n",
        "    epochs = range(1, EPOCHS + 1)\n",
        "\n",
        "    plt.figure(figsize=(14, 5))\n",
        "    \n",
        "    plt.subplot(1, 2, 1)\n",
        "    plt.plot(epochs, loss, 'b', label='Training loss')\n",
        "    plt.plot(epochs, val_loss, 'r', label='Validation loss')\n",
        "    plt.title('Training and validation loss')\n",
        "    plt.xlabel('Epochs')\n",
        "    plt.ylabel('Loss')\n",
        "    plt.legend()\n",
        "\n",
        "    plt.subplot(1, 2, 2)\n",
        "    plt.plot(epochs, acc, 'b', label='Training accuracy')\n",
        "    plt.plot(epochs, val_acc, 'r', label='Validation accuracy')\n",
        "    plt.title('Training and validation accuracy')\n",
        "    plt.xlabel('Epochs')\n",
        "    plt.ylabel('Accuracy')\n",
        "    plt.legend()\n",
        "\n",
        "    plt.show()"
      ],
      "execution_count": 0,
      "outputs": []
    },
    {
      "cell_type": "code",
      "metadata": {
        "id": "YMd8GgzS_A9w",
        "colab_type": "code",
        "outputId": "2cb31e82-8ba8-43c1-991b-22a144200ac0",
        "colab": {
          "base_uri": "https://localhost:8080/",
          "height": 350
        }
      },
      "source": [
        "plot_metrics(results['v1'])"
      ],
      "execution_count": 0,
      "outputs": [
        {
          "output_type": "display_data",
          "data": {
            "image/png": "[encoded data removed]",
            "text/plain": [
              "<Figure size 1008x360 with 2 Axes>"
            ]
          },
          "metadata": {
            "tags": []
          }
        }
      ]
    },
    {
      "cell_type": "code",
      "metadata": {
        "id": "Ktnn_Ph4_V8Q",
        "colab_type": "code",
        "outputId": "9f4817ce-b14d-4f92-ae9c-d9e819132886",
        "colab": {
          "base_uri": "https://localhost:8080/",
          "height": 350
        }
      },
      "source": [
        "plot_metrics(results['v2'])"
      ],
      "execution_count": 0,
      "outputs": [
        {
          "output_type": "display_data",
          "data": {
            "image/png": "[encoded data removed]",
            "text/plain": [
              "<Figure size 1008x360 with 2 Axes>"
            ]
          },
          "metadata": {
            "tags": []
          }
        }
      ]
    },
    {
      "cell_type": "code",
      "metadata": {
        "colab_type": "code",
        "id": "UnEmdqEEhT_9",
        "outputId": "1b95e5eb-dc22-443d-8395-a425fe1308dc",
        "colab": {
          "base_uri": "https://localhost:8080/",
          "height": 350
        }
      },
      "source": [
        "plot_metrics(results['v3'])"
      ],
      "execution_count": 0,
      "outputs": [
        {
          "output_type": "display_data",
          "data": {
            "image/png": "[encoded data removed]",
            "text/plain": [
              "<Figure size 1008x360 with 2 Axes>"
            ]
          },
          "metadata": {
            "tags": []
          }
        }
      ]
    }
  ]
}