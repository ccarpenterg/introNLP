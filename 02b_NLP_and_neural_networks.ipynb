{
  "nbformat": 4,
  "nbformat_minor": 0,
  "metadata": {
    "colab": {
      "name": "02b_NLP_and_neural_networks.ipynb",
      "provenance": [],
      "toc_visible": true,
      "authorship_tag": "ABX9TyNnUUVDGH2iDchxJSh5Skic",
      "include_colab_link": true
    },
    "kernelspec": {
      "name": "python3",
      "display_name": "Python 3"
    },
    "accelerator": "GPU"
  },
  "cells": [
    {
      "cell_type": "markdown",
      "metadata": {
        "id": "view-in-github",
        "colab_type": "text"
      },
      "source": [
        "<a href=\"https://colab.research.google.com/github/ccarpenterg/introNLP/blob/master/02b_NLP_and_neural_networks.ipynb\" target=\"_parent\"><img src=\"https://colab.research.google.com/assets/colab-badge.svg\" alt=\"Open In Colab\"/></a>"
      ]
    },
    {
      "cell_type": "markdown",
      "metadata": {
        "id": "gWNj-TefkIg2",
        "colab_type": "text"
      },
      "source": [
        "# Pre-trained Word Embeddings and Neural Networks"
      ]
    },
    {
      "cell_type": "code",
      "metadata": {
        "id": "YdD8kG-2jCqF",
        "colab_type": "code",
        "colab": {}
      },
      "source": [
        "!pip install -q tensorflow-datasets==1.3.2"
      ],
      "execution_count": 0,
      "outputs": []
    },
    {
      "cell_type": "code",
      "metadata": {
        "id": "bLzoMlbxc-l_",
        "colab_type": "code",
        "outputId": "f33c9b2c-04c6-4fe4-ad02-16ac26b40164",
        "colab": {
          "base_uri": "https://localhost:8080/",
          "height": 51
        }
      },
      "source": [
        "# load Tensorflow 2\n",
        "%tensorflow_version 2.x\n",
        "\n",
        "import tensorflow as tf\n",
        "\n",
        "from tensorflow import keras\n",
        "\n",
        "import tensorflow_hub as hub\n",
        "import tensorflow_datasets as tfds\n",
        "import numpy as np\n",
        "\n",
        "print(\"Tensorflow version:\", tf.__version__)\n",
        "print(\"Tensorflow datasets version:\", tfds.__version__)"
      ],
      "execution_count": 23,
      "outputs": [
        {
          "output_type": "stream",
          "text": [
            "Tensorflow version: 2.1.0\n",
            "Tensorflow datasets version: 1.3.2\n"
          ],
          "name": "stdout"
        }
      ]
    },
    {
      "cell_type": "code",
      "metadata": {
        "id": "zMVxKiHRgqga",
        "colab_type": "code",
        "colab": {}
      },
      "source": [
        "train_validation_split = tfds.Split.TRAIN.subsplit([8, 2])\n",
        "\n",
        "(train_data, validation_data), test_data = tfds.load(\n",
        "    'imdb_reviews',\n",
        "    split = (train_validation_split, tfds.Split.TEST),\n",
        "    as_supervised=True\n",
        ")"
      ],
      "execution_count": 0,
      "outputs": []
    },
    {
      "cell_type": "code",
      "metadata": {
        "id": "ptp69q3KnzGp",
        "colab_type": "code",
        "colab": {}
      },
      "source": [
        "BUFFER_SIZE = 5000\n",
        "BATCH_SIZE = 32\n",
        "\n",
        "train_batches = (\n",
        "    train_data\n",
        "    .shuffle(BUFFER_SIZE)\n",
        "    .padded_batch(BATCH_SIZE, tf.compat.v1.data.get_output_shapes(train_data))\n",
        ")\n",
        "\n",
        "validation_batches = (\n",
        "    validation_data\n",
        "    .padded_batch(BATCH_SIZE, tf.compat.v1.data.get_output_shapes((validation_data)))\n",
        ")\n",
        "\n",
        "test_batches = (\n",
        "    test_data\n",
        "    .padded_batch(BATCH_SIZE, tf.compat.v1.data.get_output_shapes((test_data)))\n",
        ")"
      ],
      "execution_count": 0,
      "outputs": []
    },
    {
      "cell_type": "markdown",
      "metadata": {
        "id": "bafqamlCkTEZ",
        "colab_type": "text"
      },
      "source": [
        "## Tensorflow Hub embeddings\n",
        "\n",
        "nnlm-en-dim128-with-normalization: Token based text embedding trained on English Google News 200B corpus."
      ]
    },
    {
      "cell_type": "code",
      "metadata": {
        "id": "jy-NGREaI9kS",
        "colab_type": "code",
        "colab": {}
      },
      "source": [
        "# Embedding details: https://tfhub.dev/google/nnlm-en-dim128-with-normalization/2\n",
        "embedding_url = \"https://tfhub.dev/google/nnlm-en-dim128-with-normalization/2\""
      ],
      "execution_count": 0,
      "outputs": []
    },
    {
      "cell_type": "code",
      "metadata": {
        "id": "rPGogDhn1bPE",
        "colab_type": "code",
        "colab": {
          "base_uri": "https://localhost:8080/",
          "height": 51
        },
        "outputId": "ec3b592e-1034-40ae-8371-34ed63ac493f"
      },
      "source": [
        "hub_layer = hub.KerasLayer(\n",
        "    embedding_url,\n",
        "    input_shape=[],\n",
        "    dtype=tf.string\n",
        ")\n",
        "\n",
        "batch, labels = next(iter(train_batches))\n",
        "hub_layer_output = hub_layer(batch)\n",
        "\n",
        "print(\"Each batch contains {} reviews\".format(batch.shape[0]))\n",
        "print((\"The Tensorflow hub layer outputs a \" \n",
        "       \"word embedding vector of length {} \" \n",
        "       \"for each review: {}\").format(hub_layer_output.shape[1], hub_layer_output.shape))"
      ],
      "execution_count": 21,
      "outputs": [
        {
          "output_type": "stream",
          "text": [
            "Each batch contains 32 reviews\n",
            "The Tensorflow hub layer outputs a word embedding vector of length 128 for each review: (32, 128)\n"
          ],
          "name": "stdout"
        }
      ]
    },
    {
      "cell_type": "markdown",
      "metadata": {
        "id": "8IXYnElfko1Y",
        "colab_type": "text"
      },
      "source": [
        "### Non-trainable Embedding Layer"
      ]
    },
    {
      "cell_type": "code",
      "metadata": {
        "id": "yxnxf2xWpLIK",
        "colab_type": "code",
        "colab": {}
      },
      "source": [
        "hub_layer_non_trainable = hub.KerasLayer(\n",
        "    embedding_url,\n",
        "    input_shape=[],\n",
        "    dtype=tf.string,\n",
        "    trainable=False\n",
        ")"
      ],
      "execution_count": 0,
      "outputs": []
    },
    {
      "cell_type": "code",
      "metadata": {
        "id": "ptnIIImAtHYB",
        "colab_type": "code",
        "outputId": "33cd72eb-b457-4be9-d115-bf50aea2b867",
        "colab": {
          "base_uri": "https://localhost:8080/",
          "height": 323
        }
      },
      "source": [
        "model_v1 = tf.keras.Sequential([\n",
        "    hub_layer_non_trainable,\n",
        "    tf.keras.layers.Dense(256, activation='relu'),\n",
        "    tf.keras.layers.Dropout(0.5),\n",
        "    tf.keras.layers.Dense(512, activation='relu'),\n",
        "    tf.keras.layers.Dense(1, activation='sigmoid')\n",
        "])\n",
        "\n",
        "model_v1.summary()"
      ],
      "execution_count": 0,
      "outputs": [
        {
          "output_type": "stream",
          "text": [
            "Model: \"sequential\"\n",
            "_________________________________________________________________\n",
            "Layer (type)                 Output Shape              Param #   \n",
            "=================================================================\n",
            "keras_layer (KerasLayer)     (None, 128)               124642688 \n",
            "_________________________________________________________________\n",
            "dense (Dense)                (None, 256)               33024     \n",
            "_________________________________________________________________\n",
            "dropout (Dropout)            (None, 256)               0         \n",
            "_________________________________________________________________\n",
            "dense_1 (Dense)              (None, 512)               131584    \n",
            "_________________________________________________________________\n",
            "dense_2 (Dense)              (None, 1)                 513       \n",
            "=================================================================\n",
            "Total params: 124,807,809\n",
            "Trainable params: 165,121\n",
            "Non-trainable params: 124,642,688\n",
            "_________________________________________________________________\n"
          ],
          "name": "stdout"
        }
      ]
    },
    {
      "cell_type": "markdown",
      "metadata": {
        "id": "KuGKP7O2lDY7",
        "colab_type": "text"
      },
      "source": [
        "### Trainable Embedding Layer"
      ]
    },
    {
      "cell_type": "code",
      "metadata": {
        "id": "uOkx_-6OyAby",
        "colab_type": "code",
        "colab": {}
      },
      "source": [
        "hub_layer_trainable = hub.KerasLayer(\n",
        "    embedding_url,\n",
        "    input_shape=[],\n",
        "    dtype=tf.string,\n",
        "    trainable=True\n",
        ")"
      ],
      "execution_count": 0,
      "outputs": []
    },
    {
      "cell_type": "code",
      "metadata": {
        "id": "PkhtqhcZzJ2b",
        "colab_type": "code",
        "outputId": "7c2a5e07-f176-441d-da3c-ef606ad4fe5a",
        "colab": {
          "base_uri": "https://localhost:8080/",
          "height": 323
        }
      },
      "source": [
        "model_v2 = tf.keras.Sequential([\n",
        "    hub_layer_trainable,\n",
        "    tf.keras.layers.Dense(256, activation='relu'),\n",
        "    tf.keras.layers.Dropout(0.5),\n",
        "    tf.keras.layers.Dense(512, activation='relu'),\n",
        "    tf.keras.layers.Dense(1, activation='sigmoid')\n",
        "])\n",
        "\n",
        "model_v2.summary()"
      ],
      "execution_count": 0,
      "outputs": [
        {
          "output_type": "stream",
          "text": [
            "Model: \"sequential_1\"\n",
            "_________________________________________________________________\n",
            "Layer (type)                 Output Shape              Param #   \n",
            "=================================================================\n",
            "keras_layer_1 (KerasLayer)   (None, 128)               124642688 \n",
            "_________________________________________________________________\n",
            "dense_3 (Dense)              (None, 256)               33024     \n",
            "_________________________________________________________________\n",
            "dropout_1 (Dropout)          (None, 256)               0         \n",
            "_________________________________________________________________\n",
            "dense_4 (Dense)              (None, 512)               131584    \n",
            "_________________________________________________________________\n",
            "dense_5 (Dense)              (None, 1)                 513       \n",
            "=================================================================\n",
            "Total params: 124,807,809\n",
            "Trainable params: 124,807,809\n",
            "Non-trainable params: 0\n",
            "_________________________________________________________________\n"
          ],
          "name": "stdout"
        }
      ]
    },
    {
      "cell_type": "markdown",
      "metadata": {
        "id": "rnUHyVsQlM9h",
        "colab_type": "text"
      },
      "source": [
        "### Training Our Models on the IMDB Reviews Dataset"
      ]
    },
    {
      "cell_type": "code",
      "metadata": {
        "id": "eb23ddQS048P",
        "colab_type": "code",
        "colab": {}
      },
      "source": [
        "EPOCHS = 20\n",
        "results = dict()"
      ],
      "execution_count": 0,
      "outputs": []
    },
    {
      "cell_type": "code",
      "metadata": {
        "id": "H-wqpOro0_Cd",
        "colab_type": "code",
        "outputId": "17f6f57a-a148-4951-a7f1-5c6449a7ab95",
        "colab": {
          "base_uri": "https://localhost:8080/",
          "height": 717
        }
      },
      "source": [
        "model_v1.compile(optimizer='adam',\n",
        "                 loss='binary_crossentropy',\n",
        "                 metrics=['accuracy'])\n",
        "\n",
        "results['v1'] = model_v1.fit(train_batches,\n",
        "                             epochs=EPOCHS,\n",
        "                             validation_data=validation_batches,\n",
        "                             validation_steps=30)"
      ],
      "execution_count": 0,
      "outputs": [
        {
          "output_type": "stream",
          "text": [
            "Epoch 1/20\n",
            "625/625 [==============================] - 11s 17ms/step - loss: 0.4613 - accuracy: 0.7829 - val_loss: 0.3748 - val_accuracy: 0.8260\n",
            "Epoch 2/20\n",
            "625/625 [==============================] - 8s 12ms/step - loss: 0.4151 - accuracy: 0.8107 - val_loss: 0.3608 - val_accuracy: 0.8323\n",
            "Epoch 3/20\n",
            "625/625 [==============================] - 8s 13ms/step - loss: 0.4026 - accuracy: 0.8195 - val_loss: 0.3542 - val_accuracy: 0.8344\n",
            "Epoch 4/20\n",
            "625/625 [==============================] - 9s 14ms/step - loss: 0.3967 - accuracy: 0.8215 - val_loss: 0.3519 - val_accuracy: 0.8323\n",
            "Epoch 5/20\n",
            "625/625 [==============================] - 7s 11ms/step - loss: 0.3889 - accuracy: 0.8274 - val_loss: 0.3503 - val_accuracy: 0.8417\n",
            "Epoch 6/20\n",
            "625/625 [==============================] - 8s 12ms/step - loss: 0.3856 - accuracy: 0.8281 - val_loss: 0.3503 - val_accuracy: 0.8302\n",
            "Epoch 7/20\n",
            "625/625 [==============================] - 7s 12ms/step - loss: 0.3843 - accuracy: 0.8302 - val_loss: 0.3529 - val_accuracy: 0.8344\n",
            "Epoch 8/20\n",
            "625/625 [==============================] - 7s 11ms/step - loss: 0.3756 - accuracy: 0.8331 - val_loss: 0.3423 - val_accuracy: 0.8417\n",
            "Epoch 9/20\n",
            "625/625 [==============================] - 7s 12ms/step - loss: 0.3773 - accuracy: 0.8331 - val_loss: 0.3391 - val_accuracy: 0.8458\n",
            "Epoch 10/20\n",
            "625/625 [==============================] - 8s 12ms/step - loss: 0.3701 - accuracy: 0.8375 - val_loss: 0.3417 - val_accuracy: 0.8354\n",
            "Epoch 11/20\n",
            "625/625 [==============================] - 8s 12ms/step - loss: 0.3694 - accuracy: 0.8371 - val_loss: 0.3383 - val_accuracy: 0.8385\n",
            "Epoch 12/20\n",
            "625/625 [==============================] - 8s 13ms/step - loss: 0.3651 - accuracy: 0.8409 - val_loss: 0.3446 - val_accuracy: 0.8448\n",
            "Epoch 13/20\n",
            "625/625 [==============================] - 9s 14ms/step - loss: 0.3610 - accuracy: 0.8404 - val_loss: 0.3441 - val_accuracy: 0.8427\n",
            "Epoch 14/20\n",
            "625/625 [==============================] - 9s 14ms/step - loss: 0.3588 - accuracy: 0.8403 - val_loss: 0.3563 - val_accuracy: 0.8479\n",
            "Epoch 15/20\n",
            "625/625 [==============================] - 8s 14ms/step - loss: 0.3566 - accuracy: 0.8425 - val_loss: 0.3556 - val_accuracy: 0.8406\n",
            "Epoch 16/20\n",
            "625/625 [==============================] - 8s 12ms/step - loss: 0.3548 - accuracy: 0.8446 - val_loss: 0.3448 - val_accuracy: 0.8417\n",
            "Epoch 17/20\n",
            "625/625 [==============================] - 8s 12ms/step - loss: 0.3492 - accuracy: 0.8451 - val_loss: 0.3582 - val_accuracy: 0.8385\n",
            "Epoch 18/20\n",
            "625/625 [==============================] - 8s 13ms/step - loss: 0.3456 - accuracy: 0.8499 - val_loss: 0.3495 - val_accuracy: 0.8510\n",
            "Epoch 19/20\n",
            "625/625 [==============================] - 8s 13ms/step - loss: 0.3432 - accuracy: 0.8496 - val_loss: 0.3445 - val_accuracy: 0.8500\n",
            "Epoch 20/20\n",
            "625/625 [==============================] - 8s 13ms/step - loss: 0.3398 - accuracy: 0.8501 - val_loss: 0.3455 - val_accuracy: 0.8438\n"
          ],
          "name": "stdout"
        }
      ]
    },
    {
      "cell_type": "code",
      "metadata": {
        "id": "LbW-80fY1v5t",
        "colab_type": "code",
        "outputId": "7701c248-e301-4d0e-8cc9-464aadba2439",
        "colab": {
          "base_uri": "https://localhost:8080/",
          "height": 34
        }
      },
      "source": [
        "model_v1.evaluate(test_batches)"
      ],
      "execution_count": 0,
      "outputs": [
        {
          "output_type": "stream",
          "text": [
            "    782/Unknown - 9s 12ms/step - loss: 0.3811 - accuracy: 0.8293"
          ],
          "name": "stdout"
        },
        {
          "output_type": "execute_result",
          "data": {
            "text/plain": [
              "[0.3810562680444449, 0.82932]"
            ]
          },
          "metadata": {
            "tags": []
          },
          "execution_count": 11
        }
      ]
    },
    {
      "cell_type": "code",
      "metadata": {
        "id": "u0_e0YFD4XpE",
        "colab_type": "code",
        "outputId": "fe6d5a01-243e-465f-eda2-ef2fe779a480",
        "colab": {
          "base_uri": "https://localhost:8080/",
          "height": 717
        }
      },
      "source": [
        "model_v2.compile(optimizer='adam',\n",
        "                 loss='binary_crossentropy',\n",
        "                 metrics=['accuracy'])\n",
        "\n",
        "results['v2'] = model_v2.fit(train_batches,\n",
        "                             epochs=EPOCHS,\n",
        "                             validation_data=validation_batches,\n",
        "                             validation_steps=30)"
      ],
      "execution_count": 0,
      "outputs": [
        {
          "output_type": "stream",
          "text": [
            "Epoch 1/20\n",
            "625/625 [==============================] - 49s 79ms/step - loss: 0.3311 - accuracy: 0.8548 - val_loss: 0.2263 - val_accuracy: 0.9042\n",
            "Epoch 2/20\n",
            "625/625 [==============================] - 49s 78ms/step - loss: 0.1195 - accuracy: 0.9553 - val_loss: 0.2859 - val_accuracy: 0.8948\n",
            "Epoch 3/20\n",
            "625/625 [==============================] - 49s 78ms/step - loss: 0.0411 - accuracy: 0.9857 - val_loss: 0.4512 - val_accuracy: 0.8875\n",
            "Epoch 4/20\n",
            "625/625 [==============================] - 49s 78ms/step - loss: 0.0256 - accuracy: 0.9908 - val_loss: 0.5935 - val_accuracy: 0.8729\n",
            "Epoch 5/20\n",
            "625/625 [==============================] - 49s 78ms/step - loss: 0.0182 - accuracy: 0.9936 - val_loss: 0.6554 - val_accuracy: 0.8687\n",
            "Epoch 6/20\n",
            "625/625 [==============================] - 49s 79ms/step - loss: 0.0151 - accuracy: 0.9945 - val_loss: 0.7073 - val_accuracy: 0.8708\n",
            "Epoch 7/20\n",
            "625/625 [==============================] - 49s 78ms/step - loss: 0.0111 - accuracy: 0.9958 - val_loss: 0.9605 - val_accuracy: 0.8562\n",
            "Epoch 8/20\n",
            "625/625 [==============================] - 50s 79ms/step - loss: 0.0066 - accuracy: 0.9977 - val_loss: 1.0966 - val_accuracy: 0.8635\n",
            "Epoch 9/20\n",
            "625/625 [==============================] - 50s 80ms/step - loss: 0.0072 - accuracy: 0.9977 - val_loss: 1.2449 - val_accuracy: 0.8604\n",
            "Epoch 10/20\n",
            "625/625 [==============================] - 50s 79ms/step - loss: 0.0080 - accuracy: 0.9974 - val_loss: 1.1696 - val_accuracy: 0.8635\n",
            "Epoch 11/20\n",
            "625/625 [==============================] - 50s 80ms/step - loss: 0.0063 - accuracy: 0.9976 - val_loss: 1.3027 - val_accuracy: 0.8646\n",
            "Epoch 12/20\n",
            "625/625 [==============================] - 49s 79ms/step - loss: 0.0050 - accuracy: 0.9984 - val_loss: 1.2782 - val_accuracy: 0.8719\n",
            "Epoch 13/20\n",
            "625/625 [==============================] - 49s 78ms/step - loss: 0.0049 - accuracy: 0.9984 - val_loss: 1.1529 - val_accuracy: 0.8708\n",
            "Epoch 14/20\n",
            "625/625 [==============================] - 49s 79ms/step - loss: 0.0066 - accuracy: 0.9980 - val_loss: 1.3415 - val_accuracy: 0.8604\n",
            "Epoch 15/20\n",
            "625/625 [==============================] - 49s 79ms/step - loss: 0.0049 - accuracy: 0.9983 - val_loss: 1.2893 - val_accuracy: 0.8635\n",
            "Epoch 16/20\n",
            "625/625 [==============================] - 50s 79ms/step - loss: 0.0034 - accuracy: 0.9989 - val_loss: 1.3903 - val_accuracy: 0.8604\n",
            "Epoch 17/20\n",
            "625/625 [==============================] - 50s 80ms/step - loss: 0.0030 - accuracy: 0.9991 - val_loss: 1.3948 - val_accuracy: 0.8604\n",
            "Epoch 18/20\n",
            "625/625 [==============================] - 50s 80ms/step - loss: 0.0035 - accuracy: 0.9991 - val_loss: 1.2836 - val_accuracy: 0.8646\n",
            "Epoch 19/20\n",
            "625/625 [==============================] - 50s 80ms/step - loss: 8.0094e-04 - accuracy: 0.9997 - val_loss: 1.5345 - val_accuracy: 0.8573\n",
            "Epoch 20/20\n",
            "625/625 [==============================] - 49s 78ms/step - loss: 0.0034 - accuracy: 0.9990 - val_loss: 2.3997 - val_accuracy: 0.8177\n"
          ],
          "name": "stdout"
        }
      ]
    },
    {
      "cell_type": "code",
      "metadata": {
        "id": "YHaMkaah5MD5",
        "colab_type": "code",
        "outputId": "b5f2e181-876c-4092-9709-7d894503f41b",
        "colab": {
          "base_uri": "https://localhost:8080/",
          "height": 34
        }
      },
      "source": [
        "model_v2.evaluate(test_batches)"
      ],
      "execution_count": 0,
      "outputs": [
        {
          "output_type": "stream",
          "text": [
            "    782/Unknown - 9s 11ms/step - loss: 2.3402 - accuracy: 0.8111"
          ],
          "name": "stdout"
        },
        {
          "output_type": "execute_result",
          "data": {
            "text/plain": [
              "[2.340228299009762, 0.81112]"
            ]
          },
          "metadata": {
            "tags": []
          },
          "execution_count": 13
        }
      ]
    },
    {
      "cell_type": "markdown",
      "metadata": {
        "id": "fmyZ_79RlcZw",
        "colab_type": "text"
      },
      "source": [
        "### Plotting Accuracy and Loss"
      ]
    },
    {
      "cell_type": "code",
      "metadata": {
        "id": "PHTzSaFU651o",
        "colab_type": "code",
        "colab": {}
      },
      "source": [
        "import matplotlib.pyplot as plt\n",
        "\n",
        "def plot_stats(training_results):\n",
        "\n",
        "    training_dict = training_results.history\n",
        "\n",
        "    acc = training_dict['accuracy']\n",
        "    val_acc = training_dict['val_accuracy']\n",
        "    loss = training_dict['loss']\n",
        "    val_loss = training_dict['val_loss']\n",
        "\n",
        "    epochs = range(1, EPOCHS + 1)\n",
        "\n",
        "    plt.plot(epochs, loss, 'b', label='Training loss')\n",
        "    plt.plot(epochs, val_loss, 'r', label='Validation loss')\n",
        "    plt.title('Training and validation loss')\n",
        "    plt.xlabel('Epochs')\n",
        "    plt.ylabel('Loss')\n",
        "    plt.legend()\n",
        "\n",
        "    plt.figure()\n",
        "\n",
        "    plt.plot(epochs, acc, 'b', label='Training accuracy')\n",
        "    plt.plot(epochs, val_acc, 'r', label='Validation accuracy')\n",
        "    plt.title('Training and validation accuracy')\n",
        "    plt.xlabel('Epochs')\n",
        "    plt.ylabel('Accuracy')\n",
        "    plt.legend()\n",
        "\n",
        "    plt.show()"
      ],
      "execution_count": 0,
      "outputs": []
    },
    {
      "cell_type": "code",
      "metadata": {
        "id": "YMd8GgzS_A9w",
        "colab_type": "code",
        "outputId": "e13dd23e-2753-4759-cd98-722968c1413b",
        "colab": {
          "base_uri": "https://localhost:8080/",
          "height": 573
        }
      },
      "source": [
        "plot_stats(results['v1'])"
      ],
      "execution_count": 0,
      "outputs": [
        {
          "output_type": "display_data",
          "data": {
            "image/png": "[encoded data removed]",
            "text/plain": [
              "<Figure size 432x288 with 1 Axes>"
            ]
          },
          "metadata": {
            "tags": []
          }
        },
        {
          "output_type": "display_data",
          "data": {
            "image/png": "[encoded data removed]",
            "text/plain": [
              "<Figure size 432x288 with 1 Axes>"
            ]
          },
          "metadata": {
            "tags": []
          }
        }
      ]
    },
    {
      "cell_type": "code",
      "metadata": {
        "id": "Ktnn_Ph4_V8Q",
        "colab_type": "code",
        "outputId": "23b0cc93-7b4c-4b9b-a979-5cbffa9ddff2",
        "colab": {
          "base_uri": "https://localhost:8080/",
          "height": 573
        }
      },
      "source": [
        "plot_stats(results['v2'])"
      ],
      "execution_count": 0,
      "outputs": [
        {
          "output_type": "display_data",
          "data": {
            "image/png": "[encoded data removed]",
            "text/plain": [
              "<Figure size 432x288 with 1 Axes>"
            ]
          },
          "metadata": {
            "tags": []
          }
        },
        {
          "output_type": "display_data",
          "data": {
            "image/png": "[encoded data removed]",
            "text/plain": [
              "<Figure size 432x288 with 1 Axes>"
            ]
          },
          "metadata": {
            "tags": []
          }
        }
      ]
    }
  ]
}