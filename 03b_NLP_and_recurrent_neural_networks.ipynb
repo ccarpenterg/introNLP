{
  "nbformat": 4,
  "nbformat_minor": 0,
  "metadata": {
    "colab": {
      "name": "03b_NLP_and_recurrent_neural_networks.ipynb",
      "provenance": [],
      "toc_visible": true,
      "authorship_tag": "ABX9TyNkOxX/P1E460QPKAeeodbW",
      "include_colab_link": true
    },
    "kernelspec": {
      "name": "python3",
      "display_name": "Python 3"
    },
    "accelerator": "GPU"
  },
  "cells": [
    {
      "cell_type": "markdown",
      "metadata": {
        "id": "view-in-github",
        "colab_type": "text"
      },
      "source": [
        "<a href=\"https://colab.research.google.com/github/ccarpenterg/introNLP/blob/master/03b_NLP_and_recurrent_neural_networks.ipynb\" target=\"_parent\"><img src=\"https://colab.research.google.com/assets/colab-badge.svg\" alt=\"Open In Colab\"/></a>"
      ]
    },
    {
      "cell_type": "markdown",
      "metadata": {
        "id": "MdoE59GqVfhi",
        "colab_type": "text"
      },
      "source": [
        "# Pre-trained Word Embeddings and RNNs"
      ]
    },
    {
      "cell_type": "code",
      "metadata": {
        "id": "2dRBQ88DscTd",
        "colab_type": "code",
        "colab": {}
      },
      "source": [
        "import torch\n",
        "import torch.optim as optim\n",
        "from torchtext import data\n",
        "\n",
        "SEED = 3773\n",
        "\n",
        "torch.manual_seed(SEED)\n",
        "torch.backends.cudnn.deterministic = True\n",
        "\n",
        "TEXT = data.Field(tokenize='spacy')\n",
        "LABEL = data.LabelField(dtype=torch.float)"
      ],
      "execution_count": 0,
      "outputs": []
    },
    {
      "cell_type": "markdown",
      "metadata": {
        "id": "q-CAqud9zl4Z",
        "colab_type": "text"
      },
      "source": [
        "## IMDB Reviews Dataset"
      ]
    },
    {
      "cell_type": "code",
      "metadata": {
        "id": "jS7TAPJruzr7",
        "colab_type": "code",
        "colab": {}
      },
      "source": [
        "from torchtext import datasets\n",
        "\n",
        "train_data, test_data = datasets.IMDB.splits(TEXT, LABEL)"
      ],
      "execution_count": 0,
      "outputs": []
    },
    {
      "cell_type": "code",
      "metadata": {
        "id": "hDDzCMY3u-46",
        "colab_type": "code",
        "outputId": "ee5ecec7-4dce-4499-8559-afa796fbe327",
        "colab": {
          "base_uri": "https://localhost:8080/",
          "height": 51
        }
      },
      "source": [
        "print(\"Number of training examples: {}\".format(len(train_data)))\n",
        "print(\"Number of testing examples: {}\".format(len(test_data)))"
      ],
      "execution_count": 0,
      "outputs": [
        {
          "output_type": "stream",
          "text": [
            "Number of training examples: 25000\n",
            "Number of testing examples: 25000\n"
          ],
          "name": "stdout"
        }
      ]
    },
    {
      "cell_type": "code",
      "metadata": {
        "id": "fJ572Bd_wC6h",
        "colab_type": "code",
        "colab": {}
      },
      "source": [
        "print(vars(train_data.examples[0]))"
      ],
      "execution_count": 0,
      "outputs": []
    },
    {
      "cell_type": "markdown",
      "metadata": {
        "id": "49SaxIn60D2B",
        "colab_type": "text"
      },
      "source": [
        "## Training, Validation and Testing Sets"
      ]
    },
    {
      "cell_type": "code",
      "metadata": {
        "id": "vM5CtAGe2eho",
        "colab_type": "code",
        "outputId": "511baed9-097a-4792-cdc2-97e8f96ac06b",
        "colab": {
          "base_uri": "https://localhost:8080/",
          "height": 68
        }
      },
      "source": [
        "import random\n",
        "\n",
        "train_data, valid_data = train_data.split(\n",
        "    random_state=random.seed(SEED),\n",
        "    split_ratio=0.8\n",
        ")\n",
        "\n",
        "print(\"Number of training examples: {}\".format(len(train_data)))\n",
        "print(\"Number of validation examples: {}\".format(len(valid_data)))\n",
        "print(\"Number of testing examples: {}\".format(len(test_data)))"
      ],
      "execution_count": 0,
      "outputs": [
        {
          "output_type": "stream",
          "text": [
            "Number of training examples: 20000\n",
            "Number of validation examples: 5000\n",
            "Number of testing examples: 25000\n"
          ],
          "name": "stdout"
        }
      ]
    },
    {
      "cell_type": "markdown",
      "metadata": {
        "id": "7C74UYys0SSG",
        "colab_type": "text"
      },
      "source": [
        "## Vocabulary and Pre-Trained Embedding (Glove)"
      ]
    },
    {
      "cell_type": "code",
      "metadata": {
        "id": "2Nul-rT84zAA",
        "colab_type": "code",
        "colab": {}
      },
      "source": [
        "MAX_VOCAB_SIZE = 8185\n",
        "\n",
        "TEXT.build_vocab(train_data,\n",
        "                 max_size=MAX_VOCAB_SIZE,\n",
        "                 vectors=\"glove.6B.100d\",\n",
        "                 unk_init=torch.Tensor.normal_)\n",
        "LABEL.build_vocab(train_data)"
      ],
      "execution_count": 0,
      "outputs": []
    },
    {
      "cell_type": "code",
      "metadata": {
        "id": "uXyHKPd054Am",
        "colab_type": "code",
        "outputId": "4ea9f9bc-36a5-4701-8860-310b228e2d49",
        "colab": {
          "base_uri": "https://localhost:8080/",
          "height": 51
        }
      },
      "source": [
        "print(\"Unique tokens in TEXT vocabulary: {}\".format(len(TEXT.vocab)))\n",
        "print(\"Unique tokens in LABEL vocabulary: {}\".format(len(LABEL.vocab)))"
      ],
      "execution_count": 0,
      "outputs": [
        {
          "output_type": "stream",
          "text": [
            "Unique tokens in TEXT vocabulary: 8187\n",
            "Unique tokens in LABEL vocabulary: 2\n"
          ],
          "name": "stdout"
        }
      ]
    },
    {
      "cell_type": "code",
      "metadata": {
        "id": "HAb8f32B6Jcp",
        "colab_type": "code",
        "outputId": "9dbfbab0-54ff-41aa-e820-fe370e5bba10",
        "colab": {
          "base_uri": "https://localhost:8080/",
          "height": 54
        }
      },
      "source": [
        "print(TEXT.vocab.freqs.most_common(20))"
      ],
      "execution_count": 0,
      "outputs": [
        {
          "output_type": "stream",
          "text": [
            "[('the', 231809), (',', 220371), ('.', 189109), ('and', 125051), ('a', 124896), ('of', 115113), ('to', 106993), ('is', 87293), ('in', 70277), ('I', 62182), ('it', 61243), ('that', 56426), ('\"', 50797), (\"'s\", 49824), ('this', 48348), ('-', 42373), ('/><br', 40725), ('was', 39931), ('as', 34758), ('with', 34204)]\n"
          ],
          "name": "stdout"
        }
      ]
    },
    {
      "cell_type": "code",
      "metadata": {
        "id": "QA--x2i66ejW",
        "colab_type": "code",
        "outputId": "821cfc0b-82cb-4791-f9a6-f44412d3b6be",
        "colab": {
          "base_uri": "https://localhost:8080/",
          "height": 34
        }
      },
      "source": [
        "print(TEXT.vocab.itos[:10])"
      ],
      "execution_count": 0,
      "outputs": [
        {
          "output_type": "stream",
          "text": [
            "['<unk>', '<pad>', 'the', ',', '.', 'and', 'a', 'of', 'to', 'is']\n"
          ],
          "name": "stdout"
        }
      ]
    },
    {
      "cell_type": "code",
      "metadata": {
        "id": "_cCa8T_t8Tf9",
        "colab_type": "code",
        "outputId": "53972e8d-717c-4e03-b2e0-9456ab2de4ad",
        "colab": {
          "base_uri": "https://localhost:8080/",
          "height": 34
        }
      },
      "source": [
        "print(LABEL.vocab.stoi)"
      ],
      "execution_count": 0,
      "outputs": [
        {
          "output_type": "stream",
          "text": [
            "defaultdict(<function _default_unk_index at 0x7f7f47ddf268>, {'pos': 0, 'neg': 1})\n"
          ],
          "name": "stdout"
        }
      ]
    },
    {
      "cell_type": "code",
      "metadata": {
        "id": "zVtV1PKW9nLP",
        "colab_type": "code",
        "colab": {}
      },
      "source": [
        "BATCH_SIZE = 64\n",
        "N_EPOCHS = 10\n",
        "\n",
        "device = torch.device('cuda' if torch.cuda.is_available() else 'cpu')\n",
        "\n",
        "train_iterator, valid_iterator, test_iterator = data.BucketIterator.splits(\n",
        "    (train_data, valid_data, test_data),\n",
        "    batch_size=BATCH_SIZE,\n",
        "    device=device\n",
        ")"
      ],
      "execution_count": 0,
      "outputs": []
    },
    {
      "cell_type": "markdown",
      "metadata": {
        "id": "MRwgbjPi0zJa",
        "colab_type": "text"
      },
      "source": [
        "## Sequence Processing with RNNs using LSTM"
      ]
    },
    {
      "cell_type": "code",
      "metadata": {
        "id": "dIg0PitTn1or",
        "colab_type": "code",
        "colab": {}
      },
      "source": [
        "import torch.nn as nn\n",
        "\n",
        "class RNN(nn.Module):\n",
        "    def __init__(self, vocab_size, embedding_dim,\n",
        "                 hidden_dim, output_dim,\n",
        "                 n_layers, bidirectional):\n",
        "        \n",
        "        super().__init__()\n",
        "\n",
        "        self.embedding = nn.Embedding(vocab_size, embedding_dim)\n",
        "\n",
        "        self.rnn = nn.LSTM(embedding_dim,\n",
        "                           hidden_dim,\n",
        "                           num_layers=n_layers,\n",
        "                           bidirectional=bidirectional)\n",
        "        \n",
        "        self.fc = nn.Linear(hidden_dim * 2, output_dim)\n",
        "\n",
        "    def forward(self, sequences):\n",
        "\n",
        "        # sequences: (max sequences length, batch size)\n",
        "        seq_embeddings = self.embedding(sequences)\n",
        "\n",
        "        # seq_embeddings: (max sequences length, batch size, embedding dim)\n",
        "        seq_hidden, (hidden, cell) = self.rnn(seq_embeddings)\n",
        "\n",
        "        # hidden: (num_layers * num_directions, batch size, hidden dim)\n",
        "        hidden_concat = torch.cat((hidden[-2,:,:], hidden[-1,:,:]), dim=1)\n",
        "\n",
        "        # hidden_concat: (batch size, num_directions * hidden dim)\n",
        "        output = self.fc(hidden_concat)\n",
        "\n",
        "        # output: (batch size, 1) -> vector\n",
        "        return output"
      ],
      "execution_count": 0,
      "outputs": []
    },
    {
      "cell_type": "code",
      "metadata": {
        "colab_type": "code",
        "id": "FFmffa4nCjOf",
        "colab": {}
      },
      "source": [
        "def count_parameters(model):\n",
        "    return sum(p.numel() for p in model.parameters() if p.requires_grad)"
      ],
      "execution_count": 0,
      "outputs": []
    },
    {
      "cell_type": "markdown",
      "metadata": {
        "id": "A6yzD7xqCKPk",
        "colab_type": "text"
      },
      "source": [
        "## Model 1: 1 bidrectional layer, no pre-trained embeddings"
      ]
    },
    {
      "cell_type": "code",
      "metadata": {
        "id": "DHQT54qZNjco",
        "colab_type": "code",
        "colab": {}
      },
      "source": [
        "INPUT_DIM = len(TEXT.vocab)\n",
        "EMBEDDING_DIM = 100\n",
        "HIDDEN_DIM = 256\n",
        "OUTPUT_DIM = 1\n",
        "N_LAYERS = 1\n",
        "BIDIRECTIONAL = True\n",
        "\n",
        "model_v1 = RNN(INPUT_DIM,\n",
        "               EMBEDDING_DIM,\n",
        "               HIDDEN_DIM,\n",
        "               OUTPUT_DIM,\n",
        "               N_LAYERS,\n",
        "               BIDIRECTIONAL)"
      ],
      "execution_count": 0,
      "outputs": []
    },
    {
      "cell_type": "code",
      "metadata": {
        "id": "vdj7irbQEeur",
        "colab_type": "code",
        "outputId": "94a0ad70-8ba9-471b-b4dd-b89666e0e387",
        "colab": {
          "base_uri": "https://localhost:8080/",
          "height": 34
        }
      },
      "source": [
        "print(\"The model has {:,} trainable parameters\".format(count_parameters(model_v1)))"
      ],
      "execution_count": 0,
      "outputs": [
        {
          "output_type": "stream",
          "text": [
            "The model has 1,552,397 trainable parameters\n"
          ],
          "name": "stdout"
        }
      ]
    },
    {
      "cell_type": "markdown",
      "metadata": {
        "id": "Hydzoi6UC9fN",
        "colab_type": "text"
      },
      "source": [
        "## Model 2: 1 bidirectional layer, pre-trained embeddings (Glove)"
      ]
    },
    {
      "cell_type": "code",
      "metadata": {
        "id": "fQsJnV45DPo0",
        "colab_type": "code",
        "outputId": "32f8a269-1a49-4e18-fa54-16d816d1a46e",
        "colab": {
          "base_uri": "https://localhost:8080/",
          "height": 136
        }
      },
      "source": [
        "INPUT_DIM = len(TEXT.vocab)\n",
        "EMBEDDING_DIM = 100\n",
        "HIDDEN_DIM = 256\n",
        "OUTPUT_DIM = 1\n",
        "N_LAYERS = 1\n",
        "BIDIRECTIONAL = True\n",
        "\n",
        "model_v2 = RNN(INPUT_DIM,\n",
        "               EMBEDDING_DIM,\n",
        "               HIDDEN_DIM,\n",
        "               OUTPUT_DIM,\n",
        "               N_LAYERS,\n",
        "               BIDIRECTIONAL)\n",
        "\n",
        "\n",
        "pretrained_embeddings = TEXT.vocab.vectors\n",
        "model_v2.embedding.weight.data.copy_(pretrained_embeddings)"
      ],
      "execution_count": 0,
      "outputs": [
        {
          "output_type": "execute_result",
          "data": {
            "text/plain": [
              "tensor([[-0.1285, -0.7403, -0.7101,  ...,  0.0324, -0.4687,  1.6241],\n",
              "        [ 0.3661, -0.2995, -0.1835,  ..., -2.0702,  1.9870,  1.3561],\n",
              "        [-0.0382, -0.2449,  0.7281,  ..., -0.1459,  0.8278,  0.2706],\n",
              "        ...,\n",
              "        [-1.1997,  0.6308,  0.8433,  ..., -0.1942,  0.3807,  1.0799],\n",
              "        [-0.6356,  0.2286,  0.2342,  ..., -0.3992, -0.1603,  0.0763],\n",
              "        [-0.3978,  0.3323, -0.4064,  ..., -0.5330,  0.5700, -0.5076]])"
            ]
          },
          "metadata": {
            "tags": []
          },
          "execution_count": 16
        }
      ]
    },
    {
      "cell_type": "code",
      "metadata": {
        "colab_type": "code",
        "outputId": "ae5bf90c-afdc-4a04-e670-7c4bbcc4056c",
        "id": "p33lbO2rR2OT",
        "colab": {
          "base_uri": "https://localhost:8080/",
          "height": 34
        }
      },
      "source": [
        "print(\"The model has {:,} trainable parameters\".format(count_parameters(model_v2)))"
      ],
      "execution_count": 0,
      "outputs": [
        {
          "output_type": "stream",
          "text": [
            "The model has 1,552,397 trainable parameters\n"
          ],
          "name": "stdout"
        }
      ]
    },
    {
      "cell_type": "markdown",
      "metadata": {
        "id": "ZJoMHSFIO0wZ",
        "colab_type": "text"
      },
      "source": [
        "## Model 3: 1 bidirectional layer, Glove, frozen embeddings layer"
      ]
    },
    {
      "cell_type": "code",
      "metadata": {
        "colab_type": "code",
        "outputId": "2c3fc870-4e79-423d-db52-b783403a07be",
        "id": "NETuJjnnOZFj",
        "colab": {
          "base_uri": "https://localhost:8080/",
          "height": 136
        }
      },
      "source": [
        "INPUT_DIM = len(TEXT.vocab)\n",
        "EMBEDDING_DIM = 100\n",
        "HIDDEN_DIM = 256\n",
        "OUTPUT_DIM = 1\n",
        "N_LAYERS = 1\n",
        "BIDIRECTIONAL = True\n",
        "\n",
        "model_v3 = RNN(INPUT_DIM,\n",
        "               EMBEDDING_DIM,\n",
        "               HIDDEN_DIM,\n",
        "               OUTPUT_DIM,\n",
        "               N_LAYERS,\n",
        "               BIDIRECTIONAL)\n",
        "\n",
        "\n",
        "pretrained_embeddings = TEXT.vocab.vectors\n",
        "model_v3.embedding.weight.data.copy_(pretrained_embeddings)"
      ],
      "execution_count": 0,
      "outputs": [
        {
          "output_type": "execute_result",
          "data": {
            "text/plain": [
              "tensor([[-0.1285, -0.7403, -0.7101,  ...,  0.0324, -0.4687,  1.6241],\n",
              "        [ 0.3661, -0.2995, -0.1835,  ..., -2.0702,  1.9870,  1.3561],\n",
              "        [-0.0382, -0.2449,  0.7281,  ..., -0.1459,  0.8278,  0.2706],\n",
              "        ...,\n",
              "        [-1.1997,  0.6308,  0.8433,  ..., -0.1942,  0.3807,  1.0799],\n",
              "        [-0.6356,  0.2286,  0.2342,  ..., -0.3992, -0.1603,  0.0763],\n",
              "        [-0.3978,  0.3323, -0.4064,  ..., -0.5330,  0.5700, -0.5076]])"
            ]
          },
          "metadata": {
            "tags": []
          },
          "execution_count": 18
        }
      ]
    },
    {
      "cell_type": "code",
      "metadata": {
        "colab_type": "code",
        "outputId": "ec3e746d-e203-47a3-814d-4fea712a36b4",
        "id": "7N6qbhUnOkS9",
        "colab": {
          "base_uri": "https://localhost:8080/",
          "height": 51
        }
      },
      "source": [
        "embedding_params = sum(p.numel() for p in model_v3.embedding.parameters() if p.requires_grad)\n",
        "\n",
        "for parameter in model_v3.embedding.parameters():\n",
        "    parameter.requires_grad = False\n",
        "\n",
        "print(\"The model's embedding layer has {:,} parameters\".format(embedding_params))\n",
        "print(\"The model has {:,} trainable parameters\".format(count_parameters(model_v3)))"
      ],
      "execution_count": 0,
      "outputs": [
        {
          "output_type": "stream",
          "text": [
            "The model's embedding layer has 818,700 parameters\n",
            "The model has 733,697 trainable parameters\n"
          ],
          "name": "stdout"
        }
      ]
    },
    {
      "cell_type": "markdown",
      "metadata": {
        "id": "66zy-RoOe34V",
        "colab_type": "text"
      },
      "source": [
        "## Model 4: 2 bidirectional LSTM layers, pre-trained embeddings (Glove)"
      ]
    },
    {
      "cell_type": "code",
      "metadata": {
        "colab_type": "code",
        "outputId": "e2406bb2-2912-4ae2-d93b-2a377a8baa24",
        "id": "prxPF3QefIGJ",
        "colab": {
          "base_uri": "https://localhost:8080/",
          "height": 136
        }
      },
      "source": [
        "INPUT_DIM = len(TEXT.vocab)\n",
        "EMBEDDING_DIM = 100\n",
        "HIDDEN_DIM = 256\n",
        "OUTPUT_DIM = 1\n",
        "N_LAYERS = 2\n",
        "BIDIRECTIONAL = True\n",
        "\n",
        "model_v4 = RNN(INPUT_DIM,\n",
        "               EMBEDDING_DIM,\n",
        "               HIDDEN_DIM,\n",
        "               OUTPUT_DIM,\n",
        "               N_LAYERS,\n",
        "               BIDIRECTIONAL)\n",
        "\n",
        "\n",
        "pretrained_embeddings = TEXT.vocab.vectors\n",
        "model_v4.embedding.weight.data.copy_(pretrained_embeddings)"
      ],
      "execution_count": 0,
      "outputs": [
        {
          "output_type": "execute_result",
          "data": {
            "text/plain": [
              "tensor([[-0.1285, -0.7403, -0.7101,  ...,  0.0324, -0.4687,  1.6241],\n",
              "        [ 0.3661, -0.2995, -0.1835,  ..., -2.0702,  1.9870,  1.3561],\n",
              "        [-0.0382, -0.2449,  0.7281,  ..., -0.1459,  0.8278,  0.2706],\n",
              "        ...,\n",
              "        [-1.1997,  0.6308,  0.8433,  ..., -0.1942,  0.3807,  1.0799],\n",
              "        [-0.6356,  0.2286,  0.2342,  ..., -0.3992, -0.1603,  0.0763],\n",
              "        [-0.3978,  0.3323, -0.4064,  ..., -0.5330,  0.5700, -0.5076]])"
            ]
          },
          "metadata": {
            "tags": []
          },
          "execution_count": 20
        }
      ]
    },
    {
      "cell_type": "code",
      "metadata": {
        "colab_type": "code",
        "outputId": "20de1b59-cd5f-416e-bfe2-07253fcd578f",
        "id": "l2MWlRQkfpK-",
        "colab": {
          "base_uri": "https://localhost:8080/",
          "height": 34
        }
      },
      "source": [
        "print(\"The model has {:,} trainable parameters\".format(count_parameters(model_v4)))"
      ],
      "execution_count": 0,
      "outputs": [
        {
          "output_type": "stream",
          "text": [
            "The model has 3,129,357 trainable parameters\n"
          ],
          "name": "stdout"
        }
      ]
    },
    {
      "cell_type": "markdown",
      "metadata": {
        "id": "LUoHqRIkcoi1",
        "colab_type": "text"
      },
      "source": [
        "## Training the RNNs"
      ]
    },
    {
      "cell_type": "markdown",
      "metadata": {
        "id": "XypWXAsUddjg",
        "colab_type": "text"
      },
      "source": [
        "### Loss function: Binary Cross Entropy\n",
        "\n",
        "For each model we are using 1 neuron in our last layer, and therefore we'll be using the sigmoid function as the activation:\n",
        "\n",
        "$$ \\large h_ w (x) =  \\frac{\\mathrm{1} }{\\mathrm{1} + e^- w^Tx }  $$ \n",
        "\n",
        "The probabilty distribution for the positive comments is modeled using the sigmoid function:\n",
        "\n",
        "$$ P(y=1 | x; W) =  h_ w (x)  $$ "
      ]
    },
    {
      "cell_type": "code",
      "metadata": {
        "id": "y7d-2vJsRTXk",
        "colab_type": "code",
        "colab": {}
      },
      "source": [
        "criterion = nn.BCEWithLogitsLoss()\n",
        "\n",
        "criterion = criterion.to(device)"
      ],
      "execution_count": 0,
      "outputs": []
    },
    {
      "cell_type": "markdown",
      "metadata": {
        "id": "wVYnqOIwcwZc",
        "colab_type": "text"
      },
      "source": [
        "### Accuracy function"
      ]
    },
    {
      "cell_type": "code",
      "metadata": {
        "id": "wpD93CtMU7fP",
        "colab_type": "code",
        "colab": {}
      },
      "source": [
        "def accuracy(outputs, labels):\n",
        "    \"\"\"\n",
        "    Returns accuracy per batch\n",
        "\n",
        "    \"\"\"\n",
        "\n",
        "    # Precit y = 1 if sigmoid(output) >= 0.5 (positive review)\n",
        "    # Precit y = 0 if sigmoid(output) <  0.5 (negative review)\n",
        "    predictions = torch.round(torch.sigmoid(outputs))\n",
        "    correct = (predictions == labels).float()\n",
        "    return correct.sum().item(), len(labels)"
      ],
      "execution_count": 0,
      "outputs": []
    },
    {
      "cell_type": "markdown",
      "metadata": {
        "id": "UvDC4F7xc2Cm",
        "colab_type": "text"
      },
      "source": [
        "### Train function"
      ]
    },
    {
      "cell_type": "code",
      "metadata": {
        "id": "lMPz5h-knW0l",
        "colab_type": "code",
        "colab": {}
      },
      "source": [
        "def train(model, iterator, optimizer, cruterion):\n",
        "    \n",
        "    epoch_loss = 0\n",
        "    epoch_total_correct = 0\n",
        "    epoch_total_examples = 0\n",
        "\n",
        "    model.train()\n",
        "\n",
        "    for batch in iterator:\n",
        "\n",
        "        optimizer.zero_grad()\n",
        "\n",
        "        outputs = model(batch.text).squeeze(1)\n",
        "\n",
        "        loss = criterion(outputs, batch.label)\n",
        "\n",
        "        num_correct, num_examples = accuracy(outputs, batch.label)\n",
        "\n",
        "        loss.backward()\n",
        "\n",
        "        optimizer.step()\n",
        "\n",
        "        epoch_loss += loss.item()\n",
        "        epoch_total_correct += num_correct\n",
        "        epoch_total_examples += num_examples\n",
        "\n",
        "    return epoch_loss / len(iterator), epoch_total_correct / epoch_total_examples"
      ],
      "execution_count": 0,
      "outputs": []
    },
    {
      "cell_type": "markdown",
      "metadata": {
        "id": "RMg0s4ZAc8eh",
        "colab_type": "text"
      },
      "source": [
        "### Evaluation function"
      ]
    },
    {
      "cell_type": "code",
      "metadata": {
        "id": "naN15Mx0joaG",
        "colab_type": "code",
        "colab": {}
      },
      "source": [
        "def evaluate(model, iterator, criterion):\n",
        "\n",
        "    epoch_loss = 0\n",
        "    epoch_total_correct = 0\n",
        "    epoch_total_examples = 0\n",
        "\n",
        "    model.eval()\n",
        "\n",
        "    with torch.no_grad():\n",
        "\n",
        "        for batch in iterator:\n",
        "\n",
        "            outputs = model(batch.text).squeeze(1)\n",
        "\n",
        "            loss = criterion(outputs, batch.label)\n",
        "\n",
        "            num_correct, num_examples = accuracy(outputs, batch.label)\n",
        "\n",
        "            epoch_loss += loss.item()\n",
        "            epoch_total_correct += num_correct\n",
        "            epoch_total_examples += num_examples\n",
        "\n",
        "    return epoch_loss / len(iterator), epoch_total_correct / epoch_total_examples"
      ],
      "execution_count": 0,
      "outputs": []
    },
    {
      "cell_type": "markdown",
      "metadata": {
        "id": "W3k2iNZodJYU",
        "colab_type": "text"
      },
      "source": [
        "### Epoch Timer"
      ]
    },
    {
      "cell_type": "code",
      "metadata": {
        "id": "e_sbes3gkmsj",
        "colab_type": "code",
        "colab": {}
      },
      "source": [
        "import time\n",
        "\n",
        "def epoch_time(start_time, end_time):\n",
        "    elapsed_time = end_time - start_time\n",
        "    elapsed_mins, elapsed_secs = divmod(int(elapsed_time), 60)\n",
        "    return elapsed_mins, elapsed_secs"
      ],
      "execution_count": 0,
      "outputs": []
    },
    {
      "cell_type": "markdown",
      "metadata": {
        "id": "7c-1mcrBTcQn",
        "colab_type": "text"
      },
      "source": [
        "### Training-Evaluation function"
      ]
    },
    {
      "cell_type": "code",
      "metadata": {
        "colab_type": "code",
        "id": "BMW-YJcsTkJJ",
        "colab": {}
      },
      "source": [
        "def train_evaluate(model, optimizer, criterion, n_epochs):\n",
        "\n",
        "    metrics = {\n",
        "        \"train_accu\": [],\n",
        "        \"train_loss\": [],\n",
        "        \"valid_accu\": [],\n",
        "        \"valid_loss\": [],\n",
        "    }\n",
        "\n",
        "    model = model.to(device)\n",
        "\n",
        "    for epoch in range(n_epochs):\n",
        "\n",
        "        start_time = time.time()\n",
        "\n",
        "        train_loss, train_accu = train(model, train_iterator, optimizer, criterion)\n",
        "        valid_loss, valid_accu = evaluate(model, valid_iterator, criterion)\n",
        "\n",
        "        end_time = time.time()\n",
        "\n",
        "        epoch_mins, epoch_secs = epoch_time(start_time, end_time)\n",
        "\n",
        "        print(\"Epoch: {:02} | Epoch Time: {}m {}s\".format(epoch+1, epoch_mins, epoch_secs))\n",
        "        print(\"\\tTrain Loss: {:.3f} | Train Acc: {:.2f}%\".format(train_loss, train_accu*100))\n",
        "        print(\"\\t Val. Loss: {:.3f} |  Val. Acc: {:.2f}%\".format(valid_loss, valid_accu*100))\n",
        "\n",
        "        metrics[\"train_accu\"].append(train_accu)\n",
        "        metrics[\"train_loss\"].append(train_loss)\n",
        "        metrics[\"valid_accu\"].append(valid_accu)\n",
        "        metrics[\"valid_loss\"].append(valid_loss)\n",
        "\n",
        "    return metrics"
      ],
      "execution_count": 0,
      "outputs": []
    },
    {
      "cell_type": "markdown",
      "metadata": {
        "id": "_eujNc2ntXsD",
        "colab_type": "text"
      },
      "source": [
        "### Plot Metrics function"
      ]
    },
    {
      "cell_type": "code",
      "metadata": {
        "id": "cg0GGaJDtYXC",
        "colab_type": "code",
        "colab": {}
      },
      "source": [
        "import matplotlib.pyplot as plt\n",
        "\n",
        "def plot_metrics(metrics):\n",
        "\n",
        "    train_accu = metrics['train_accu']\n",
        "    valid_accu = metrics['valid_accu']\n",
        "    train_loss = metrics['train_loss']\n",
        "    valid_loss = metrics['valid_loss']\n",
        "\n",
        "    epochs = range(1, N_EPOCHS + 1)\n",
        "\n",
        "    plt.figure(figsize=(14, 5))\n",
        "    \n",
        "    plt.subplot(1, 2, 1)\n",
        "    plt.plot(epochs, train_loss, 'b', label='Training loss')\n",
        "    plt.plot(epochs, valid_loss, 'r', label='Validation loss')\n",
        "    plt.title('Training and validation loss')\n",
        "    plt.xlabel('Epochs')\n",
        "    plt.ylabel('Loss')\n",
        "    plt.legend()\n",
        "\n",
        "    plt.subplot(1, 2, 2)\n",
        "    plt.plot(epochs, train_accu, 'b', label='Training accuracy')\n",
        "    plt.plot(epochs, valid_accu, 'r', label='Validation accuracy')\n",
        "    plt.title('Training and validation accuracy')\n",
        "    plt.xlabel('Epochs')\n",
        "    plt.ylabel('Accuracy')\n",
        "    plt.legend()\n",
        "\n",
        "    plt.show()"
      ],
      "execution_count": 0,
      "outputs": []
    },
    {
      "cell_type": "markdown",
      "metadata": {
        "id": "uQexpTAlSEEW",
        "colab_type": "text"
      },
      "source": [
        "### Model 1 - Training a RNN from Scratch (1 Bidirectional LSTM layer)"
      ]
    },
    {
      "cell_type": "code",
      "metadata": {
        "id": "lnXIao_A3ri6",
        "colab_type": "code",
        "outputId": "cb25eda3-dd92-4799-e06f-3ab0f50eec3a",
        "colab": {
          "base_uri": "https://localhost:8080/",
          "height": 527
        }
      },
      "source": [
        "optimizer_v1 = optim.Adam(model_v1.parameters())\n",
        "\n",
        "metrics = train_evaluate(model_v1, optimizer_v1, criterion, N_EPOCHS)"
      ],
      "execution_count": 0,
      "outputs": [
        {
          "output_type": "stream",
          "text": [
            "Epoch: 01 | Epoch Time: 0m 45s\n",
            "\tTrain Loss: 0.638 | Train Acc: 63.29%\n",
            "\t Val. Loss: 0.649 |  Val. Acc: 62.08%\n",
            "Epoch: 02 | Epoch Time: 0m 47s\n",
            "\tTrain Loss: 0.571 | Train Acc: 70.47%\n",
            "\t Val. Loss: 0.542 |  Val. Acc: 74.28%\n",
            "Epoch: 03 | Epoch Time: 0m 48s\n",
            "\tTrain Loss: 0.548 | Train Acc: 72.14%\n",
            "\t Val. Loss: 0.535 |  Val. Acc: 77.44%\n",
            "Epoch: 04 | Epoch Time: 0m 48s\n",
            "\tTrain Loss: 0.554 | Train Acc: 71.32%\n",
            "\t Val. Loss: 0.616 |  Val. Acc: 66.08%\n",
            "Epoch: 05 | Epoch Time: 0m 48s\n",
            "\tTrain Loss: 0.419 | Train Acc: 81.42%\n",
            "\t Val. Loss: 0.454 |  Val. Acc: 81.54%\n",
            "Epoch: 06 | Epoch Time: 0m 48s\n",
            "\tTrain Loss: 0.290 | Train Acc: 88.53%\n",
            "\t Val. Loss: 0.348 |  Val. Acc: 85.80%\n",
            "Epoch: 07 | Epoch Time: 0m 48s\n",
            "\tTrain Loss: 0.226 | Train Acc: 91.55%\n",
            "\t Val. Loss: 0.345 |  Val. Acc: 86.24%\n",
            "Epoch: 08 | Epoch Time: 0m 48s\n",
            "\tTrain Loss: 0.169 | Train Acc: 94.02%\n",
            "\t Val. Loss: 0.394 |  Val. Acc: 85.18%\n",
            "Epoch: 09 | Epoch Time: 0m 48s\n",
            "\tTrain Loss: 0.127 | Train Acc: 95.71%\n",
            "\t Val. Loss: 0.390 |  Val. Acc: 85.46%\n",
            "Epoch: 10 | Epoch Time: 0m 49s\n",
            "\tTrain Loss: 0.088 | Train Acc: 97.14%\n",
            "\t Val. Loss: 0.451 |  Val. Acc: 86.66%\n"
          ],
          "name": "stdout"
        }
      ]
    },
    {
      "cell_type": "code",
      "metadata": {
        "colab_type": "code",
        "outputId": "38fc94ce-1199-4f69-c9c0-69f1b73ea0c8",
        "id": "JBnDJVd04BdB",
        "colab": {
          "base_uri": "https://localhost:8080/",
          "height": 34
        }
      },
      "source": [
        "test_loss, test_acc = evaluate(model_v1, test_iterator, criterion)\n",
        "\n",
        "print(\"Test Loss: {:.3f} |  Test Acc: {:.2f}%\".format(test_loss, test_acc*100))"
      ],
      "execution_count": 0,
      "outputs": [
        {
          "output_type": "stream",
          "text": [
            "Test Loss: 0.499 |  Test Acc: 85.32%\n"
          ],
          "name": "stdout"
        }
      ]
    },
    {
      "cell_type": "code",
      "metadata": {
        "id": "sXGE6N2M75kf",
        "colab_type": "code",
        "outputId": "037def91-97b4-4aee-b44c-0a843656b5c8",
        "colab": {
          "base_uri": "https://localhost:8080/",
          "height": 350
        }
      },
      "source": [
        "plot_metrics(metrics)"
      ],
      "execution_count": 0,
      "outputs": [
        {
          "output_type": "display_data",
          "data": {
            "image/png": "[encoded data removed]",
            "text/plain": [
              "<Figure size 1008x360 with 2 Axes>"
            ]
          },
          "metadata": {
            "tags": []
          }
        }
      ]
    },
    {
      "cell_type": "markdown",
      "metadata": {
        "id": "2LkD-LjqScr-",
        "colab_type": "text"
      },
      "source": [
        "### Model 2 - Fine-tuning a RNN using GloVe Embeddings (1 Bidirectional LSTM layer)"
      ]
    },
    {
      "cell_type": "code",
      "metadata": {
        "colab_type": "code",
        "outputId": "3679cfd5-95fe-44b8-cceb-bd15315b6639",
        "id": "h1mOp6u_SRKc",
        "colab": {
          "base_uri": "https://localhost:8080/",
          "height": 527
        }
      },
      "source": [
        "optimizer_v2 = optim.Adam(model_v2.parameters())\n",
        "\n",
        "metrics = train_evaluate(model_v2, optimizer_v2, criterion, N_EPOCHS)"
      ],
      "execution_count": 0,
      "outputs": [
        {
          "output_type": "stream",
          "text": [
            "Epoch: 01 | Epoch Time: 0m 47s\n",
            "\tTrain Loss: 0.661 | Train Acc: 59.09%\n",
            "\t Val. Loss: 0.620 |  Val. Acc: 65.26%\n",
            "Epoch: 02 | Epoch Time: 0m 48s\n",
            "\tTrain Loss: 0.582 | Train Acc: 68.88%\n",
            "\t Val. Loss: 0.564 |  Val. Acc: 70.76%\n",
            "Epoch: 03 | Epoch Time: 0m 49s\n",
            "\tTrain Loss: 0.485 | Train Acc: 77.70%\n",
            "\t Val. Loss: 0.403 |  Val. Acc: 83.76%\n",
            "Epoch: 04 | Epoch Time: 0m 49s\n",
            "\tTrain Loss: 0.316 | Train Acc: 87.21%\n",
            "\t Val. Loss: 0.365 |  Val. Acc: 85.14%\n",
            "Epoch: 05 | Epoch Time: 0m 49s\n",
            "\tTrain Loss: 0.246 | Train Acc: 90.42%\n",
            "\t Val. Loss: 0.311 |  Val. Acc: 88.26%\n",
            "Epoch: 06 | Epoch Time: 0m 49s\n",
            "\tTrain Loss: 0.213 | Train Acc: 92.05%\n",
            "\t Val. Loss: 0.287 |  Val. Acc: 88.50%\n",
            "Epoch: 07 | Epoch Time: 0m 48s\n",
            "\tTrain Loss: 0.172 | Train Acc: 93.69%\n",
            "\t Val. Loss: 0.353 |  Val. Acc: 87.62%\n",
            "Epoch: 08 | Epoch Time: 0m 49s\n",
            "\tTrain Loss: 0.142 | Train Acc: 95.02%\n",
            "\t Val. Loss: 0.348 |  Val. Acc: 88.48%\n",
            "Epoch: 09 | Epoch Time: 0m 49s\n",
            "\tTrain Loss: 0.113 | Train Acc: 96.30%\n",
            "\t Val. Loss: 0.347 |  Val. Acc: 88.36%\n",
            "Epoch: 10 | Epoch Time: 0m 48s\n",
            "\tTrain Loss: 0.095 | Train Acc: 96.99%\n",
            "\t Val. Loss: 0.385 |  Val. Acc: 88.36%\n"
          ],
          "name": "stdout"
        }
      ]
    },
    {
      "cell_type": "code",
      "metadata": {
        "colab_type": "code",
        "outputId": "21f59fc1-807a-4d32-9ab7-d88a7a9f6ba8",
        "id": "wE9QlMHpSUPs",
        "colab": {
          "base_uri": "https://localhost:8080/",
          "height": 34
        }
      },
      "source": [
        "test_loss, test_acc = evaluate(model_v2, test_iterator, criterion)\n",
        "\n",
        "print(\"Test Loss: {:.3f} |  Test Acc: {:.2f}%\".format(test_loss, test_acc*100))"
      ],
      "execution_count": 0,
      "outputs": [
        {
          "output_type": "stream",
          "text": [
            "Test Loss: 0.439 |  Test Acc: 86.78%\n"
          ],
          "name": "stdout"
        }
      ]
    },
    {
      "cell_type": "code",
      "metadata": {
        "id": "cHqeLpSV-S5k",
        "colab_type": "code",
        "outputId": "b7e1deb3-a774-42d8-eb9d-994139cbe3e9",
        "colab": {
          "base_uri": "https://localhost:8080/",
          "height": 350
        }
      },
      "source": [
        "plot_metrics(metrics)"
      ],
      "execution_count": 0,
      "outputs": [
        {
          "output_type": "display_data",
          "data": {
            "image/png": "[encoded data removed]",
            "text/plain": [
              "<Figure size 1008x360 with 2 Axes>"
            ]
          },
          "metadata": {
            "tags": []
          }
        }
      ]
    },
    {
      "cell_type": "markdown",
      "metadata": {
        "id": "RGCs2J8jmAN9",
        "colab_type": "text"
      },
      "source": [
        "### Model 3 - Training a RNN with a frozen GloVe embeddings (1 Bidirectional LSTM layer)"
      ]
    },
    {
      "cell_type": "code",
      "metadata": {
        "colab_type": "code",
        "outputId": "522b41a4-c041-48dc-e651-c9bd25749ec4",
        "id": "ftFYRCqImH0E",
        "colab": {
          "base_uri": "https://localhost:8080/",
          "height": 527
        }
      },
      "source": [
        "optimizer_v3 = optim.Adam([p for p in model_v3.parameters() if p.requires_grad])\n",
        "\n",
        "metrics = train_evaluate(model_v3, optimizer_v3, criterion, N_EPOCHS)"
      ],
      "execution_count": 0,
      "outputs": [
        {
          "output_type": "stream",
          "text": [
            "Epoch: 01 | Epoch Time: 0m 48s\n",
            "\tTrain Loss: 0.684 | Train Acc: 55.88%\n",
            "\t Val. Loss: 0.701 |  Val. Acc: 51.04%\n",
            "Epoch: 02 | Epoch Time: 0m 48s\n",
            "\tTrain Loss: 0.681 | Train Acc: 56.19%\n",
            "\t Val. Loss: 0.692 |  Val. Acc: 53.04%\n",
            "Epoch: 03 | Epoch Time: 0m 48s\n",
            "\tTrain Loss: 0.656 | Train Acc: 59.99%\n",
            "\t Val. Loss: 0.532 |  Val. Acc: 74.92%\n",
            "Epoch: 04 | Epoch Time: 0m 48s\n",
            "\tTrain Loss: 0.480 | Train Acc: 78.39%\n",
            "\t Val. Loss: 0.425 |  Val. Acc: 81.14%\n",
            "Epoch: 05 | Epoch Time: 0m 49s\n",
            "\tTrain Loss: 0.404 | Train Acc: 82.09%\n",
            "\t Val. Loss: 0.407 |  Val. Acc: 81.06%\n",
            "Epoch: 06 | Epoch Time: 0m 49s\n",
            "\tTrain Loss: 0.376 | Train Acc: 83.63%\n",
            "\t Val. Loss: 0.377 |  Val. Acc: 83.36%\n",
            "Epoch: 07 | Epoch Time: 0m 49s\n",
            "\tTrain Loss: 0.352 | Train Acc: 84.62%\n",
            "\t Val. Loss: 0.366 |  Val. Acc: 84.36%\n",
            "Epoch: 08 | Epoch Time: 0m 49s\n",
            "\tTrain Loss: 0.325 | Train Acc: 86.02%\n",
            "\t Val. Loss: 0.362 |  Val. Acc: 83.92%\n",
            "Epoch: 09 | Epoch Time: 0m 48s\n",
            "\tTrain Loss: 0.303 | Train Acc: 87.19%\n",
            "\t Val. Loss: 0.371 |  Val. Acc: 83.62%\n",
            "Epoch: 10 | Epoch Time: 0m 49s\n",
            "\tTrain Loss: 0.275 | Train Acc: 88.72%\n",
            "\t Val. Loss: 0.361 |  Val. Acc: 84.58%\n"
          ],
          "name": "stdout"
        }
      ]
    },
    {
      "cell_type": "code",
      "metadata": {
        "colab_type": "code",
        "outputId": "bd2d4380-8992-45ff-c1e3-b613fbf934f4",
        "id": "ZTH17sUvmLM_",
        "colab": {
          "base_uri": "https://localhost:8080/",
          "height": 34
        }
      },
      "source": [
        "test_loss, test_acc = evaluate(model_v3, test_iterator, criterion)\n",
        "\n",
        "print(\"Test Loss: {:.3f} |  Test Acc: {:.2f}%\".format(test_loss, test_acc*100))"
      ],
      "execution_count": 0,
      "outputs": [
        {
          "output_type": "stream",
          "text": [
            "Test Loss: 0.394 |  Test Acc: 83.15%\n"
          ],
          "name": "stdout"
        }
      ]
    },
    {
      "cell_type": "code",
      "metadata": {
        "id": "tjmogVtn-Vvm",
        "colab_type": "code",
        "outputId": "1d73a9db-f07f-4e13-a13a-d0f016ced2d7",
        "colab": {
          "base_uri": "https://localhost:8080/",
          "height": 350
        }
      },
      "source": [
        "plot_metrics(metrics)"
      ],
      "execution_count": 0,
      "outputs": [
        {
          "output_type": "display_data",
          "data": {
            "image/png": "[encoded data removed]",
            "text/plain": [
              "<Figure size 1008x360 with 2 Axes>"
            ]
          },
          "metadata": {
            "tags": []
          }
        }
      ]
    },
    {
      "cell_type": "markdown",
      "metadata": {
        "id": "NXumc-QMmMtt",
        "colab_type": "text"
      },
      "source": [
        "### Model 4 - Fine-tuning a RNN using GloVe embeddings (2 Bidirectional LSTM layers)"
      ]
    },
    {
      "cell_type": "code",
      "metadata": {
        "colab_type": "code",
        "outputId": "e9804584-db72-4a8a-8823-3a1f6bc0a87b",
        "id": "Tfc82VSFmS-g",
        "colab": {
          "base_uri": "https://localhost:8080/",
          "height": 527
        }
      },
      "source": [
        "optimizer_v4 = optim.Adam(model_v4.parameters())\n",
        "\n",
        "metrics = train_evaluate(model_v4, optimizer_v4, criterion, N_EPOCHS)"
      ],
      "execution_count": 0,
      "outputs": [
        {
          "output_type": "stream",
          "text": [
            "Epoch: 01 | Epoch Time: 2m 1s\n",
            "\tTrain Loss: 0.687 | Train Acc: 53.44%\n",
            "\t Val. Loss: 0.692 |  Val. Acc: 51.10%\n",
            "Epoch: 02 | Epoch Time: 2m 3s\n",
            "\tTrain Loss: 0.688 | Train Acc: 54.18%\n",
            "\t Val. Loss: 0.678 |  Val. Acc: 57.54%\n",
            "Epoch: 03 | Epoch Time: 2m 6s\n",
            "\tTrain Loss: 0.649 | Train Acc: 62.60%\n",
            "\t Val. Loss: 0.687 |  Val. Acc: 54.20%\n",
            "Epoch: 04 | Epoch Time: 2m 7s\n",
            "\tTrain Loss: 0.588 | Train Acc: 67.64%\n",
            "\t Val. Loss: 0.423 |  Val. Acc: 82.64%\n",
            "Epoch: 05 | Epoch Time: 2m 6s\n",
            "\tTrain Loss: 0.328 | Train Acc: 86.47%\n",
            "\t Val. Loss: 0.313 |  Val. Acc: 86.40%\n",
            "Epoch: 06 | Epoch Time: 2m 8s\n",
            "\tTrain Loss: 0.236 | Train Acc: 90.78%\n",
            "\t Val. Loss: 0.278 |  Val. Acc: 88.82%\n",
            "Epoch: 07 | Epoch Time: 2m 7s\n",
            "\tTrain Loss: 0.183 | Train Acc: 93.24%\n",
            "\t Val. Loss: 0.282 |  Val. Acc: 88.92%\n",
            "Epoch: 08 | Epoch Time: 2m 7s\n",
            "\tTrain Loss: 0.148 | Train Acc: 94.72%\n",
            "\t Val. Loss: 0.338 |  Val. Acc: 88.70%\n",
            "Epoch: 09 | Epoch Time: 2m 7s\n",
            "\tTrain Loss: 0.112 | Train Acc: 96.28%\n",
            "\t Val. Loss: 0.325 |  Val. Acc: 88.72%\n",
            "Epoch: 10 | Epoch Time: 2m 7s\n",
            "\tTrain Loss: 0.085 | Train Acc: 97.42%\n",
            "\t Val. Loss: 0.360 |  Val. Acc: 88.86%\n"
          ],
          "name": "stdout"
        }
      ]
    },
    {
      "cell_type": "code",
      "metadata": {
        "colab_type": "code",
        "outputId": "d03181fd-ad98-44c4-d5ac-829cd84c32f6",
        "id": "6jaF5JQRmV__",
        "colab": {
          "base_uri": "https://localhost:8080/",
          "height": 34
        }
      },
      "source": [
        "test_loss, test_acc = evaluate(model_v4, test_iterator, criterion)\n",
        "print(\"Test Loss: {:.3f} |  Test Acc: {:.2f}%\".format(test_loss, test_acc*100))"
      ],
      "execution_count": 0,
      "outputs": [
        {
          "output_type": "stream",
          "text": [
            "Test Loss: 0.373 |  Test Acc: 87.96%\n"
          ],
          "name": "stdout"
        }
      ]
    },
    {
      "cell_type": "code",
      "metadata": {
        "id": "sk-Jm1Af-aAK",
        "colab_type": "code",
        "outputId": "061d8ad2-9637-4e5b-de24-d2dac469f4e8",
        "colab": {
          "base_uri": "https://localhost:8080/",
          "height": 350
        }
      },
      "source": [
        "plot_metrics(metrics)"
      ],
      "execution_count": 0,
      "outputs": [
        {
          "output_type": "display_data",
          "data": {
            "image/png": "[encoded data removed]",
            "text/plain": [
              "<Figure size 1008x360 with 2 Axes>"
            ]
          },
          "metadata": {
            "tags": []
          }
        }
      ]
    }
  ]
}