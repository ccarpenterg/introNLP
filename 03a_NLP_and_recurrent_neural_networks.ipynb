{
  "nbformat": 4,
  "nbformat_minor": 0,
  "metadata": {
    "colab": {
      "name": "03a_NLP_and_recurrent_neural_networks.ipynb",
      "provenance": [],
      "toc_visible": true,
      "authorship_tag": "ABX9TyOOt7iAoW9qCebiNrd2EmSN",
      "include_colab_link": true
    },
    "kernelspec": {
      "name": "python3",
      "display_name": "Python 3"
    },
    "accelerator": "GPU"
  },
  "cells": [
    {
      "cell_type": "markdown",
      "metadata": {
        "id": "view-in-github",
        "colab_type": "text"
      },
      "source": [
        "<a href=\"https://colab.research.google.com/github/ccarpenterg/introNLP/blob/master/03a_NLP_and_recurrent_neural_networks.ipynb\" target=\"_parent\"><img src=\"https://colab.research.google.com/assets/colab-badge.svg\" alt=\"Open In Colab\"/></a>"
      ]
    },
    {
      "cell_type": "markdown",
      "metadata": {
        "id": "xAJlYbWTNvHd",
        "colab_type": "text"
      },
      "source": [
        "# NLP and Recurrent Neural Networks"
      ]
    },
    {
      "cell_type": "code",
      "metadata": {
        "id": "8sXrfA8cNfJA",
        "colab_type": "code",
        "colab": {
          "base_uri": "https://localhost:8080/",
          "height": 51
        },
        "outputId": "96fb9982-7fed-4de4-a140-dc03d884de12"
      },
      "source": [
        "# load Tensorflow 2\n",
        "%tensorflow_version 2.x\n",
        "import tensorflow as tf\n",
        "\n",
        "from tensorflow import keras\n",
        "\n",
        "import tensorflow_datasets as tfds\n",
        "import numpy as np\n",
        "\n",
        "print(tf.__version__)"
      ],
      "execution_count": 1,
      "outputs": [
        {
          "output_type": "stream",
          "text": [
            "TensorFlow 2.x selected.\n",
            "2.1.0\n"
          ],
          "name": "stdout"
        }
      ]
    },
    {
      "cell_type": "markdown",
      "metadata": {
        "id": "OAfH4Q25XWaj",
        "colab_type": "text"
      },
      "source": [
        "## Sentiment Analysis of IMDB Movie Reviews"
      ]
    },
    {
      "cell_type": "code",
      "metadata": {
        "id": "OfcdpXg0OYRR",
        "colab_type": "code",
        "colab": {}
      },
      "source": [
        "train_validation_split = tfds.Split.TRAIN.subsplit([8, 2])\n",
        "\n",
        "(train_validation_data, test_data), info = tfds.load(\n",
        "    'imdb_reviews/subwords8k',\n",
        "    split = (train_validation_split, tfds.Split.TEST),\n",
        "    as_supervised=True,\n",
        "    with_info=True\n",
        ")\n",
        "\n",
        "train_data, validation_data = train_validation_data"
      ],
      "execution_count": 0,
      "outputs": []
    },
    {
      "cell_type": "code",
      "metadata": {
        "id": "zjac4DW_PTZ0",
        "colab_type": "code",
        "colab": {}
      },
      "source": [
        "encoder = info.features['text'].encoder"
      ],
      "execution_count": 0,
      "outputs": []
    },
    {
      "cell_type": "markdown",
      "metadata": {
        "id": "qUa7saWHX6E8",
        "colab_type": "text"
      },
      "source": [
        "## Preprocessing the Dataset with Padding"
      ]
    },
    {
      "cell_type": "code",
      "metadata": {
        "id": "8d8VVXDBnKa5",
        "colab_type": "code",
        "colab": {}
      },
      "source": [
        "BUFFER_SIZE = 5000\n",
        "BATCH_SIZE = 32\n",
        "\n",
        "train_batches = (\n",
        "    train_data\n",
        "    .shuffle(BUFFER_SIZE)\n",
        "    .padded_batch(BATCH_SIZE, tf.compat.v1.data.get_output_shapes(train_data))\n",
        ")\n",
        "\n",
        "validation_batches = (\n",
        "    validation_data\n",
        "    .padded_batch(BATCH_SIZE, tf.compat.v1.data.get_output_shapes(validation_data))\n",
        ")\n",
        "\n",
        "test_batches = (\n",
        "    test_data\n",
        "    .padded_batch(BATCH_SIZE, tf.compat.v1.data.get_output_shapes(test_data))\n",
        ")"
      ],
      "execution_count": 0,
      "outputs": []
    },
    {
      "cell_type": "code",
      "metadata": {
        "id": "kaNuisK1sCcY",
        "colab_type": "code",
        "colab": {
          "base_uri": "https://localhost:8080/",
          "height": 85
        },
        "outputId": "9a00f087-1fb2-4f02-e414-ef40a4ad237d"
      },
      "source": [
        "for batch_example, labels in train_batches.take(2):\n",
        "    print(\"Batch shape:\", batch_example.shape)\n",
        "    print(\"Labels shape:\", labels.shape)"
      ],
      "execution_count": 5,
      "outputs": [
        {
          "output_type": "stream",
          "text": [
            "Batch shape: (32, 1314)\n",
            "Labels shape: (32,)\n",
            "Batch shape: (32, 1482)\n",
            "Labels shape: (32,)\n"
          ],
          "name": "stdout"
        }
      ]
    },
    {
      "cell_type": "markdown",
      "metadata": {
        "id": "xe01nULVYB84",
        "colab_type": "text"
      },
      "source": [
        "## Sequence Processing with a Recurrent Neural Network"
      ]
    },
    {
      "cell_type": "code",
      "metadata": {
        "id": "QDNauQFibOUE",
        "colab_type": "code",
        "colab": {
          "base_uri": "https://localhost:8080/",
          "height": 289
        },
        "outputId": "57a45f8d-17cf-4198-c5c0-4add56fb651f"
      },
      "source": [
        "model_v1 = tf.keras.Sequential([\n",
        "    tf.keras.layers.Embedding(encoder.vocab_size, 64),\n",
        "    tf.keras.layers.LSTM(64, return_sequences=False),\n",
        "    tf.keras.layers.Dense(64, activation='relu'),\n",
        "    tf.keras.layers.Dense(1, activation='sigmoid')\n",
        "])\n",
        "\n",
        "model_v1.summary()"
      ],
      "execution_count": 6,
      "outputs": [
        {
          "output_type": "stream",
          "text": [
            "Model: \"sequential\"\n",
            "_________________________________________________________________\n",
            "Layer (type)                 Output Shape              Param #   \n",
            "=================================================================\n",
            "embedding (Embedding)        (None, None, 64)          523840    \n",
            "_________________________________________________________________\n",
            "lstm (LSTM)                  (None, 64)                33024     \n",
            "_________________________________________________________________\n",
            "dense (Dense)                (None, 64)                4160      \n",
            "_________________________________________________________________\n",
            "dense_1 (Dense)              (None, 1)                 65        \n",
            "=================================================================\n",
            "Total params: 561,089\n",
            "Trainable params: 561,089\n",
            "Non-trainable params: 0\n",
            "_________________________________________________________________\n"
          ],
          "name": "stdout"
        }
      ]
    },
    {
      "cell_type": "code",
      "metadata": {
        "id": "kF5tNlgJPZZI",
        "colab_type": "code",
        "colab": {
          "base_uri": "https://localhost:8080/",
          "height": 289
        },
        "outputId": "0a690d18-f477-40f2-cb6f-d286761d98f7"
      },
      "source": [
        "model_v2 = tf.keras.Sequential([\n",
        "    tf.keras.layers.Embedding(encoder.vocab_size, 64),\n",
        "    tf.keras.layers.Bidirectional(tf.keras.layers.LSTM(64)),\n",
        "    tf.keras.layers.Dense(64, activation='relu'),\n",
        "    tf.keras.layers.Dense(1, activation='sigmoid')\n",
        "])\n",
        "\n",
        "model_v2.summary()"
      ],
      "execution_count": 7,
      "outputs": [
        {
          "output_type": "stream",
          "text": [
            "Model: \"sequential_1\"\n",
            "_________________________________________________________________\n",
            "Layer (type)                 Output Shape              Param #   \n",
            "=================================================================\n",
            "embedding_1 (Embedding)      (None, None, 64)          523840    \n",
            "_________________________________________________________________\n",
            "bidirectional (Bidirectional (None, 128)               66048     \n",
            "_________________________________________________________________\n",
            "dense_2 (Dense)              (None, 64)                8256      \n",
            "_________________________________________________________________\n",
            "dense_3 (Dense)              (None, 1)                 65        \n",
            "=================================================================\n",
            "Total params: 598,209\n",
            "Trainable params: 598,209\n",
            "Non-trainable params: 0\n",
            "_________________________________________________________________\n"
          ],
          "name": "stdout"
        }
      ]
    },
    {
      "cell_type": "markdown",
      "metadata": {
        "id": "YaSQeOaksLxU",
        "colab_type": "text"
      },
      "source": [
        "**Embeding layer**\n",
        "\n",
        "\n",
        "\n",
        "**LSTM layer**\n",
        "\n",
        "Cell: 64 x 64 + 64 x 64 (weights) + 64 (biases) = 8,256 parameters\n",
        "\n",
        "Update gate: 64 x 64 + 64 x 64 (weights) + 64 (biases) = 8,256 parameters\n",
        "\n",
        "Forget gate: 64 x 64 + 64 x 64 (weights) + 64 (biases) = 8,256 parameters\n",
        "\n",
        "Output gate: 64 x 64 + 64 x 64 (weights) + 64 (biases) = 8,256 parameters\n",
        "\n",
        "**Bidirectional**\n",
        "\n",
        "Forward LSTM: 33,024 parameters\n",
        "\n",
        "Backward LSTM: 33,024 parameters\n",
        "\n",
        "Total: 66,048 parameters\n",
        "\n",
        "**FC layer**\n",
        "\n",
        "The bidirectional layer outputs two activationn vectors, one for the forward LSTM and one for the backward LTSM, that gives us 128 activation units.\n",
        "\n",
        "64 * 128 weigths + 64 biases = 8,256 parameters\n",
        "\n",
        "**Dense classifier layer**\n",
        "\n",
        "1 * 64 weights + 1 bias = 64 parameters"
      ]
    },
    {
      "cell_type": "code",
      "metadata": {
        "id": "ATv2qeHDS2Jt",
        "colab_type": "code",
        "colab": {
          "base_uri": "https://localhost:8080/",
          "height": 323
        },
        "outputId": "610c9401-df4c-4812-b104-82d837a28964"
      },
      "source": [
        "model_v3 = tf.keras.Sequential([\n",
        "    tf.keras.layers.Embedding(encoder.vocab_size, 64),\n",
        "    tf.keras.layers.Bidirectional(tf.keras.layers.LSTM(64, return_sequences=True)),\n",
        "    tf.keras.layers.Bidirectional(tf.keras.layers.LSTM(64, return_sequences=False)),\n",
        "    tf.keras.layers.Dense(64, activation='relu'),\n",
        "    tf.keras.layers.Dense(1, activation='sigmoid')\n",
        "])\n",
        "\n",
        "model_v3.summary()"
      ],
      "execution_count": 8,
      "outputs": [
        {
          "output_type": "stream",
          "text": [
            "Model: \"sequential_2\"\n",
            "_________________________________________________________________\n",
            "Layer (type)                 Output Shape              Param #   \n",
            "=================================================================\n",
            "embedding_2 (Embedding)      (None, None, 64)          523840    \n",
            "_________________________________________________________________\n",
            "bidirectional_1 (Bidirection (None, None, 128)         66048     \n",
            "_________________________________________________________________\n",
            "bidirectional_2 (Bidirection (None, 128)               98816     \n",
            "_________________________________________________________________\n",
            "dense_4 (Dense)              (None, 64)                8256      \n",
            "_________________________________________________________________\n",
            "dense_5 (Dense)              (None, 1)                 65        \n",
            "=================================================================\n",
            "Total params: 697,025\n",
            "Trainable params: 697,025\n",
            "Non-trainable params: 0\n",
            "_________________________________________________________________\n"
          ],
          "name": "stdout"
        }
      ]
    },
    {
      "cell_type": "markdown",
      "metadata": {
        "id": "Ld5naDmHm04x",
        "colab_type": "text"
      },
      "source": [
        "## Training Our RNNs"
      ]
    },
    {
      "cell_type": "code",
      "metadata": {
        "id": "nPhqww6RoTtC",
        "colab_type": "code",
        "colab": {}
      },
      "source": [
        "EPOCHS = 10\n",
        "VAL_STEPS = 30\n",
        "results = {}"
      ],
      "execution_count": 0,
      "outputs": []
    },
    {
      "cell_type": "code",
      "metadata": {
        "id": "5iDK4BwcnAVr",
        "colab_type": "code",
        "colab": {
          "base_uri": "https://localhost:8080/",
          "height": 377
        },
        "outputId": "aa065369-334c-42eb-9ad4-c817c0fe280c"
      },
      "source": [
        "model_v1.compile(loss='binary_crossentropy',\n",
        "                 optimizer=tf.keras.optimizers.Adam(1e-4),\n",
        "                 metrics=['accuracy'])\n",
        "\n",
        "results['v1'] = model_v1.fit(train_batches, epochs=EPOCHS,\n",
        "                             validation_data=validation_batches,\n",
        "                             validation_steps=VAL_STEPS)"
      ],
      "execution_count": 10,
      "outputs": [
        {
          "output_type": "stream",
          "text": [
            "Epoch 1/10\n",
            "625/625 [==============================] - 43s 69ms/step - loss: 0.6931 - accuracy: 0.5023 - val_loss: 0.6932 - val_accuracy: 0.4865\n",
            "Epoch 2/10\n",
            "625/625 [==============================] - 34s 54ms/step - loss: 0.6931 - accuracy: 0.5048 - val_loss: 0.6934 - val_accuracy: 0.4865\n",
            "Epoch 3/10\n",
            "625/625 [==============================] - 34s 54ms/step - loss: 0.6928 - accuracy: 0.5066 - val_loss: 0.6935 - val_accuracy: 0.5115\n",
            "Epoch 4/10\n",
            "625/625 [==============================] - 34s 55ms/step - loss: 0.6916 - accuracy: 0.5039 - val_loss: 0.6941 - val_accuracy: 0.4865\n",
            "Epoch 5/10\n",
            "625/625 [==============================] - 34s 55ms/step - loss: 0.6890 - accuracy: 0.5097 - val_loss: 0.6940 - val_accuracy: 0.4885\n",
            "Epoch 6/10\n",
            "625/625 [==============================] - 34s 55ms/step - loss: 0.6844 - accuracy: 0.5148 - val_loss: 0.6913 - val_accuracy: 0.4917\n",
            "Epoch 7/10\n",
            "625/625 [==============================] - 34s 54ms/step - loss: 0.6810 - accuracy: 0.5166 - val_loss: 0.6905 - val_accuracy: 0.4938\n",
            "Epoch 8/10\n",
            "625/625 [==============================] - 34s 55ms/step - loss: 0.6793 - accuracy: 0.5155 - val_loss: 0.6927 - val_accuracy: 0.4885\n",
            "Epoch 9/10\n",
            "625/625 [==============================] - 34s 54ms/step - loss: 0.6788 - accuracy: 0.5177 - val_loss: 0.6928 - val_accuracy: 0.4948\n",
            "Epoch 10/10\n",
            "625/625 [==============================] - 34s 54ms/step - loss: 0.6753 - accuracy: 0.5213 - val_loss: 0.6942 - val_accuracy: 0.4958\n"
          ],
          "name": "stdout"
        }
      ]
    },
    {
      "cell_type": "code",
      "metadata": {
        "id": "6dZEB3n3Ra4V",
        "colab_type": "code",
        "colab": {
          "base_uri": "https://localhost:8080/",
          "height": 51
        },
        "outputId": "d6cf3b58-9183-4735-b621-0bde0c513899"
      },
      "source": [
        "test_loss, test_accuracy = model_v1.evaluate(test_batches, verbose=0)\n",
        "\n",
        "print('Test Loss: {}'.format(test_loss))\n",
        "print('Test Accuracy: {}'.format(test_accuracy))"
      ],
      "execution_count": 11,
      "outputs": [
        {
          "output_type": "stream",
          "text": [
            "Test Loss: 0.6931630216748513\n",
            "Test Accuracy: 0.5111200213432312\n"
          ],
          "name": "stdout"
        }
      ]
    },
    {
      "cell_type": "code",
      "metadata": {
        "id": "FroL56-EP8XD",
        "colab_type": "code",
        "colab": {
          "base_uri": "https://localhost:8080/",
          "height": 377
        },
        "outputId": "b51a762e-0a63-4da9-af60-937ca8ce69b1"
      },
      "source": [
        "model_v2.compile(loss='binary_crossentropy',\n",
        "              optimizer=tf.keras.optimizers.Adam(1e-4),\n",
        "              metrics=['accuracy'])\n",
        "\n",
        "results['v2'] = model_v2.fit(train_batches, epochs=EPOCHS,\n",
        "                             validation_data=validation_batches,\n",
        "                             validation_steps=VAL_STEPS)"
      ],
      "execution_count": 12,
      "outputs": [
        {
          "output_type": "stream",
          "text": [
            "Epoch 1/10\n",
            "625/625 [==============================] - 58s 93ms/step - loss: 0.6045 - accuracy: 0.6488 - val_loss: 0.3723 - val_accuracy: 0.8458\n",
            "Epoch 2/10\n",
            "625/625 [==============================] - 55s 89ms/step - loss: 0.3129 - accuracy: 0.8748 - val_loss: 0.2854 - val_accuracy: 0.8771\n",
            "Epoch 3/10\n",
            "625/625 [==============================] - 56s 90ms/step - loss: 0.2336 - accuracy: 0.9146 - val_loss: 0.2819 - val_accuracy: 0.8844\n",
            "Epoch 4/10\n",
            "625/625 [==============================] - 56s 90ms/step - loss: 0.2045 - accuracy: 0.9284 - val_loss: 0.3589 - val_accuracy: 0.8354\n",
            "Epoch 5/10\n",
            "625/625 [==============================] - 58s 92ms/step - loss: 0.1736 - accuracy: 0.9391 - val_loss: 0.3077 - val_accuracy: 0.8771\n",
            "Epoch 6/10\n",
            "625/625 [==============================] - 57s 90ms/step - loss: 0.1418 - accuracy: 0.9528 - val_loss: 0.3301 - val_accuracy: 0.8719\n",
            "Epoch 7/10\n",
            "625/625 [==============================] - 56s 90ms/step - loss: 0.1283 - accuracy: 0.9600 - val_loss: 0.3810 - val_accuracy: 0.8823\n",
            "Epoch 8/10\n",
            "625/625 [==============================] - 57s 90ms/step - loss: 0.1115 - accuracy: 0.9658 - val_loss: 0.3554 - val_accuracy: 0.8760\n",
            "Epoch 9/10\n",
            "625/625 [==============================] - 57s 91ms/step - loss: 0.1017 - accuracy: 0.9699 - val_loss: 0.4054 - val_accuracy: 0.8750\n",
            "Epoch 10/10\n",
            "625/625 [==============================] - 57s 92ms/step - loss: 0.1128 - accuracy: 0.9640 - val_loss: 0.4109 - val_accuracy: 0.8792\n"
          ],
          "name": "stdout"
        }
      ]
    },
    {
      "cell_type": "code",
      "metadata": {
        "colab_type": "code",
        "id": "nN_JAIl1r1Yb",
        "colab": {
          "base_uri": "https://localhost:8080/",
          "height": 51
        },
        "outputId": "d206aa91-fa27-4bc2-e021-8450f7131974"
      },
      "source": [
        "test_loss, test_accuracy = model_v2.evaluate(test_batches, verbose=0)\n",
        "\n",
        "print('Test Loss: {}'.format(test_loss))\n",
        "print('Test Accuracy: {}'.format(test_accuracy))"
      ],
      "execution_count": 13,
      "outputs": [
        {
          "output_type": "stream",
          "text": [
            "Test Loss: 0.5050588227960917\n",
            "Test Accuracy: 0.8480799794197083\n"
          ],
          "name": "stdout"
        }
      ]
    },
    {
      "cell_type": "code",
      "metadata": {
        "id": "ndsdSbe5QyQP",
        "colab_type": "code",
        "colab": {
          "base_uri": "https://localhost:8080/",
          "height": 377
        },
        "outputId": "dc52a7b8-df36-4e70-daf8-c2fc3261b4f4"
      },
      "source": [
        "model_v3.compile(loss='binary_crossentropy',\n",
        "              optimizer=tf.keras.optimizers.Adam(1e-4),\n",
        "              metrics=['accuracy'])\n",
        "\n",
        "results['v3'] = model_v3.fit(train_batches, epochs=EPOCHS,\n",
        "                             validation_data=validation_batches,\n",
        "                             validation_steps=VAL_STEPS)"
      ],
      "execution_count": 14,
      "outputs": [
        {
          "output_type": "stream",
          "text": [
            "Epoch 1/10\n",
            "625/625 [==============================] - 106s 169ms/step - loss: 0.5851 - accuracy: 0.6605 - val_loss: 0.4403 - val_accuracy: 0.7896\n",
            "Epoch 2/10\n",
            "625/625 [==============================] - 100s 161ms/step - loss: 0.3528 - accuracy: 0.8543 - val_loss: 0.3818 - val_accuracy: 0.8344\n",
            "Epoch 3/10\n",
            "625/625 [==============================] - 102s 163ms/step - loss: 0.3170 - accuracy: 0.8780 - val_loss: 0.3772 - val_accuracy: 0.8417\n",
            "Epoch 4/10\n",
            "625/625 [==============================] - 102s 164ms/step - loss: 0.2238 - accuracy: 0.9212 - val_loss: 0.3235 - val_accuracy: 0.8677\n",
            "Epoch 5/10\n",
            "625/625 [==============================] - 102s 163ms/step - loss: 0.1771 - accuracy: 0.9430 - val_loss: 0.3713 - val_accuracy: 0.8573\n",
            "Epoch 6/10\n",
            "625/625 [==============================] - 101s 162ms/step - loss: 0.1547 - accuracy: 0.9520 - val_loss: 0.3782 - val_accuracy: 0.8740\n",
            "Epoch 7/10\n",
            "625/625 [==============================] - 101s 162ms/step - loss: 0.1335 - accuracy: 0.9604 - val_loss: 0.3760 - val_accuracy: 0.8708\n",
            "Epoch 8/10\n",
            "625/625 [==============================] - 102s 162ms/step - loss: 0.1140 - accuracy: 0.9690 - val_loss: 0.4328 - val_accuracy: 0.8625\n",
            "Epoch 9/10\n",
            "625/625 [==============================] - 101s 162ms/step - loss: 0.1024 - accuracy: 0.9712 - val_loss: 0.4203 - val_accuracy: 0.8604\n",
            "Epoch 10/10\n",
            "625/625 [==============================] - 101s 162ms/step - loss: 0.0873 - accuracy: 0.9777 - val_loss: 0.4321 - val_accuracy: 0.8573\n"
          ],
          "name": "stdout"
        }
      ]
    },
    {
      "cell_type": "code",
      "metadata": {
        "colab_type": "code",
        "id": "HpyWDFJ3r4GX",
        "colab": {
          "base_uri": "https://localhost:8080/",
          "height": 51
        },
        "outputId": "5467a9ef-55e7-47a6-81f5-5499502e6cf5"
      },
      "source": [
        "test_loss, test_accuracy = model_v3.evaluate(test_batches, verbose=0)\n",
        "\n",
        "print('Test Loss: {}'.format(test_loss))\n",
        "print('Test Accuracy: {}'.format(test_accuracy))"
      ],
      "execution_count": 15,
      "outputs": [
        {
          "output_type": "stream",
          "text": [
            "Test Loss: 0.499510610504719\n",
            "Test Accuracy: 0.8415200114250183\n"
          ],
          "name": "stdout"
        }
      ]
    },
    {
      "cell_type": "code",
      "metadata": {
        "id": "pXxx3IUiZiGZ",
        "colab_type": "code",
        "colab": {}
      },
      "source": [
        "import matplotlib.pyplot as plt\n",
        "\n",
        "def plot_stats(training_results):\n",
        "\n",
        "    training_dict = training_results.history\n",
        "\n",
        "    acc = training_dict['accuracy']\n",
        "    val_acc = training_dict['val_accuracy']\n",
        "    loss = training_dict['loss']\n",
        "    val_loss = training_dict['val_loss']\n",
        "\n",
        "    epochs = range(1, EPOCHS + 1)\n",
        "\n",
        "    plt.plot(epochs, loss, 'r', label='Training loss')\n",
        "    plt.plot(epochs, val_loss, 'b', label='Validation loss')\n",
        "    plt.title('Training and validation loss')\n",
        "    plt.xlabel('Epochs')\n",
        "    plt.ylabel('Loss')\n",
        "    plt.legend()\n",
        "\n",
        "    plt.figure()\n",
        "\n",
        "    plt.plot(epochs, acc, 'r', label='Training accuracy')\n",
        "    plt.plot(epochs, val_acc, 'b', label='Validation accuracy')\n",
        "    plt.title('Training and validation accuracy')\n",
        "    plt.xlabel('Epochs')\n",
        "    plt.ylabel('Accuracy')\n",
        "    plt.legend()\n",
        "\n",
        "    plt.show()"
      ],
      "execution_count": 0,
      "outputs": []
    },
    {
      "cell_type": "code",
      "metadata": {
        "id": "W8dT3ACVsgq1",
        "colab_type": "code",
        "colab": {
          "base_uri": "https://localhost:8080/",
          "height": 573
        },
        "outputId": "95bdb188-86b1-40b9-a8be-0711f5c51930"
      },
      "source": [
        "plot_stats(results['v1'])"
      ],
      "execution_count": 17,
      "outputs": [
        {
          "output_type": "display_data",
          "data": {
            "image/png": "[encoded data removed]",
            "text/plain": [
              "<Figure size 432x288 with 1 Axes>"
            ]
          },
          "metadata": {
            "tags": []
          }
        },
        {
          "output_type": "display_data",
          "data": {
            "image/png": "[encoded data removed]",
            "text/plain": [
              "<Figure size 432x288 with 1 Axes>"
            ]
          },
          "metadata": {
            "tags": []
          }
        }
      ]
    },
    {
      "cell_type": "code",
      "metadata": {
        "id": "zkStNtdNskng",
        "colab_type": "code",
        "colab": {
          "base_uri": "https://localhost:8080/",
          "height": 573
        },
        "outputId": "fbef60ee-a35f-4ced-d89a-7c48291e3a58"
      },
      "source": [
        "plot_stats(results['v2'])"
      ],
      "execution_count": 18,
      "outputs": [
        {
          "output_type": "display_data",
          "data": {
            "image/png": "[encoded data removed]",
            "text/plain": [
              "<Figure size 432x288 with 1 Axes>"
            ]
          },
          "metadata": {
            "tags": []
          }
        },
        {
          "output_type": "display_data",
          "data": {
            "image/png": "[encoded data removed]",
            "text/plain": [
              "<Figure size 432x288 with 1 Axes>"
            ]
          },
          "metadata": {
            "tags": []
          }
        }
      ]
    },
    {
      "cell_type": "code",
      "metadata": {
        "id": "dtc0Du05snU9",
        "colab_type": "code",
        "colab": {
          "base_uri": "https://localhost:8080/",
          "height": 573
        },
        "outputId": "f1abac80-3a3b-40c0-8f28-ace129274be3"
      },
      "source": [
        "plot_stats(results['v3'])"
      ],
      "execution_count": 19,
      "outputs": [
        {
          "output_type": "display_data",
          "data": {
            "image/png": "[encoded data removed]",
            "text/plain": [
              "<Figure size 432x288 with 1 Axes>"
            ]
          },
          "metadata": {
            "tags": []
          }
        },
        {
          "output_type": "display_data",
          "data": {
            "image/png": "[encoded data removed]",
            "text/plain": [
              "<Figure size 432x288 with 1 Axes>"
            ]
          },
          "metadata": {
            "tags": []
          }
        }
      ]
    }
  ]
}