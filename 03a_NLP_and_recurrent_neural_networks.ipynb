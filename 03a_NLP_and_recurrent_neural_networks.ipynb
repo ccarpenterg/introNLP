{
  "nbformat": 4,
  "nbformat_minor": 0,
  "metadata": {
    "colab": {
      "name": "03a_NLP_and_recurrent_neural_networks.ipynb",
      "provenance": [],
      "toc_visible": true,
      "authorship_tag": "ABX9TyN6qBp/r2Gt27BsTK2G1lpK",
      "include_colab_link": true
    },
    "kernelspec": {
      "name": "python3",
      "display_name": "Python 3"
    },
    "accelerator": "GPU"
  },
  "cells": [
    {
      "cell_type": "markdown",
      "metadata": {
        "id": "view-in-github",
        "colab_type": "text"
      },
      "source": [
        "<a href=\"https://colab.research.google.com/github/ccarpenterg/introNLP/blob/master/03a_NLP_and_recurrent_neural_networks.ipynb\" target=\"_parent\"><img src=\"https://colab.research.google.com/assets/colab-badge.svg\" alt=\"Open In Colab\"/></a>"
      ]
    },
    {
      "cell_type": "markdown",
      "metadata": {
        "id": "xAJlYbWTNvHd",
        "colab_type": "text"
      },
      "source": [
        "# NLP and Recurrent Neural Networks\n",
        "\n",
        "In the previous notebooks we used a deep neural network for classifying the IMDB movie reviews. But we had to resort to a trick: turning a sequence of vectors into a vector of fixed-length.\n",
        "\n",
        "The present notebook introduces the recurrent neural networks, also known as RNNs. Recurrent neural networks have the ability to process sequences of variable length and eventually learn representations capturing the dependencies between the sequence's elements.\n",
        "\n",
        "Formally $ X $ is a sequence of length $ T $ where $ X = \\{x^{(1)}, x^{(2)},..., x^{(T)} \\} $ and $ x_t \\in \\mathbb{R}^n $ is a vector input at time  $t$."
      ]
    },
    {
      "cell_type": "markdown",
      "metadata": {
        "id": "XkUbHR3MwYrE",
        "colab_type": "text"
      },
      "source": [
        "![RNN](https://user-images.githubusercontent.com/114733/78402628-48e80000-75d1-11ea-9620-286a3906a485.jpg)"
      ]
    },
    {
      "cell_type": "markdown",
      "metadata": {
        "id": "OAfH4Q25XWaj",
        "colab_type": "text"
      },
      "source": [
        "## Sentiment Analysis of IMDB Movie Reviews"
      ]
    },
    {
      "cell_type": "markdown",
      "metadata": {
        "id": "1gTTpOYdxarr",
        "colab_type": "text"
      },
      "source": [
        "### Setting up the Training Environment"
      ]
    },
    {
      "cell_type": "code",
      "metadata": {
        "id": "VEoygbPG9tEF",
        "colab_type": "code",
        "colab": {}
      },
      "source": [
        "!pip install -q tensorflow-datasets==1.3.2"
      ],
      "execution_count": 0,
      "outputs": []
    },
    {
      "cell_type": "code",
      "metadata": {
        "id": "8sXrfA8cNfJA",
        "colab_type": "code",
        "outputId": "8e956e22-28f8-473a-c5d0-9107ee35b8cb",
        "colab": {
          "base_uri": "https://localhost:8080/",
          "height": 51
        }
      },
      "source": [
        "# load Tensorflow 2\n",
        "%tensorflow_version 2.x\n",
        "import tensorflow as tf\n",
        "\n",
        "from tensorflow import keras\n",
        "from tensorflow.keras import regularizers\n",
        "\n",
        "import tensorflow_datasets as tfds\n",
        "import numpy as np\n",
        "\n",
        "print(\"Tensorflow version:\", tf.__version__)\n",
        "print(\"Tensorflow datasets version:\", tfds.__version__)"
      ],
      "execution_count": 0,
      "outputs": [
        {
          "output_type": "stream",
          "text": [
            "Tensorflow version: 2.1.0\n",
            "Tensorflow datasets version: 1.3.2\n"
          ],
          "name": "stdout"
        }
      ]
    },
    {
      "cell_type": "markdown",
      "metadata": {
        "id": "Q26a9bfXxhqi",
        "colab_type": "text"
      },
      "source": [
        "### IMDB Movie Reviews Dataset"
      ]
    },
    {
      "cell_type": "code",
      "metadata": {
        "id": "OfcdpXg0OYRR",
        "colab_type": "code",
        "colab": {}
      },
      "source": [
        "train_validation_split = tfds.Split.TRAIN.subsplit([8, 2])\n",
        "\n",
        "(train_validation_data, test_data), info = tfds.load(\n",
        "    'imdb_reviews/subwords8k',\n",
        "    split = (train_validation_split, tfds.Split.TEST),\n",
        "    as_supervised=True,\n",
        "    with_info=True\n",
        ")\n",
        "\n",
        "train_data, validation_data = train_validation_data"
      ],
      "execution_count": 0,
      "outputs": []
    },
    {
      "cell_type": "code",
      "metadata": {
        "id": "zjac4DW_PTZ0",
        "colab_type": "code",
        "colab": {}
      },
      "source": [
        "encoder = info.features['text'].encoder"
      ],
      "execution_count": 0,
      "outputs": []
    },
    {
      "cell_type": "markdown",
      "metadata": {
        "id": "qUa7saWHX6E8",
        "colab_type": "text"
      },
      "source": [
        "## Preprocessing the Dataset with Padding"
      ]
    },
    {
      "cell_type": "code",
      "metadata": {
        "id": "8d8VVXDBnKa5",
        "colab_type": "code",
        "colab": {}
      },
      "source": [
        "BUFFER_SIZE = 5000\n",
        "BATCH_SIZE = 32\n",
        "\n",
        "train_batches = (\n",
        "    train_data\n",
        "    .shuffle(BUFFER_SIZE)\n",
        "    .padded_batch(BATCH_SIZE, tf.compat.v1.data.get_output_shapes(train_data))\n",
        ")\n",
        "\n",
        "validation_batches = (\n",
        "    validation_data\n",
        "    .padded_batch(BATCH_SIZE, tf.compat.v1.data.get_output_shapes(validation_data))\n",
        ")\n",
        "\n",
        "test_batches = (\n",
        "    test_data\n",
        "    .padded_batch(BATCH_SIZE, tf.compat.v1.data.get_output_shapes(test_data))\n",
        ")"
      ],
      "execution_count": 0,
      "outputs": []
    },
    {
      "cell_type": "code",
      "metadata": {
        "id": "kaNuisK1sCcY",
        "colab_type": "code",
        "outputId": "ce4584c3-f613-4479-def4-9ff607feba0c",
        "colab": {
          "base_uri": "https://localhost:8080/",
          "height": 85
        }
      },
      "source": [
        "for batch_example, labels in train_batches.take(2):\n",
        "    print(\"Batch shape:\", batch_example.shape)\n",
        "    print(\"Labels shape:\", labels.shape)"
      ],
      "execution_count": 0,
      "outputs": [
        {
          "output_type": "stream",
          "text": [
            "Batch shape: (32, 1547)\n",
            "Labels shape: (32,)\n",
            "Batch shape: (32, 1572)\n",
            "Labels shape: (32,)\n"
          ],
          "name": "stdout"
        }
      ]
    },
    {
      "cell_type": "markdown",
      "metadata": {
        "id": "xe01nULVYB84",
        "colab_type": "text"
      },
      "source": [
        "## Sequence Processing with a Recurrent Neural Network"
      ]
    },
    {
      "cell_type": "code",
      "metadata": {
        "id": "bLfbgtWLPqun",
        "colab_type": "code",
        "colab": {}
      },
      "source": [
        "LAMBDA = 0.01"
      ],
      "execution_count": 0,
      "outputs": []
    },
    {
      "cell_type": "markdown",
      "metadata": {
        "id": "vskX3mW2-Il9",
        "colab_type": "text"
      },
      "source": [
        "### Model 1: SubWord Embedding, 1 LSTM layer, 1 FC layer"
      ]
    },
    {
      "cell_type": "code",
      "metadata": {
        "id": "QDNauQFibOUE",
        "colab_type": "code",
        "outputId": "54568031-544c-4b52-8497-e8cd3b84922c",
        "colab": {
          "base_uri": "https://localhost:8080/",
          "height": 289
        }
      },
      "source": [
        "model_v1 = tf.keras.Sequential([\n",
        "    tf.keras.layers.Embedding(encoder.vocab_size, 64),\n",
        "    tf.keras.layers.LSTM(64, return_sequences=False),\n",
        "    tf.keras.layers.Dense(\n",
        "        units=64,\n",
        "        activation='relu',\n",
        "        kernel_regularizer=regularizers.l2(LAMBDA),\n",
        "        bias_regularizer=regularizers.l2(LAMBDA)\n",
        "    ),\n",
        "    tf.keras.layers.Dense(\n",
        "        units=1,\n",
        "        activation='sigmoid',\n",
        "        kernel_regularizer=regularizers.l2(LAMBDA),\n",
        "        bias_regularizer=regularizers.l2(LAMBDA)\n",
        "    )\n",
        "])\n",
        "\n",
        "model_v1.summary()"
      ],
      "execution_count": 0,
      "outputs": [
        {
          "output_type": "stream",
          "text": [
            "Model: \"sequential\"\n",
            "_________________________________________________________________\n",
            "Layer (type)                 Output Shape              Param #   \n",
            "=================================================================\n",
            "embedding (Embedding)        (None, None, 64)          523840    \n",
            "_________________________________________________________________\n",
            "lstm (LSTM)                  (None, 64)                33024     \n",
            "_________________________________________________________________\n",
            "dense (Dense)                (None, 64)                4160      \n",
            "_________________________________________________________________\n",
            "dense_1 (Dense)              (None, 1)                 65        \n",
            "=================================================================\n",
            "Total params: 561,089\n",
            "Trainable params: 561,089\n",
            "Non-trainable params: 0\n",
            "_________________________________________________________________\n"
          ],
          "name": "stdout"
        }
      ]
    },
    {
      "cell_type": "markdown",
      "metadata": {
        "id": "DwnQ0ndz-qmI",
        "colab_type": "text"
      },
      "source": [
        "### Model 2: SubWord Embedding, 1 Bidirectional LSTM layer, 1 FC layer"
      ]
    },
    {
      "cell_type": "code",
      "metadata": {
        "id": "kF5tNlgJPZZI",
        "colab_type": "code",
        "outputId": "bcfd9c24-234d-4974-8d0c-f0fe023d9064",
        "colab": {
          "base_uri": "https://localhost:8080/",
          "height": 289
        }
      },
      "source": [
        "model_v2 = tf.keras.Sequential([\n",
        "    tf.keras.layers.Embedding(encoder.vocab_size, 64),\n",
        "    tf.keras.layers.Bidirectional(tf.keras.layers.LSTM(64)),\n",
        "    tf.keras.layers.Dense(\n",
        "        units=64,\n",
        "        activation='relu',\n",
        "        kernel_regularizer=regularizers.l2(LAMBDA),\n",
        "        bias_regularizer=regularizers.l2(LAMBDA)\n",
        "    ),\n",
        "    tf.keras.layers.Dense(\n",
        "        units=1,\n",
        "        activation='sigmoid',\n",
        "        kernel_regularizer=regularizers.l2(LAMBDA),\n",
        "        bias_regularizer=regularizers.l2(LAMBDA)\n",
        "    )\n",
        "])\n",
        "\n",
        "model_v2.summary()"
      ],
      "execution_count": 0,
      "outputs": [
        {
          "output_type": "stream",
          "text": [
            "Model: \"sequential_1\"\n",
            "_________________________________________________________________\n",
            "Layer (type)                 Output Shape              Param #   \n",
            "=================================================================\n",
            "embedding_1 (Embedding)      (None, None, 64)          523840    \n",
            "_________________________________________________________________\n",
            "bidirectional (Bidirectional (None, 128)               66048     \n",
            "_________________________________________________________________\n",
            "dense_2 (Dense)              (None, 64)                8256      \n",
            "_________________________________________________________________\n",
            "dense_3 (Dense)              (None, 1)                 65        \n",
            "=================================================================\n",
            "Total params: 598,209\n",
            "Trainable params: 598,209\n",
            "Non-trainable params: 0\n",
            "_________________________________________________________________\n"
          ],
          "name": "stdout"
        }
      ]
    },
    {
      "cell_type": "markdown",
      "metadata": {
        "id": "YaSQeOaksLxU",
        "colab_type": "text"
      },
      "source": [
        "**Embeding layer**\n",
        "\n",
        "\n",
        "\n",
        "**LSTM layer**\n",
        "\n",
        "Cell: 64 x 64 + 64 x 64 (weights) + 64 (biases) = 8,256 parameters\n",
        "\n",
        "Update gate: 64 x 64 + 64 x 64 (weights) + 64 (biases) = 8,256 parameters\n",
        "\n",
        "Forget gate: 64 x 64 + 64 x 64 (weights) + 64 (biases) = 8,256 parameters\n",
        "\n",
        "Output gate: 64 x 64 + 64 x 64 (weights) + 64 (biases) = 8,256 parameters\n",
        "\n",
        "**Bidirectional**\n",
        "\n",
        "Forward LSTM: 33,024 parameters\n",
        "\n",
        "Backward LSTM: 33,024 parameters\n",
        "\n",
        "Total: 66,048 parameters\n",
        "\n",
        "**FC layer**\n",
        "\n",
        "The bidirectional layer outputs two activationn vectors, one for the forward LSTM and one for the backward LTSM, that gives us 128 activation units.\n",
        "\n",
        "64 * 128 weigths + 64 biases = 8,256 parameters\n",
        "\n",
        "**Dense classifier layer**\n",
        "\n",
        "1 * 64 weights + 1 bias = 64 parameters"
      ]
    },
    {
      "cell_type": "markdown",
      "metadata": {
        "id": "urCQ6Ma1-89q",
        "colab_type": "text"
      },
      "source": [
        "### Model 3: SubWord Embedding, 2 Bidirectional LSTM layers, 1 FC layer"
      ]
    },
    {
      "cell_type": "code",
      "metadata": {
        "id": "ATv2qeHDS2Jt",
        "colab_type": "code",
        "outputId": "de0e3d49-c165-43d7-bdad-9445f15d01bf",
        "colab": {
          "base_uri": "https://localhost:8080/",
          "height": 323
        }
      },
      "source": [
        "model_v3 = tf.keras.Sequential([\n",
        "    tf.keras.layers.Embedding(encoder.vocab_size, 64),\n",
        "    tf.keras.layers.Bidirectional(tf.keras.layers.LSTM(64, return_sequences=True)),\n",
        "    tf.keras.layers.Bidirectional(tf.keras.layers.LSTM(64, return_sequences=False)),\n",
        "    tf.keras.layers.Dense(\n",
        "        units=64,\n",
        "        activation='relu',\n",
        "        kernel_regularizer=regularizers.l2(LAMBDA),\n",
        "        bias_regularizer=regularizers.l2(LAMBDA)\n",
        "    ),\n",
        "    tf.keras.layers.Dense(\n",
        "        units=1,\n",
        "        activation='sigmoid',\n",
        "        kernel_regularizer=regularizers.l2(LAMBDA),\n",
        "        bias_regularizer=regularizers.l2(LAMBDA)\n",
        "    )\n",
        "])\n",
        "\n",
        "model_v3.summary()"
      ],
      "execution_count": 0,
      "outputs": [
        {
          "output_type": "stream",
          "text": [
            "Model: \"sequential_2\"\n",
            "_________________________________________________________________\n",
            "Layer (type)                 Output Shape              Param #   \n",
            "=================================================================\n",
            "embedding_2 (Embedding)      (None, None, 64)          523840    \n",
            "_________________________________________________________________\n",
            "bidirectional_1 (Bidirection (None, None, 128)         66048     \n",
            "_________________________________________________________________\n",
            "bidirectional_2 (Bidirection (None, 128)               98816     \n",
            "_________________________________________________________________\n",
            "dense_4 (Dense)              (None, 64)                8256      \n",
            "_________________________________________________________________\n",
            "dense_5 (Dense)              (None, 1)                 65        \n",
            "=================================================================\n",
            "Total params: 697,025\n",
            "Trainable params: 697,025\n",
            "Non-trainable params: 0\n",
            "_________________________________________________________________\n"
          ],
          "name": "stdout"
        }
      ]
    },
    {
      "cell_type": "markdown",
      "metadata": {
        "id": "wrEDcwxs_hiO",
        "colab_type": "text"
      },
      "source": [
        "### Model 4: SubWord Embedding, 2 Bidirectional LSTM layers, 1 Global Average Poling (hidden states), 1 FC layer"
      ]
    },
    {
      "cell_type": "code",
      "metadata": {
        "id": "PuxFVq13_1N-",
        "colab_type": "code",
        "outputId": "057da37f-48d0-4be5-c2a5-241e26219b5a",
        "colab": {
          "base_uri": "https://localhost:8080/",
          "height": 323
        }
      },
      "source": [
        "model_v4 = tf.keras.Sequential([\n",
        "    tf.keras.layers.Embedding(encoder.vocab_size, 64),\n",
        "    tf.keras.layers.Bidirectional(tf.keras.layers.LSTM(64, return_sequences=True)),\n",
        "    tf.keras.layers.Bidirectional(tf.keras.layers.LSTM(64, return_sequences=True)),\n",
        "    tf.keras.layers.GlobalAveragePooling1D(),\n",
        "    tf.keras.layers.Dense(\n",
        "        units=1,\n",
        "        activation='sigmoid',\n",
        "        kernel_regularizer=regularizers.l2(LAMBDA),\n",
        "        bias_regularizer=regularizers.l2(LAMBDA)\n",
        "    )\n",
        "])\n",
        "\n",
        "model_v4.summary()"
      ],
      "execution_count": 0,
      "outputs": [
        {
          "output_type": "stream",
          "text": [
            "Model: \"sequential_3\"\n",
            "_________________________________________________________________\n",
            "Layer (type)                 Output Shape              Param #   \n",
            "=================================================================\n",
            "embedding_3 (Embedding)      (None, None, 64)          523840    \n",
            "_________________________________________________________________\n",
            "bidirectional_3 (Bidirection (None, None, 128)         66048     \n",
            "_________________________________________________________________\n",
            "bidirectional_4 (Bidirection (None, None, 128)         98816     \n",
            "_________________________________________________________________\n",
            "global_average_pooling1d (Gl (None, 128)               0         \n",
            "_________________________________________________________________\n",
            "dense_6 (Dense)              (None, 1)                 129       \n",
            "=================================================================\n",
            "Total params: 688,833\n",
            "Trainable params: 688,833\n",
            "Non-trainable params: 0\n",
            "_________________________________________________________________\n"
          ],
          "name": "stdout"
        }
      ]
    },
    {
      "cell_type": "markdown",
      "metadata": {
        "id": "Ld5naDmHm04x",
        "colab_type": "text"
      },
      "source": [
        "## Training the RNNs on the IMDB Reviews Dataset"
      ]
    },
    {
      "cell_type": "code",
      "metadata": {
        "id": "nPhqww6RoTtC",
        "colab_type": "code",
        "colab": {}
      },
      "source": [
        "EPOCHS = 10\n",
        "VAL_STEPS = 30\n",
        "results = {}"
      ],
      "execution_count": 0,
      "outputs": []
    },
    {
      "cell_type": "code",
      "metadata": {
        "id": "5iDK4BwcnAVr",
        "colab_type": "code",
        "outputId": "074afe1b-b553-4f5c-fff9-2ea8425b4527",
        "colab": {
          "base_uri": "https://localhost:8080/",
          "height": 377
        }
      },
      "source": [
        "model_v1.compile(loss='binary_crossentropy',\n",
        "                 optimizer=tf.keras.optimizers.Adam(1e-4),\n",
        "                 metrics=['accuracy'])\n",
        "\n",
        "results['v1'] = model_v1.fit(train_batches, epochs=EPOCHS,\n",
        "                             validation_data=validation_batches,\n",
        "                             validation_steps=VAL_STEPS)"
      ],
      "execution_count": 0,
      "outputs": [
        {
          "output_type": "stream",
          "text": [
            "Epoch 1/10\n",
            "625/625 [==============================] - 43s 69ms/step - loss: 1.1341 - accuracy: 0.5027 - val_loss: 0.9650 - val_accuracy: 0.4865\n",
            "Epoch 2/10\n",
            "625/625 [==============================] - 34s 55ms/step - loss: 0.8670 - accuracy: 0.5063 - val_loss: 0.7932 - val_accuracy: 0.4865\n",
            "Epoch 3/10\n",
            "625/625 [==============================] - 34s 54ms/step - loss: 0.7529 - accuracy: 0.5081 - val_loss: 0.7240 - val_accuracy: 0.4865\n",
            "Epoch 4/10\n",
            "625/625 [==============================] - 34s 54ms/step - loss: 0.7099 - accuracy: 0.5076 - val_loss: 0.7006 - val_accuracy: 0.4885\n",
            "Epoch 5/10\n",
            "625/625 [==============================] - 34s 54ms/step - loss: 0.6967 - accuracy: 0.5028 - val_loss: 0.6945 - val_accuracy: 0.4885\n",
            "Epoch 6/10\n",
            "625/625 [==============================] - 34s 54ms/step - loss: 0.6937 - accuracy: 0.5028 - val_loss: 0.6934 - val_accuracy: 0.4885\n",
            "Epoch 7/10\n",
            "625/625 [==============================] - 33s 53ms/step - loss: 0.6932 - accuracy: 0.5028 - val_loss: 0.6932 - val_accuracy: 0.4885\n",
            "Epoch 8/10\n",
            "625/625 [==============================] - 33s 54ms/step - loss: 0.6931 - accuracy: 0.5028 - val_loss: 0.6932 - val_accuracy: 0.4885\n",
            "Epoch 9/10\n",
            "625/625 [==============================] - 33s 53ms/step - loss: 0.6931 - accuracy: 0.5028 - val_loss: 0.6932 - val_accuracy: 0.4885\n",
            "Epoch 10/10\n",
            "625/625 [==============================] - 33s 53ms/step - loss: 0.6931 - accuracy: 0.5028 - val_loss: 0.6932 - val_accuracy: 0.4885\n"
          ],
          "name": "stdout"
        }
      ]
    },
    {
      "cell_type": "code",
      "metadata": {
        "id": "6dZEB3n3Ra4V",
        "colab_type": "code",
        "outputId": "75b453d7-d484-4165-d212-9e6b51db0210",
        "colab": {
          "base_uri": "https://localhost:8080/",
          "height": 51
        }
      },
      "source": [
        "test_loss, test_accuracy = model_v1.evaluate(test_batches, verbose=0)\n",
        "\n",
        "print('Test Loss: {}'.format(test_loss))\n",
        "print('Test Accuracy: {}'.format(test_accuracy))"
      ],
      "execution_count": 0,
      "outputs": [
        {
          "output_type": "stream",
          "text": [
            "Test Loss: 0.6931545062138297\n",
            "Test Accuracy: 0.5\n"
          ],
          "name": "stdout"
        }
      ]
    },
    {
      "cell_type": "code",
      "metadata": {
        "id": "FroL56-EP8XD",
        "colab_type": "code",
        "outputId": "b1c4d635-279f-4231-a474-fda61e393d01",
        "colab": {
          "base_uri": "https://localhost:8080/",
          "height": 377
        }
      },
      "source": [
        "model_v2.compile(loss='binary_crossentropy',\n",
        "              optimizer=tf.keras.optimizers.Adam(1e-4),\n",
        "              metrics=['accuracy'])\n",
        "\n",
        "results['v2'] = model_v2.fit(train_batches, epochs=EPOCHS,\n",
        "                             validation_data=validation_batches,\n",
        "                             validation_steps=VAL_STEPS)"
      ],
      "execution_count": 0,
      "outputs": [
        {
          "output_type": "stream",
          "text": [
            "Epoch 1/10\n",
            "625/625 [==============================] - 58s 92ms/step - loss: 1.2118 - accuracy: 0.5487 - val_loss: 0.9300 - val_accuracy: 0.6375\n",
            "Epoch 2/10\n",
            "625/625 [==============================] - 55s 88ms/step - loss: 0.6487 - accuracy: 0.8105 - val_loss: 0.6531 - val_accuracy: 0.7990\n",
            "Epoch 3/10\n",
            "625/625 [==============================] - 55s 89ms/step - loss: 0.4422 - accuracy: 0.8752 - val_loss: 0.3882 - val_accuracy: 0.8781\n",
            "Epoch 4/10\n",
            "625/625 [==============================] - 56s 89ms/step - loss: 0.3313 - accuracy: 0.9089 - val_loss: 0.3631 - val_accuracy: 0.8802\n",
            "Epoch 5/10\n",
            "625/625 [==============================] - 56s 89ms/step - loss: 0.2765 - accuracy: 0.9279 - val_loss: 0.3629 - val_accuracy: 0.8708\n",
            "Epoch 6/10\n",
            "625/625 [==============================] - 56s 90ms/step - loss: 0.2468 - accuracy: 0.9378 - val_loss: 0.3473 - val_accuracy: 0.8823\n",
            "Epoch 7/10\n",
            "625/625 [==============================] - 56s 90ms/step - loss: 0.2223 - accuracy: 0.9467 - val_loss: 0.3484 - val_accuracy: 0.8854\n",
            "Epoch 8/10\n",
            "625/625 [==============================] - 57s 91ms/step - loss: 0.2028 - accuracy: 0.9535 - val_loss: 0.3431 - val_accuracy: 0.8792\n",
            "Epoch 9/10\n",
            "625/625 [==============================] - 56s 89ms/step - loss: 0.1860 - accuracy: 0.9587 - val_loss: 0.3807 - val_accuracy: 0.8781\n",
            "Epoch 10/10\n",
            "625/625 [==============================] - 56s 89ms/step - loss: 0.1784 - accuracy: 0.9613 - val_loss: 0.4026 - val_accuracy: 0.8625\n"
          ],
          "name": "stdout"
        }
      ]
    },
    {
      "cell_type": "code",
      "metadata": {
        "colab_type": "code",
        "id": "nN_JAIl1r1Yb",
        "outputId": "ca207b8d-f0a3-42b9-b4f4-a0f9bb39d034",
        "colab": {
          "base_uri": "https://localhost:8080/",
          "height": 51
        }
      },
      "source": [
        "test_loss, test_accuracy = model_v2.evaluate(test_batches, verbose=0)\n",
        "\n",
        "print('Test Loss: {}'.format(test_loss))\n",
        "print('Test Accuracy: {}'.format(test_accuracy))"
      ],
      "execution_count": 0,
      "outputs": [
        {
          "output_type": "stream",
          "text": [
            "Test Loss: 0.43068612356434394\n",
            "Test Accuracy: 0.8588799834251404\n"
          ],
          "name": "stdout"
        }
      ]
    },
    {
      "cell_type": "code",
      "metadata": {
        "id": "ndsdSbe5QyQP",
        "colab_type": "code",
        "outputId": "9a762bae-6350-4b5c-a72c-445045c3196b",
        "colab": {
          "base_uri": "https://localhost:8080/",
          "height": 377
        }
      },
      "source": [
        "model_v3.compile(loss='binary_crossentropy',\n",
        "              optimizer=tf.keras.optimizers.Adam(1e-4),\n",
        "              metrics=['accuracy'])\n",
        "\n",
        "results['v3'] = model_v3.fit(train_batches, epochs=EPOCHS,\n",
        "                             validation_data=validation_batches,\n",
        "                             validation_steps=VAL_STEPS)"
      ],
      "execution_count": 0,
      "outputs": [
        {
          "output_type": "stream",
          "text": [
            "Epoch 1/10\n",
            "625/625 [==============================] - 102s 163ms/step - loss: 1.1560 - accuracy: 0.6346 - val_loss: 0.7975 - val_accuracy: 0.7812\n",
            "Epoch 2/10\n",
            "625/625 [==============================] - 99s 158ms/step - loss: 0.6219 - accuracy: 0.8308 - val_loss: 0.5563 - val_accuracy: 0.8208\n",
            "Epoch 3/10\n",
            "625/625 [==============================] - 99s 158ms/step - loss: 0.4679 - accuracy: 0.8543 - val_loss: 0.4609 - val_accuracy: 0.8417\n",
            "Epoch 4/10\n",
            "625/625 [==============================] - 99s 158ms/step - loss: 0.3440 - accuracy: 0.8975 - val_loss: 0.4346 - val_accuracy: 0.8365\n",
            "Epoch 5/10\n",
            "625/625 [==============================] - 99s 159ms/step - loss: 0.2993 - accuracy: 0.9114 - val_loss: 0.4096 - val_accuracy: 0.8417\n",
            "Epoch 6/10\n",
            "625/625 [==============================] - 99s 159ms/step - loss: 0.2660 - accuracy: 0.9229 - val_loss: 0.4166 - val_accuracy: 0.8510\n",
            "Epoch 7/10\n",
            "625/625 [==============================] - 100s 159ms/step - loss: 0.2333 - accuracy: 0.9366 - val_loss: 0.4332 - val_accuracy: 0.8385\n",
            "Epoch 8/10\n",
            "625/625 [==============================] - 100s 160ms/step - loss: 0.2159 - accuracy: 0.9425 - val_loss: 0.4274 - val_accuracy: 0.8542\n",
            "Epoch 9/10\n",
            "625/625 [==============================] - 100s 160ms/step - loss: 0.2079 - accuracy: 0.9444 - val_loss: 0.4697 - val_accuracy: 0.8448\n",
            "Epoch 10/10\n",
            "625/625 [==============================] - 99s 159ms/step - loss: 0.2026 - accuracy: 0.9464 - val_loss: 0.4379 - val_accuracy: 0.8417\n"
          ],
          "name": "stdout"
        }
      ]
    },
    {
      "cell_type": "code",
      "metadata": {
        "colab_type": "code",
        "id": "HpyWDFJ3r4GX",
        "outputId": "49ab797e-3ec8-408f-ba66-831762d4a4cb",
        "colab": {
          "base_uri": "https://localhost:8080/",
          "height": 51
        }
      },
      "source": [
        "test_loss, test_accuracy = model_v3.evaluate(test_batches, verbose=0)\n",
        "\n",
        "print('Test Loss: {}'.format(test_loss))\n",
        "print('Test Accuracy: {}'.format(test_accuracy))"
      ],
      "execution_count": 0,
      "outputs": [
        {
          "output_type": "stream",
          "text": [
            "Test Loss: 0.4889533096433753\n",
            "Test Accuracy: 0.8298799991607666\n"
          ],
          "name": "stdout"
        }
      ]
    },
    {
      "cell_type": "code",
      "metadata": {
        "colab_type": "code",
        "outputId": "12ae43be-7399-4a9d-a375-1c87bc499c92",
        "id": "UYT9zs1nUSJE",
        "colab": {
          "base_uri": "https://localhost:8080/",
          "height": 377
        }
      },
      "source": [
        "model_v4.compile(loss='binary_crossentropy',\n",
        "                 optimizer=tf.keras.optimizers.Adam(1e-4),\n",
        "                 metrics=['accuracy'])\n",
        "\n",
        "results['v4'] = model_v4.fit(train_batches, epochs=EPOCHS,\n",
        "                             validation_data=validation_batches,\n",
        "                             validation_steps=VAL_STEPS)"
      ],
      "execution_count": 0,
      "outputs": [
        {
          "output_type": "stream",
          "text": [
            "Epoch 1/10\n",
            "625/625 [==============================] - 103s 164ms/step - loss: 0.6812 - accuracy: 0.5815 - val_loss: 0.6955 - val_accuracy: 0.5771\n",
            "Epoch 2/10\n",
            "625/625 [==============================] - 99s 159ms/step - loss: 0.5289 - accuracy: 0.7500 - val_loss: 0.4557 - val_accuracy: 0.8396\n",
            "Epoch 3/10\n",
            "625/625 [==============================] - 99s 158ms/step - loss: 0.4183 - accuracy: 0.8394 - val_loss: 0.4799 - val_accuracy: 0.8042\n",
            "Epoch 4/10\n",
            "625/625 [==============================] - 99s 159ms/step - loss: 0.4097 - accuracy: 0.8404 - val_loss: 0.4222 - val_accuracy: 0.8448\n",
            "Epoch 5/10\n",
            "625/625 [==============================] - 99s 158ms/step - loss: 0.3640 - accuracy: 0.8672 - val_loss: 0.4134 - val_accuracy: 0.8313\n",
            "Epoch 6/10\n",
            "625/625 [==============================] - 99s 159ms/step - loss: 0.3414 - accuracy: 0.8766 - val_loss: 0.4220 - val_accuracy: 0.8562\n",
            "Epoch 7/10\n",
            "625/625 [==============================] - 100s 160ms/step - loss: 0.3391 - accuracy: 0.8759 - val_loss: 0.3884 - val_accuracy: 0.8531\n",
            "Epoch 8/10\n",
            "625/625 [==============================] - 100s 159ms/step - loss: 0.2990 - accuracy: 0.8968 - val_loss: 0.3746 - val_accuracy: 0.8594\n",
            "Epoch 9/10\n",
            "625/625 [==============================] - 99s 159ms/step - loss: 0.2979 - accuracy: 0.8988 - val_loss: 0.3669 - val_accuracy: 0.8625\n",
            "Epoch 10/10\n",
            "625/625 [==============================] - 100s 160ms/step - loss: 0.2720 - accuracy: 0.9078 - val_loss: 0.3521 - val_accuracy: 0.8760\n"
          ],
          "name": "stdout"
        }
      ]
    },
    {
      "cell_type": "code",
      "metadata": {
        "colab_type": "code",
        "outputId": "5f2a41b3-95d4-419e-a3ba-f28c5266e72e",
        "id": "kPRJ4t2bUVOs",
        "colab": {
          "base_uri": "https://localhost:8080/",
          "height": 51
        }
      },
      "source": [
        "test_loss, test_accuracy = model_v4.evaluate(test_batches, verbose=0)\n",
        "\n",
        "print('Test Loss: {}'.format(test_loss))\n",
        "print('Test Accuracy: {}'.format(test_accuracy))"
      ],
      "execution_count": 0,
      "outputs": [
        {
          "output_type": "stream",
          "text": [
            "Test Loss: 0.3944591299709304\n",
            "Test Accuracy: 0.8549200296401978\n"
          ],
          "name": "stdout"
        }
      ]
    },
    {
      "cell_type": "code",
      "metadata": {
        "id": "pXxx3IUiZiGZ",
        "colab_type": "code",
        "colab": {}
      },
      "source": [
        "import matplotlib.pyplot as plt\n",
        "\n",
        "def plot_metrics(training_results):\n",
        "\n",
        "    training_dict = training_results.history\n",
        "\n",
        "    acc = training_dict['accuracy']\n",
        "    val_acc = training_dict['val_accuracy']\n",
        "    loss = training_dict['loss']\n",
        "    val_loss = training_dict['val_loss']\n",
        "\n",
        "    epochs = range(1, EPOCHS + 1)\n",
        "\n",
        "    plt.figure(figsize=(14, 5))\n",
        "\n",
        "    plt.subplot(1, 2, 1)\n",
        "    plt.plot(epochs, loss, 'b', label='Training loss')\n",
        "    plt.plot(epochs, val_loss, 'r', label='Validation loss')\n",
        "    plt.title('Training and validation loss')\n",
        "    plt.xlabel('Epochs')\n",
        "    plt.ylabel('Loss')\n",
        "    plt.legend()\n",
        "    \n",
        "    plt.subplot(1, 2, 2)\n",
        "    plt.plot(epochs, acc, 'b', label='Training accuracy')\n",
        "    plt.plot(epochs, val_acc, 'r', label='Validation accuracy')\n",
        "    plt.title('Training and validation accuracy')\n",
        "    plt.xlabel('Epochs')\n",
        "    plt.ylabel('Accuracy')\n",
        "    plt.legend()\n",
        "\n",
        "    plt.show()"
      ],
      "execution_count": 0,
      "outputs": []
    },
    {
      "cell_type": "code",
      "metadata": {
        "id": "W8dT3ACVsgq1",
        "colab_type": "code",
        "outputId": "93543ff4-b4e4-4d46-a73f-4648bcddef9a",
        "colab": {
          "base_uri": "https://localhost:8080/",
          "height": 350
        }
      },
      "source": [
        "plot_metrics(results['v1'])"
      ],
      "execution_count": 0,
      "outputs": [
        {
          "output_type": "display_data",
          "data": {
            "image/png": "[encoded data removed]",
            "text/plain": [
              "<Figure size 1008x360 with 2 Axes>"
            ]
          },
          "metadata": {
            "tags": []
          }
        }
      ]
    },
    {
      "cell_type": "code",
      "metadata": {
        "id": "zkStNtdNskng",
        "colab_type": "code",
        "outputId": "28fdb5c3-08bb-4e8f-a431-f0852470cb1e",
        "colab": {
          "base_uri": "https://localhost:8080/",
          "height": 350
        }
      },
      "source": [
        "plot_metrics(results['v2'])"
      ],
      "execution_count": 0,
      "outputs": [
        {
          "output_type": "display_data",
          "data": {
            "image/png": "[encoded data removed]",
            "text/plain": [
              "<Figure size 1008x360 with 2 Axes>"
            ]
          },
          "metadata": {
            "tags": []
          }
        }
      ]
    },
    {
      "cell_type": "code",
      "metadata": {
        "id": "dtc0Du05snU9",
        "colab_type": "code",
        "outputId": "03f30668-6bf8-4a53-e0b0-0224f7e18ed5",
        "colab": {
          "base_uri": "https://localhost:8080/",
          "height": 350
        }
      },
      "source": [
        "plot_metrics(results['v3'])"
      ],
      "execution_count": 0,
      "outputs": [
        {
          "output_type": "display_data",
          "data": {
            "image/png": "[encoded data removed]",
            "text/plain": [
              "<Figure size 1008x360 with 2 Axes>"
            ]
          },
          "metadata": {
            "tags": []
          }
        }
      ]
    },
    {
      "cell_type": "code",
      "metadata": {
        "id": "JNLROjxuVS4J",
        "colab_type": "code",
        "outputId": "19989785-5d84-4259-e442-cca1abc542d1",
        "colab": {
          "base_uri": "https://localhost:8080/",
          "height": 350
        }
      },
      "source": [
        "plot_metrics(results['v4'])"
      ],
      "execution_count": 0,
      "outputs": [
        {
          "output_type": "display_data",
          "data": {
            "image/png": "[encoded data removed]",
            "text/plain": [
              "<Figure size 1008x360 with 2 Axes>"
            ]
          },
          "metadata": {
            "tags": []
          }
        }
      ]
    },
    {
      "cell_type": "markdown",
      "metadata": {
        "id": "_xgGQv1rK0TL",
        "colab_type": "text"
      },
      "source": [
        "References\n",
        "\n",
        "[1] RNNs and Language Models ([slides](https://web.stanford.edu/class/archive/cs/cs224n/cs224n.1194/slides/cs224n-2019-lecture06-rnnlm.pdf)) ([video](https://youtu.be/iWea12EAu6U)). CS224n: NLP with Deep Learning (2019), Stanford University\n",
        "\n",
        "[2] Vanishing Gradients and Fancy RNNs ([slides](https://web.stanford.edu/class/archive/cs/cs224n/cs224n.1194/slides/cs224n-2019-lecture07-fancy-rnn.pdf)) ([video](https://youtu.be/QEw0qEa0E50)). CS224n: NLP with Deep Learning (2019), Stanford University\n",
        "\n",
        "[3] Deep Learning ([online version](https://www.deeplearningbook.org/)). Ian Goodfellow, Yoshua Bengio, AAron Courville"
      ]
    }
  ]
}