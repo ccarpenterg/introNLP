{
  "nbformat": 4,
  "nbformat_minor": 0,
  "metadata": {
    "colab": {
      "name": "03a_NLP_and_recurrent_neural_networks.ipynb",
      "provenance": [],
      "toc_visible": true,
      "authorship_tag": "ABX9TyNNcedlgo+viLaa5cch+RFi",
      "include_colab_link": true
    },
    "kernelspec": {
      "name": "python3",
      "display_name": "Python 3"
    },
    "accelerator": "GPU"
  },
  "cells": [
    {
      "cell_type": "markdown",
      "metadata": {
        "id": "view-in-github",
        "colab_type": "text"
      },
      "source": [
        "<a href=\"https://colab.research.google.com/github/ccarpenterg/introNLP/blob/master/03a_NLP_and_recurrent_neural_networks.ipynb\" target=\"_parent\"><img src=\"https://colab.research.google.com/assets/colab-badge.svg\" alt=\"Open In Colab\"/></a>"
      ]
    },
    {
      "cell_type": "markdown",
      "metadata": {
        "id": "xAJlYbWTNvHd",
        "colab_type": "text"
      },
      "source": [
        "# NLP and Recurrent Neural Networks"
      ]
    },
    {
      "cell_type": "code",
      "metadata": {
        "id": "8sXrfA8cNfJA",
        "colab_type": "code",
        "outputId": "9d8fd32d-df52-4505-ee3e-f14a9fadc22e",
        "colab": {
          "base_uri": "https://localhost:8080/",
          "height": 51
        }
      },
      "source": [
        "# load Tensorflow 2\n",
        "%tensorflow_version 2.x\n",
        "import tensorflow as tf\n",
        "\n",
        "from tensorflow import keras\n",
        "\n",
        "import tensorflow_datasets as tfds\n",
        "import numpy as np\n",
        "\n",
        "print(tf.__version__)"
      ],
      "execution_count": 1,
      "outputs": [
        {
          "output_type": "stream",
          "text": [
            "TensorFlow 2.x selected.\n",
            "2.1.0-rc1\n"
          ],
          "name": "stdout"
        }
      ]
    },
    {
      "cell_type": "code",
      "metadata": {
        "id": "OfcdpXg0OYRR",
        "colab_type": "code",
        "colab": {}
      },
      "source": [
        "train_validation_split = tfds.Split.TRAIN.subsplit([8, 2])\n",
        "\n",
        "(train_validation_data, test_data), info = tfds.load(\n",
        "    'imdb_reviews/subwords8k',\n",
        "    split = (train_validation_split, tfds.Split.TEST),\n",
        "    as_supervised=True,\n",
        "    with_info=True\n",
        ")\n",
        "\n",
        "train_data, validation_data = train_validation_data"
      ],
      "execution_count": 0,
      "outputs": []
    },
    {
      "cell_type": "code",
      "metadata": {
        "id": "zjac4DW_PTZ0",
        "colab_type": "code",
        "colab": {}
      },
      "source": [
        "encoder = info.features['text'].encoder"
      ],
      "execution_count": 0,
      "outputs": []
    },
    {
      "cell_type": "code",
      "metadata": {
        "id": "8d8VVXDBnKa5",
        "colab_type": "code",
        "colab": {}
      },
      "source": [
        "BUFFER_SIZE = 5000\n",
        "BATCH_SIZE = 32\n",
        "\n",
        "train_batches = (\n",
        "    train_data\n",
        "    .shuffle(BUFFER_SIZE)\n",
        "    .padded_batch(BATCH_SIZE, tf.compat.v1.data.get_output_shapes(train_data))\n",
        ")\n",
        "\n",
        "validation_batches = (\n",
        "    validation_data\n",
        "    .padded_batch(BATCH_SIZE, tf.compat.v1.data.get_output_shapes(validation_data))\n",
        ")\n",
        "\n",
        "test_batches = (\n",
        "    test_data\n",
        "    .padded_batch(BATCH_SIZE, tf.compat.v1.data.get_output_shapes(test_data))\n",
        ")"
      ],
      "execution_count": 0,
      "outputs": []
    },
    {
      "cell_type": "code",
      "metadata": {
        "id": "kaNuisK1sCcY",
        "colab_type": "code",
        "outputId": "d1d99c34-7593-40a1-ea11-94e867c71c19",
        "colab": {
          "base_uri": "https://localhost:8080/",
          "height": 85
        }
      },
      "source": [
        "for batch_example, labels in train_batches.take(2):\n",
        "    print(\"Batch shape:\", batch_example.shape)\n",
        "    print(\"Labels shape:\", labels.shape)"
      ],
      "execution_count": 5,
      "outputs": [
        {
          "output_type": "stream",
          "text": [
            "Batch shape: (32, 1265)\n",
            "Labels shape: (32,)\n",
            "Batch shape: (32, 955)\n",
            "Labels shape: (32,)\n"
          ],
          "name": "stdout"
        }
      ]
    },
    {
      "cell_type": "code",
      "metadata": {
        "id": "kF5tNlgJPZZI",
        "colab_type": "code",
        "outputId": "74f49973-35a2-4709-bfa3-1ec719e47d88",
        "colab": {
          "base_uri": "https://localhost:8080/",
          "height": 289
        }
      },
      "source": [
        "model = tf.keras.Sequential([\n",
        "    tf.keras.layers.Embedding(encoder.vocab_size, 64),\n",
        "    tf.keras.layers.Bidirectional(tf.keras.layers.LSTM(64)),\n",
        "    tf.keras.layers.Dense(64, activation='relu'),\n",
        "    tf.keras.layers.Dense(1, activation='sigmoid')\n",
        "])\n",
        "\n",
        "model.summary()"
      ],
      "execution_count": 6,
      "outputs": [
        {
          "output_type": "stream",
          "text": [
            "Model: \"sequential\"\n",
            "_________________________________________________________________\n",
            "Layer (type)                 Output Shape              Param #   \n",
            "=================================================================\n",
            "embedding (Embedding)        (None, None, 64)          523840    \n",
            "_________________________________________________________________\n",
            "bidirectional (Bidirectional (None, 128)               66048     \n",
            "_________________________________________________________________\n",
            "dense (Dense)                (None, 64)                8256      \n",
            "_________________________________________________________________\n",
            "dense_1 (Dense)              (None, 1)                 65        \n",
            "=================================================================\n",
            "Total params: 598,209\n",
            "Trainable params: 598,209\n",
            "Non-trainable params: 0\n",
            "_________________________________________________________________\n"
          ],
          "name": "stdout"
        }
      ]
    },
    {
      "cell_type": "code",
      "metadata": {
        "id": "FroL56-EP8XD",
        "colab_type": "code",
        "colab": {}
      },
      "source": [
        "model.compile(loss='binary_crossentropy',\n",
        "              optimizer=tf.keras.optimizers.Adam(1e-4),\n",
        "              metrics=['accuracy'])"
      ],
      "execution_count": 0,
      "outputs": []
    },
    {
      "cell_type": "code",
      "metadata": {
        "id": "ndsdSbe5QyQP",
        "colab_type": "code",
        "outputId": "b6c64ddf-5d5b-49ba-de0d-d14704f4f4a3",
        "colab": {
          "base_uri": "https://localhost:8080/",
          "height": 377
        }
      },
      "source": [
        "training_results = model.fit(train_batches, epochs=10,\n",
        "                             validation_data=validation_batches,\n",
        "                             validation_steps=30)"
      ],
      "execution_count": 8,
      "outputs": [
        {
          "output_type": "stream",
          "text": [
            "Epoch 1/10\n",
            "625/625 [==============================] - 62s 100ms/step - loss: 0.6195 - accuracy: 0.6342 - val_loss: 0.4606 - val_accuracy: 0.8188\n",
            "Epoch 2/10\n",
            "625/625 [==============================] - 54s 87ms/step - loss: 0.3381 - accuracy: 0.8641 - val_loss: 0.3261 - val_accuracy: 0.8594\n",
            "Epoch 3/10\n",
            "625/625 [==============================] - 54s 86ms/step - loss: 0.2553 - accuracy: 0.9044 - val_loss: 0.2912 - val_accuracy: 0.8760\n",
            "Epoch 4/10\n",
            "625/625 [==============================] - 54s 86ms/step - loss: 0.2072 - accuracy: 0.9272 - val_loss: 0.2940 - val_accuracy: 0.8927\n",
            "Epoch 5/10\n",
            "625/625 [==============================] - 54s 87ms/step - loss: 0.1760 - accuracy: 0.9394 - val_loss: 0.3366 - val_accuracy: 0.8802\n",
            "Epoch 6/10\n",
            "625/625 [==============================] - 54s 87ms/step - loss: 0.1521 - accuracy: 0.9506 - val_loss: 0.3286 - val_accuracy: 0.8708\n",
            "Epoch 7/10\n",
            "625/625 [==============================] - 55s 87ms/step - loss: 0.1373 - accuracy: 0.9556 - val_loss: 0.3605 - val_accuracy: 0.8802\n",
            "Epoch 8/10\n",
            "625/625 [==============================] - 54s 87ms/step - loss: 0.1182 - accuracy: 0.9614 - val_loss: 0.3894 - val_accuracy: 0.8813\n",
            "Epoch 9/10\n",
            "625/625 [==============================] - 54s 87ms/step - loss: 0.1025 - accuracy: 0.9704 - val_loss: 0.4318 - val_accuracy: 0.8687\n",
            "Epoch 10/10\n",
            "625/625 [==============================] - 54s 86ms/step - loss: 0.1043 - accuracy: 0.9686 - val_loss: 0.4493 - val_accuracy: 0.8625\n"
          ],
          "name": "stdout"
        }
      ]
    },
    {
      "cell_type": "code",
      "metadata": {
        "id": "6dZEB3n3Ra4V",
        "colab_type": "code",
        "outputId": "04e6c47a-afe9-4dbe-e549-e80481f71709",
        "colab": {
          "base_uri": "https://localhost:8080/",
          "height": 51
        }
      },
      "source": [
        "test_loss, test_accuracy = model.evaluate(test_batches)\n",
        "\n",
        "print('Test Loss: {}'.format(test_loss))\n",
        "print('Test Accuracy: {}'.format(test_accuracy))"
      ],
      "execution_count": 9,
      "outputs": [
        {
          "output_type": "stream",
          "text": [
            "    782/Unknown - 28s 36ms/step - loss: 0.5074 - accuracy: 0.8484Test Loss: 0.5073933505245944\n",
            "Test Accuracy: 0.8484399914741516\n"
          ],
          "name": "stdout"
        }
      ]
    },
    {
      "cell_type": "code",
      "metadata": {
        "id": "VO7RoYPWY9C8",
        "colab_type": "code",
        "outputId": "e038d383-b93a-4556-8efa-b66aa2e67540",
        "colab": {
          "base_uri": "https://localhost:8080/",
          "height": 34
        }
      },
      "source": [
        "training_dict = training_results.history\n",
        "training_dict.keys()"
      ],
      "execution_count": 10,
      "outputs": [
        {
          "output_type": "execute_result",
          "data": {
            "text/plain": [
              "dict_keys(['loss', 'accuracy', 'val_loss', 'val_accuracy'])"
            ]
          },
          "metadata": {
            "tags": []
          },
          "execution_count": 10
        }
      ]
    },
    {
      "cell_type": "code",
      "metadata": {
        "id": "pXxx3IUiZiGZ",
        "colab_type": "code",
        "outputId": "322440a6-ad58-417a-8fb8-68219b54e742",
        "colab": {
          "base_uri": "https://localhost:8080/",
          "height": 573
        }
      },
      "source": [
        "import matplotlib.pyplot as plt\n",
        "\n",
        "acc = training_dict['accuracy']\n",
        "val_acc = training_dict['val_accuracy']\n",
        "loss = training_dict['loss']\n",
        "val_loss = training_dict['val_loss']\n",
        "\n",
        "epochs = range(1, 10 + 1)\n",
        "\n",
        "plt.plot(epochs, loss, 'r', label='Training loss')\n",
        "plt.plot(epochs, val_loss, 'b', label='Validation loss')\n",
        "plt.title('Training and validation loss')\n",
        "plt.xlabel('Epochs')\n",
        "plt.ylabel('Loss')\n",
        "plt.legend()\n",
        "\n",
        "plt.figure()\n",
        "\n",
        "plt.plot(epochs, acc, 'r', label='Training accuracy')\n",
        "plt.plot(epochs, val_acc, 'b', label='Validation accuracy')\n",
        "plt.title('Training and validation accuracy')\n",
        "plt.xlabel('Epochs')\n",
        "plt.ylabel('Accuracy')\n",
        "plt.legend()\n",
        "\n",
        "plt.show()\n"
      ],
      "execution_count": 11,
      "outputs": [
        {
          "output_type": "display_data",
          "data": {
            "image/png": "[encoded data removed]",
            "text/plain": [
              "<Figure size 432x288 with 1 Axes>"
            ]
          },
          "metadata": {
            "tags": []
          }
        },
        {
          "output_type": "display_data",
          "data": {
            "image/png": "[encoded data removed]",
            "text/plain": [
              "<Figure size 432x288 with 1 Axes>"
            ]
          },
          "metadata": {
            "tags": []
          }
        }
      ]
    }
  ]
}