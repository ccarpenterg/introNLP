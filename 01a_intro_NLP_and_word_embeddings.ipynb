{
  "nbformat": 4,
  "nbformat_minor": 0,
  "metadata": {
    "colab": {
      "name": "01a_intro_NLP_and_word_embeddings.ipynb",
      "provenance": [],
      "toc_visible": true,
      "include_colab_link": true
    },
    "kernelspec": {
      "name": "python3",
      "display_name": "Python 3"
    },
    "accelerator": "GPU"
  },
  "cells": [
    {
      "cell_type": "markdown",
      "metadata": {
        "id": "view-in-github",
        "colab_type": "text"
      },
      "source": [
        "<a href=\"https://colab.research.google.com/github/ccarpenterg/introNLP/blob/master/01a_intro_NLP_and_word_embeddings.ipynb\" target=\"_parent\"><img src=\"https://colab.research.google.com/assets/colab-badge.svg\" alt=\"Open In Colab\"/></a>"
      ]
    },
    {
      "cell_type": "markdown",
      "metadata": {
        "id": "wTveffOPrERD",
        "colab_type": "text"
      },
      "source": [
        "# Introduction to Natural Language Processing and Word Embeddings\n",
        "\n"
      ]
    },
    {
      "cell_type": "code",
      "metadata": {
        "id": "4K0xL4QmfkOg",
        "colab_type": "code",
        "colab": {}
      },
      "source": [
        "!pip install spacy==2.2.3\n",
        "!python -m spacy download en_core_web_sm"
      ],
      "execution_count": 0,
      "outputs": []
    },
    {
      "cell_type": "code",
      "metadata": {
        "id": "JrxR2RE-Rtin",
        "colab_type": "code",
        "colab": {}
      },
      "source": [
        "import spacy\n",
        "\n",
        "nlp_en = spacy.load('en_core_web_sm')"
      ],
      "execution_count": 0,
      "outputs": []
    },
    {
      "cell_type": "markdown",
      "metadata": {
        "id": "cNHVJ8ELRAwt",
        "colab_type": "text"
      },
      "source": [
        "### Part-of-Speech Tagging"
      ]
    },
    {
      "cell_type": "code",
      "metadata": {
        "id": "FennpZGGR4ny",
        "colab_type": "code",
        "outputId": "9cd54846-e066-4702-fb21-90917c38ff18",
        "colab": {
          "base_uri": "https://localhost:8080/",
          "height": 153
        }
      },
      "source": [
        "doc = nlp_en(\"Many Japanese children refuse to go to school\")\n",
        "\n",
        "for token in doc:\n",
        "    print(token.text, token.pos_, token.tag_)"
      ],
      "execution_count": 0,
      "outputs": [
        {
          "output_type": "stream",
          "text": [
            "Many ADJ JJ\n",
            "Japanese ADJ JJ\n",
            "children NOUN NNS\n",
            "refuse VERB VBP\n",
            "to PART TO\n",
            "go VERB VB\n",
            "to ADP IN\n",
            "school NOUN NN\n"
          ],
          "name": "stdout"
        }
      ]
    },
    {
      "cell_type": "markdown",
      "metadata": {
        "id": "GQyL798YZ7fG",
        "colab_type": "text"
      },
      "source": [
        "### Sentence Boundary Disambiguation"
      ]
    },
    {
      "cell_type": "code",
      "metadata": {
        "id": "KzZSKEtra8yt",
        "colab_type": "code",
        "outputId": "f429820f-cbe6-454a-bfb2-f07ef256bf77",
        "colab": {
          "base_uri": "https://localhost:8080/",
          "height": 51
        }
      },
      "source": [
        "doc = nlp_en('Multi-agent planning uses the cooperation and competition of many agents to achieve a given goal. Emergent behavior such as this is used by evolutionary algorithms and swarm intelligence.')\n",
        "\n",
        "for sent in doc.sents:\n",
        "    print(sent)"
      ],
      "execution_count": 0,
      "outputs": [
        {
          "output_type": "stream",
          "text": [
            "Multi-agent planning uses the cooperation and competition of many agents to achieve a given goal.\n",
            "Emergent behavior such as this is used by evolutionary algorithms and swarm intelligence.\n"
          ],
          "name": "stdout"
        }
      ]
    },
    {
      "cell_type": "code",
      "metadata": {
        "id": "Qoqhte2ubyvY",
        "colab_type": "code",
        "outputId": "4e66141d-9beb-4c0b-8a00-4d906fa9517d",
        "colab": {
          "base_uri": "https://localhost:8080/",
          "height": 54
        }
      },
      "source": [
        "text = (\"Facebook, Inc. is an American social media and technology company\"\n",
        "        \" based in Menlo Park, California.\")\n",
        "\n",
        "doc = nlp_en(text)\n",
        "\n",
        "for key, sent in enumerate(doc.sents):\n",
        "    print(key, sent)"
      ],
      "execution_count": 0,
      "outputs": [
        {
          "output_type": "stream",
          "text": [
            "0 Facebook, Inc. is an American social media and technology company based in Menlo Park, California.\n"
          ],
          "name": "stdout"
        }
      ]
    },
    {
      "cell_type": "markdown",
      "metadata": {
        "id": "gNPEDf8kap14",
        "colab_type": "text"
      },
      "source": [
        "### SpaCy's Language Support"
      ]
    },
    {
      "cell_type": "code",
      "metadata": {
        "id": "Auko6O3bay3l",
        "colab_type": "code",
        "colab": {}
      },
      "source": [
        "!python -m spacy download pt_core_news_sm"
      ],
      "execution_count": 0,
      "outputs": []
    },
    {
      "cell_type": "code",
      "metadata": {
        "id": "hekmT-vEbBzw",
        "colab_type": "code",
        "colab": {}
      },
      "source": [
        "import pt_core_news_sm as language_pt\n",
        "\n",
        "nlp_pt = language_pt.load()"
      ],
      "execution_count": 0,
      "outputs": []
    },
    {
      "cell_type": "code",
      "metadata": {
        "id": "rHMsGUUZbttg",
        "colab_type": "code",
        "outputId": "8f2dd746-e192-4146-efb3-ef140eb4e020",
        "colab": {
          "base_uri": "https://localhost:8080/",
          "height": 221
        }
      },
      "source": [
        "doc = nlp_pt(\"China anuncia redução de tarifas de importação de mais de 850 produtos\")\n",
        "\n",
        "for token in doc:\n",
        "    print(token.text, token.pos_)"
      ],
      "execution_count": 0,
      "outputs": [
        {
          "output_type": "stream",
          "text": [
            "China PROPN\n",
            "anuncia VERB\n",
            "redução NOUN\n",
            "de ADP\n",
            "tarifas NOUN\n",
            "de ADP\n",
            "importação NOUN\n",
            "de ADP\n",
            "mais ADV\n",
            "de ADP\n",
            "850 NUM\n",
            "produtos SYM\n"
          ],
          "name": "stdout"
        }
      ]
    },
    {
      "cell_type": "markdown",
      "metadata": {
        "id": "kUiiACRjrWCK",
        "colab_type": "text"
      },
      "source": [
        "## Word Embeddings"
      ]
    },
    {
      "cell_type": "code",
      "metadata": {
        "id": "gThipB1sqg-R",
        "colab_type": "code",
        "colab": {}
      },
      "source": [
        "!python -m spacy download en_core_web_lg"
      ],
      "execution_count": 0,
      "outputs": []
    },
    {
      "cell_type": "code",
      "metadata": {
        "id": "8OIjZjJAvtOu",
        "colab_type": "code",
        "colab": {}
      },
      "source": [
        "import en_core_web_lg as model\n"
      ],
      "execution_count": 0,
      "outputs": []
    },
    {
      "cell_type": "code",
      "metadata": {
        "id": "jOq5XetHiVNQ",
        "colab_type": "code",
        "colab": {}
      },
      "source": [
        "spacy.cli.download('en_core_web_lg')"
      ],
      "execution_count": 0,
      "outputs": []
    },
    {
      "cell_type": "code",
      "metadata": {
        "id": "NjfnrDjS1Ue7",
        "colab_type": "code",
        "colab": {}
      },
      "source": [
        "nlp = spacy.load('en_core_web_lg')"
      ],
      "execution_count": 0,
      "outputs": []
    },
    {
      "cell_type": "code",
      "metadata": {
        "id": "qOz_-bq9rr0F",
        "colab_type": "code",
        "colab": {}
      },
      "source": [
        "nlp = model.load()"
      ],
      "execution_count": 0,
      "outputs": []
    },
    {
      "cell_type": "code",
      "metadata": {
        "id": "Yp_Yygrzjnl9",
        "colab_type": "code",
        "outputId": "945ac824-283c-4d58-eade-ba2b4fc91280",
        "colab": {
          "base_uri": "https://localhost:8080/",
          "height": 68
        }
      },
      "source": [
        "tokens = nlp(\"dog banana chuta\")\n",
        "\n",
        "for token in tokens:\n",
        "    print(token.text, token.has_vector, token.vector_norm, token.is_oov)"
      ],
      "execution_count": 0,
      "outputs": [
        {
          "output_type": "stream",
          "text": [
            "dog True 7.0336733 False\n",
            "banana True 6.700014 False\n",
            "chuta False 0.0 True\n"
          ],
          "name": "stdout"
        }
      ]
    },
    {
      "cell_type": "code",
      "metadata": {
        "id": "4mT7vTHHogHf",
        "colab_type": "code",
        "outputId": "8988da30-e853-40f4-85dd-efe8c8b5e443",
        "colab": {
          "base_uri": "https://localhost:8080/",
          "height": 51
        }
      },
      "source": [
        "print(nlp.vocab['banana'].vector.shape)\n",
        "print(nlp.vocab['banana'].vector[:5])"
      ],
      "execution_count": 0,
      "outputs": [
        {
          "output_type": "stream",
          "text": [
            "(300,)\n",
            "[ 0.20228  -0.076618  0.37032   0.032845 -0.41957 ]\n"
          ],
          "name": "stdout"
        }
      ]
    },
    {
      "cell_type": "code",
      "metadata": {
        "id": "2nrwLAYeLVsn",
        "colab_type": "code",
        "outputId": "dd614e80-7676-4047-d484-266c1b9ef97f",
        "colab": {
          "base_uri": "https://localhost:8080/",
          "height": 34
        }
      },
      "source": [
        "word1 = nlp.vocab['country']\n",
        "word2 = nlp.vocab['nation']\n",
        "\n",
        "print(word1.similarity(word2))"
      ],
      "execution_count": 0,
      "outputs": [
        {
          "output_type": "stream",
          "text": [
            "0.7488121\n"
          ],
          "name": "stdout"
        }
      ]
    },
    {
      "cell_type": "code",
      "metadata": {
        "id": "0HlPfnAdjPW6",
        "colab_type": "code",
        "outputId": "42a2b6a8-4114-44c4-df1a-6bd949ddf0c9",
        "colab": {
          "base_uri": "https://localhost:8080/",
          "height": 173
        }
      },
      "source": [
        "import numpy as np\n",
        "\n",
        "queries = np.array([word1.vector])\n",
        "\n",
        "most_similar = nlp.vocab.vectors.most_similar(queries, n=10)\n",
        "\n",
        "print(most_similar)\n",
        "\n",
        "print(most_similar[0].shape)\n",
        "\n",
        "key0 = most_similar[0].item((0, 9))\n",
        "\n",
        "#print(key0)\n",
        "\n",
        "nlp.vocab.strings[key0]"
      ],
      "execution_count": 0,
      "outputs": [
        {
          "output_type": "stream",
          "text": [
            "(array([[14089949856107250945, 12290671265767728302,  4000319556510314152,\n",
            "        12410946551316419195,  4185035456824371994,  4877621044794520897,\n",
            "        11647056933970380037, 13957816561748780037,  2988880774438019688,\n",
            "         1499857299936515533]], dtype=uint64), array([[ 9700,   514, 35589, 68168, 11937,  2287, 23526,  1076, 96257,\n",
            "         3709]], dtype=int32), array([[1.    , 1.    , 1.    , 0.7488, 0.7488, 0.7488, 0.7155, 0.7155,\n",
            "        0.7155, 0.6419]], dtype=float32))\n",
            "(1, 10)\n"
          ],
          "name": "stdout"
        },
        {
          "output_type": "execute_result",
          "data": {
            "text/plain": [
              "'nations'"
            ]
          },
          "metadata": {
            "tags": []
          },
          "execution_count": 11
        }
      ]
    },
    {
      "cell_type": "code",
      "metadata": {
        "id": "YjH6TYk31aqD",
        "colab_type": "code",
        "outputId": "2bd00449-b740-4f82-cd4d-9792cfa5b238",
        "colab": {
          "base_uri": "https://localhost:8080/",
          "height": 34
        }
      },
      "source": [
        "def most_similar(*words, n=1):\n",
        "    \n",
        "    lexs = [nlp.vocab[word].vector for word in words]\n",
        "    queries = np.array(lexs)\n",
        "    keys, best_rows, scores = nlp.vocab.vectors.most_similar(queries, n=n)\n",
        "\n",
        "    res = [nlp.vocab.strings[keys.item(0, key)] for key in range(keys.size)]\n",
        "\n",
        "    return res\n",
        "\n",
        "print(most_similar('cold', n=10))\n",
        "\n"
      ],
      "execution_count": 0,
      "outputs": [
        {
          "output_type": "stream",
          "text": [
            "['cOLD', 'COLD', 'Cold', 'cold', 'chilly', 'Chilly', 'CHILLY', 'WARM', 'warm', 'Warm']\n"
          ],
          "name": "stdout"
        }
      ]
    }
  ]
}